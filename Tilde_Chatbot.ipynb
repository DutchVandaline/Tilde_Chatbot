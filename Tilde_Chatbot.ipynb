{
 "cells": [
  {
   "cell_type": "markdown",
   "id": "ddc9736ecb767e03",
   "metadata": {
    "collapsed": false
   },
   "source": [
    "## POSTGRESQL 설치 방법\n",
    "처음 postgresql을 사용하는 경우, Psycopg2와 postgres를 설치하여 super user 선언 및 사용자 권한 부여를 진행해야함. 다만, 주피터 노트북에서 사용하는 경우 설치 및 실행 과정이 다름.\n",
    "\n",
    "- **Psycopg2-binary 설치**(PostgreSQL과 연결하는 Python Package)\n",
    "> ```bash\n",
    "> pip install psycopg2-binary\n",
    "> conda install -c conda-forge postgresql\n",
    "> psql --version\n",
    "> ```\n",
    "\n",
    "- **PSQL 설치** (PostgreSQL 그 자체)\n",
    "> ```bash\n",
    "> conda install -c conda-forge postgresql\n",
    ">```\n",
    "- 설치 완료 후 버전 확인\n",
    ">``` bash\n",
    "> (branchPJH) PS C:\\junha\\Tilde_Chatbot> conda list | findstr postgresql\n",
    "> postgresql                16.3                 h7f155c9_0    conda-forge\n",
    "> ```\n",
    " \n",
    "- **pgdata** 받아오기\n",
    "> ```bash\n",
    "> & \"C:\\Users\\overr\\anaconda3\\envs\\branchPJH\\Library\\bin\\initdb\" -D \"./pgdata\"\n",
    "> ...(log 중략)...\n",
    "> Success. You can now start the database server using:\n",
    ">\n",
    ">   \"C:\\Users\\overr\\anaconda3\\envs\\branchPJH\\Library\\bin\\pg_ctl\" -D \"./pgdata\" -l logfile start\n",
    "> ```\n",
    "실행 이후 해당 프로젝트 내부에 *pgdata* 디렉토리가 만들어졌는지 확인할 것."
   ]
  },
  {
   "cell_type": "markdown",
   "id": "92747cac01157d9f",
   "metadata": {
    "collapsed": false
   },
   "source": [
    "## POSTGRESQL 사용자 선언\n",
    "SQL을 사용하기 위헤서는 Super User와 하부 사용자가 필요. 여기서 Super User의 이름은 *postgres*로, 하부 사용자 이름은 *d519*로 설정. 먼저, 암호 코드 설정\n",
    "**1. 암호 파일 생성**\n",
    "> ```bash\n",
    "> echo \"d519\" > superuser_password.txt\n",
    "> ```\n",
    "\n",
    "**2. 오류 방지를 위해 기존의 **pgdata** 삭제 (삭제 안될 경우 파일 탐색기에서 pgdata파일 삭제)**\n",
    ">```bash\n",
    "> rmdir /s pgdata\n",
    "> ```\n",
    "\n",
    "**3. 새로 초기화**\n",
    "> ```bash\n",
    "> initdb -D ./pgdata --auth-local=md5 --auth-host=md5 --username=postgres --pwprompt\n",
    "> ```\n",
    "- 실행 시 로그\n",
    "> > ```bash\n",
    "> > (branchPJH) PS C:\\junha\\Tilde_Chatbot> initdb -D ./pgdata --auth-local=md5 --auth-host=md5 --username=postgres --pwprompt\n",
    "> > The files belonging to this database system will be owned by user \"overr\".\n",
    "> > This user must also own the server process.\n",
    "> > \n",
    "> > The database cluster will be initialized with locale \"Korean_Korea.949\".\n",
    "> > Encoding \"UHC\" implied by locale is not allowed as a server-side encoding.\n",
    "> > The default database encoding will be set to \"UTF8\" instead.\n",
    "> > initdb: could not find suitable text search configuration for locale \"Korean_Korea.949\"\n",
    "> > The default text search configuration will be set to \"simple\".\n",
    "> > \n",
    "> > Data page checksums are disabled.\n",
    "> > \n",
    "> > Enter new superuser password: \n",
    "> > Enter it again:\n",
    "> > \n",
    "> > creating directory pgdata ... ok\n",
    "> > creating subdirectories ... ok\n",
    "> > selecting dynamic shared memory implementation ... windows\n",
    "> > selecting default max_connections ... 100\n",
    "> > selecting default shared_buffers ... 128MB\n",
    "> > selecting default time zone ... Asia/Seoul\n",
    "> > creating configuration files ... ok\n",
    "> > running bootstrap script ... ok\n",
    "> > performing post-bootstrap initialization ... ok\n",
    "> > syncing data to disk ... ok\n",
    "> > \n",
    "> > Success. You can now start the database server using:\n",
    "> > \n",
    "> >     ^\"C^:^\\Users^\\overr^\\anaconda3^\\envs^\\branchPJH^\\Library^\\bin^\\pg^_ctl^\" -D ./pgdata -l logfile start\n",
    "> > ```\n",
    "   \n",
    "**4. `initdb` 명령 실행**\n",
    "> ```bash\n",
    "> & \"C:\\Users\\overr\\anaconda3\\envs\\branchPJH\\Library\\bin\\pg_ctl\" -D \"./pgdata\" -l \"logfile\" start\n",
    "> ```\n",
    "- 실행 시 로그\n",
    "> > ```bash\n",
    "> > waiting for server to start.... done\n",
    "> > server started\n",
    "> > ```"
   ]
  },
  {
   "cell_type": "markdown",
   "id": "498f755c8ff0e8dc",
   "metadata": {
    "collapsed": false
   },
   "source": [
    "# PostgreSQL 내부 작업\n",
    "\n",
    "**1. Postgres 실행 확인**\n",
    "> ```bash\n",
    "> (branchPJH) PS C:\\junha\\Tilde_Chatbot> netstat -an | Select-String \"5432\"\n",
    "> TCP    127.0.0.1:5432         0.0.0.0:0              LISTENING\n",
    "> TCP    [::1]:5432             [::]:0                 LISTENING\n",
    "> ```\n",
    "\n",
    "**2. 로그인**\n",
    "> ```bash\n",
    "> (branchPJH) PS C:\\junha\\Tilde_Chatbot> psql -U postgres -h localhost -p 5432\n",
    "> Password for user postgres: \n",
    "> psql (16.3)\n",
    "> Type \"help\" for help.\n",
    "> postgres=#\n",
    "> ```\n",
    "`postgres=#`가 나오면 로그인 성공.\n",
    "\n",
    "**3. User 추가**\n",
    "> ```bash\n",
    "> postgres=# CREATE ROLE d519 WITH LOGIN PASSWORD 'd519';\n",
    "> CREATE ROLE\n",
    "> ```\n",
    "\n",
    "**4. DB 선언**\n",
    "> ```bash\n",
    "> postgres=# CREATE DATABASE TildeChatBotDB; \n",
    "> CREATE DATABASE\n",
    "> postgres=# \\l\n",
    ">                                                                List of databases\n",
    ">       Name      |  Owner   | Encoding | Locale Provider |     Collate      |      Ctype       | ICU Locale | ICU Rules |   Access privileges\n",
    "> ----------------+----------+----------+-----------------+------------------+------------------+------------+-----------+-----------------------\n",
    ">  postgres       | postgres | UTF8     | libc            | Korean_Korea.949 | Korean_Korea.949 |            |           |\n",
    ">  template0      | postgres | UTF8     | libc            | Korean_Korea.949 | Korean_Korea.949 |            |           | =c/postgres          +\n",
    ">                 |          |          |                 |                  |                  |            |           | postgres=CTc/postgres\n",
    ">  template1      | postgres | UTF8     | libc            | Korean_Korea.949 | Korean_Korea.949 |            |           | =c/postgres          +\n",
    ">                 |          |          |                 |                  |                  |            |           | postgres=CTc/postgres\n",
    ">  tildechatbotdb | postgres | UTF8     | libc            | Korean_Korea.949 | Korean_Korea.949 |            |           |\n",
    "> (4 rows)\n",
    "> ```\n",
    "\n",
    "**5. tildechatbotdb 소유주를 postgres에서 d519로 변경**\n",
    "> ```bash\n",
    "> postgres=# ALTER DATABASE tildechatbotdb OWNER TO d519;\n",
    "> ALTER DATABASE\n",
    "> postgres=# \\l\n",
    ">                                                                List of databases\n",
    ">       Name      |  Owner   | Encoding | Locale Provider |     Collate      |      Ctype       | ICU Locale | ICU Rules |   Access privileges\n",
    "> ----------------+----------+----------+-----------------+------------------+------------------+------------+-----------+-----------------------\n",
    ">  postgres       | postgres | UTF8     | libc            | Korean_Korea.949 | Korean_Korea.949 |            |           |\n",
    ">  template0      | postgres | UTF8     | libc            | Korean_Korea.949 | Korean_Korea.949 |            |           | =c/postgres          +\n",
    ">                 |          |          |                 |                  |                  |            |           | postgres=CTc/postgres\n",
    ">  template1      | postgres | UTF8     | libc            | Korean_Korea.949 | Korean_Korea.949 |            |           | =c/postgres          +\n",
    ">                 |          |          |                 |                  |                  |            |           | postgres=CTc/postgres\n",
    ">  tildechatbotdb | d519     | UTF8     | libc            | Korean_Korea.949 | Korean_Korea.949 |            |           | =Tc/d519             +\n",
    ">                 |          |          |                 |                  |                  |            |           | d519=CTc/d519\n",
    "> (4 rows)\n",
    "> ```\n",
    "\n",
    "**6. 로그아웃**\n",
    "> ```bash\n",
    "> postgres=# \\q\n",
    "> (branchPJH) PS C:\\junha\\Tilde_Chatbot>\n",
    "> ```\n"
   ]
  },
  {
   "cell_type": "code",
   "execution_count": 65,
   "id": "initial_id",
   "metadata": {
    "collapsed": true,
    "ExecuteTime": {
     "end_time": "2024-12-30T05:53:09.010918400Z",
     "start_time": "2024-12-30T05:53:08.994408300Z"
    }
   },
   "outputs": [],
   "source": [
    "import pandas as pd\n",
    "import psycopg2"
   ]
  },
  {
   "cell_type": "markdown",
   "id": "8ea36a53fb102920",
   "metadata": {
    "collapsed": false
   },
   "source": [
    "# 전원 다시 시작시\n",
    "- Terminal에서 PostgerSQL 서버 시작하기  \n",
    "> ```bash\n",
    "> & \"C:\\Users\\overr\\anaconda3\\envs\\branchPJH\\Library\\bin\\pg_ctl\" -D \"./pgdata\" -l \"logfile\" start\n",
    "> ```\n",
    " \n",
    "- Terminal에서 super user인 **postgres**로 로그인\n",
    "> ```bash\n",
    "> psql -U postgres -h localhost -p 5432\n",
    "> ```"
   ]
  },
  {
   "cell_type": "code",
   "execution_count": 66,
   "id": "c5f9f0a73619172a",
   "metadata": {
    "collapsed": false,
    "ExecuteTime": {
     "end_time": "2024-12-30T05:53:09.317919100Z",
     "start_time": "2024-12-30T05:53:09.300920Z"
    }
   },
   "outputs": [],
   "source": [
    "# & \"C:\\Users\\overr\\anaconda3\\envs\\branchPJH\\Library\\bin\\pg_ctl\" -D \"./pgdata\" -l \"logfile\" start"
   ]
  },
  {
   "cell_type": "code",
   "execution_count": 67,
   "id": "f8e0006d9917b7e",
   "metadata": {
    "collapsed": false,
    "ExecuteTime": {
     "end_time": "2024-12-30T05:53:09.711920500Z",
     "start_time": "2024-12-30T05:53:09.556922400Z"
    }
   },
   "outputs": [
    {
     "name": "stdout",
     "output_type": "stream",
     "text": [
      "PostgreSQL 연결 성공!\n"
     ]
    }
   ],
   "source": [
    "# Postgres 연결 확인\n",
    "DB_CONFIG = {\n",
    "        'host': 'localhost',\n",
    "        'database': 'tildechatbotdb',\n",
    "        'user': 'd519',\n",
    "        'password': 'd519',\n",
    "        'port': 5432\n",
    "    }\n",
    "\n",
    "try:\n",
    "    # PostgreSQL에 연결\n",
    "    conn = psycopg2.connect(**DB_CONFIG)\n",
    "    print(\"PostgreSQL 연결 성공!\")\n",
    "    conn.close()\n",
    "except Exception as e:\n",
    "    print(f\"PostgreSQL 연결 실패: {e}\")\n"
   ]
  },
  {
   "cell_type": "markdown",
   "id": "c636e4e6e06ab7f4",
   "metadata": {
    "collapsed": false
   },
   "source": [
    "## 초기 작업 : 엑셀 내용 삽입\n",
    "2024년 12월 29일 기준으로 PostgreSQL 내부 tildechatbotdb에는 ChatTable이라는 이름의 테이블이 존재. 엑셀 내용이 전부 삽입되어있는 상태임. 만약, 새로 선언한다면, 주석을 제거하고 실행할 것."
   ]
  },
  {
   "cell_type": "code",
   "execution_count": 68,
   "id": "2cd9844423cdd5b8",
   "metadata": {
    "collapsed": false,
    "ExecuteTime": {
     "end_time": "2024-12-30T05:53:09.922920100Z",
     "start_time": "2024-12-30T05:53:09.897921700Z"
    }
   },
   "outputs": [],
   "source": [
    "# def create_table_from_excel_psycopg2(excel_file, table_name, db_config):\n",
    "#     df = pd.read_excel(excel_file)\n",
    "# \n",
    "#     conn = psycopg2.connect(**db_config)\n",
    "#     cursor = conn.cursor()\n",
    "# \n",
    "#     columns = ', '.join([f'\"{col}\" TEXT' for col in df.columns])\n",
    "#     create_table_query = f'CREATE TABLE IF NOT EXISTS {table_name} ({columns})'\n",
    "#     cursor.execute(create_table_query)\n",
    "# \n",
    "#     for _, row in df.iterrows():\n",
    "#         column_names = ', '.join([f'\"{col}\"' for col in df.columns])\n",
    "#         placeholders = ', '.join(['%s'] * len(row))\n",
    "#         insert_query = f'INSERT INTO {table_name} ({column_names}) VALUES ({placeholders})'\n",
    "#         cursor.execute(insert_query, tuple(row.values))\n",
    "# \n",
    "#     conn.commit()\n",
    "#     cursor.close()\n",
    "#     conn.close()\n",
    "#     print(f\"Table '{table_name}' created and data inserted successfully.\")"
   ]
  },
  {
   "cell_type": "code",
   "execution_count": 69,
   "id": "3e5e1d872fa14101",
   "metadata": {
    "collapsed": false,
    "ExecuteTime": {
     "end_time": "2024-12-30T05:53:09.935918700Z",
     "start_time": "2024-12-30T05:53:09.917919900Z"
    }
   },
   "outputs": [],
   "source": [
    "# EXCEL_FILE = \"C:/junha/Datasets/ChatData.xlsx\"\n",
    "# TABLE_NAME = \"ChatTable\"\n",
    "# DB_CONFIG = {\n",
    "#         'host': 'localhost',\n",
    "#         'database': 'tildechatbotdb',\n",
    "#         'user': 'd519',\n",
    "#         'password': 'd519',\n",
    "#         'port': 5432\n",
    "#     }\n",
    "# \n",
    "# create_table_from_excel_psycopg2(EXCEL_FILE, TABLE_NAME, DB_CONFIG)\n"
   ]
  },
  {
   "cell_type": "markdown",
   "id": "d90a67fe5e464bdc",
   "metadata": {
    "collapsed": false
   },
   "source": [
    "## 데이터베이스 삽입 상태 확인"
   ]
  },
  {
   "cell_type": "code",
   "execution_count": 78,
   "id": "8fe3bd85554540c5",
   "metadata": {
    "collapsed": false,
    "ExecuteTime": {
     "end_time": "2024-12-30T06:00:43.554920900Z",
     "start_time": "2024-12-30T06:00:43.414921300Z"
    }
   },
   "outputs": [],
   "source": [
    "def verify_data_insertion(table_name, db_config):\n",
    "    try:\n",
    "        conn = psycopg2.connect(**db_config)\n",
    "        cursor = conn.cursor()\n",
    "\n",
    "        query = f\"SELECT * FROM {table_name}\"\n",
    "        cursor.execute(query)\n",
    "\n",
    "        result = cursor.fetchall()\n",
    "\n",
    "        if not result:\n",
    "            print(f\"No data found in table '{table_name}'.\")\n",
    "            return None\n",
    "\n",
    "        column_names = [desc[0] for desc in cursor.description]\n",
    "\n",
    "        df = pd.DataFrame(result, columns=column_names)\n",
    "        print(f\"Data in table '{table_name}':\")\n",
    "\n",
    "        cursor.close()\n",
    "        conn.close()\n",
    "        return df\n",
    "\n",
    "    except Exception as e:\n",
    "        print(f\"Error verifying data: {e}\")\n"
   ]
  },
  {
   "cell_type": "code",
   "execution_count": 79,
   "id": "b12d2beb1268c897",
   "metadata": {
    "collapsed": false,
    "ExecuteTime": {
     "end_time": "2024-12-30T06:00:45.452805700Z",
     "start_time": "2024-12-30T06:00:45.422807Z"
    }
   },
   "outputs": [
    {
     "name": "stdout",
     "output_type": "stream",
     "text": [
      "Error verifying data: column \"유독가스\" does not exist\n",
      "LINE 1: SELECT * FROM ChatTable where 노출제품명 like 유독가스\n",
      "                                                      ^\n"
     ]
    }
   ],
   "source": [
    "verify_data_insertion('ChatTable',DB_CONFIG)"
   ]
  },
  {
   "cell_type": "markdown",
   "id": "f364d2f693913a2e",
   "metadata": {
    "collapsed": false
   },
   "source": [
    "## 원하는 값만 추출"
   ]
  },
  {
   "cell_type": "code",
   "outputs": [],
   "source": [
    "def select_distinct_values(query, db_config):\n",
    "    try:\n",
    "        connection = psycopg2.connect(**db_config)\n",
    "        cursor = connection.cursor()\n",
    "        cursor.execute(query)\n",
    "        results = cursor.fetchall()\n",
    "        \n",
    "        distinct_values = [row[0] for row in results]\n",
    "        return distinct_values\n",
    "    except Exception as e:\n",
    "        print(\"Database error:\", e)\n",
    "    finally:\n",
    "        if cursor:\n",
    "            cursor.close()\n",
    "        if connection:\n",
    "            connection.close()"
   ],
   "metadata": {
    "collapsed": false,
    "ExecuteTime": {
     "end_time": "2024-12-30T05:53:10.878442600Z",
     "start_time": "2024-12-30T05:53:10.862443700Z"
    }
   },
   "id": "d34ecc25c1f26a21",
   "execution_count": 72
  },
  {
   "cell_type": "code",
   "outputs": [
    {
     "ename": "TypeError",
     "evalue": "select_distinct_values() takes 2 positional arguments but 4 were given",
     "output_type": "error",
     "traceback": [
      "\u001B[1;31m---------------------------------------------------------------------------\u001B[0m",
      "\u001B[1;31mTypeError\u001B[0m                                 Traceback (most recent call last)",
      "Cell \u001B[1;32mIn[80], line 6\u001B[0m\n\u001B[0;32m      3\u001B[0m QUERY \u001B[38;5;241m=\u001B[39m \u001B[38;5;124mf\u001B[39m\u001B[38;5;124m\"\u001B[39m\u001B[38;5;124mSELECT DISTINCT \u001B[39m\u001B[38;5;132;01m{\u001B[39;00mCOLUMN_NAME\u001B[38;5;132;01m}\u001B[39;00m\u001B[38;5;124m FROM \u001B[39m\u001B[38;5;132;01m{\u001B[39;00mTBL_NAME\u001B[38;5;132;01m}\u001B[39;00m\u001B[38;5;124m;\u001B[39m\u001B[38;5;124m\"\u001B[39m\n\u001B[0;32m      4\u001B[0m distinct_values \u001B[38;5;241m=\u001B[39m select_distinct_values(QUERY, DB_CONFIG)\n\u001B[1;32m----> 6\u001B[0m matching_rows \u001B[38;5;241m=\u001B[39m \u001B[43mselect_distinct_values\u001B[49m\u001B[43m(\u001B[49m\u001B[43mdistinct_values\u001B[49m\u001B[43m,\u001B[49m\u001B[43m \u001B[49m\u001B[43mTBL_NAME\u001B[49m\u001B[43m,\u001B[49m\u001B[43m \u001B[49m\u001B[43mCOLUMN_NAME\u001B[49m\u001B[43m,\u001B[49m\u001B[43m \u001B[49m\u001B[43mDB_CONFIG\u001B[49m\u001B[43m)\u001B[49m\n\u001B[0;32m      7\u001B[0m matching_rows\n",
      "\u001B[1;31mTypeError\u001B[0m: select_distinct_values() takes 2 positional arguments but 4 were given"
     ]
    }
   ],
   "source": [
    "TBL_NAME = \"ChatTable\"\n",
    "COLUMN_NAME = \"노출제품명\"\n",
    "QUERY = f\"SELECT DISTINCT {COLUMN_NAME} FROM {TBL_NAME};\"\n",
    "distinct_values = select_distinct_values(QUERY, DB_CONFIG)\n",
    "\n",
    "matching_rows = select_distinct_values(distinct_values, TBL_NAME, COLUMN_NAME, DB_CONFIG)\n",
    "matching_rows"
   ],
   "metadata": {
    "collapsed": false,
    "ExecuteTime": {
     "end_time": "2024-12-30T06:06:11.399624900Z",
     "start_time": "2024-12-30T06:06:11.360301Z"
    }
   },
   "id": "ecf0b5a27c3eb69f",
   "execution_count": 80
  },
  {
   "cell_type": "code",
   "outputs": [
    {
     "data": {
      "text/plain": "['유독가스',\n '자동차 워셔액',\n '살충스프레이',\n '보온팩(발열체)',\n '플라스틱 공장 연기',\n '공업용 엔진 세척제',\n '올편제에스',\n '돈나무',\n '자동차용 방향제',\n '에폭시 접착제',\n '아론',\n '인화성 화학물질',\n 'escitalopram',\n '방향제 펌핑식 스프레이',\n '연료 첨가제',\n '수면제',\n '클로자핀',\n '벽 코팅용 도배 풀',\n '금속성 페인트',\n '판베시',\n '문구용 잉크 스탬프 패드',\n '우울증약(벤조디아제핀계열 추정)',\n '자동차 대시보드 클리너 스프레이',\n '렉사프로정',\n '심장 강화 영양제',\n '주방용 화학 세제',\n '다이어트 약, 에너지 드링크',\n '공사장에서 날아오는 연기',\n '자동차 페인트',\n '방향제 캡슐',\n '욕실 청소용 스프레이',\n '명인탄산리튬정',\n 'lithium',\n '욕실 청소용 분말 세정제',\n '클로나제팜',\n '스리반정(lorazepam), 아고틴정(agomelatine)',\n '섬유유연제',\n '로멜라인',\n '스틸녹스 10mg',\n '육류 보관용 플라스틱 포장재',\n '보령부스파정',\n '졸민정0.25mg, 자낙스정0.5mg, 트리티코정50mg, 쎄로켈정100mg, 프리스틱서방정 100mg, 프리스틱서방정 50mg',\n '불안증 약',\n '자디팜',\n '디퓨저 액체',\n '도료 폐기물, 락스 냄새가 나는 화학약품',\n '금속 세정제',\n '보습 크림',\n 'puri bag (물 정화 키트)',\n '네일 리무버',\n '우드스테인(목재용 코팅제)',\n '엔진룸 청소용 세정제',\n '탈취제 스프레이',\n '염분 보충제',\n '에릭손정',\n '제습제',\n '리스카펜정, 메가슬림정, 미세틴 캡슐, 하이라제정, 에닝정, 리치칼비정, 디아제팜정',\n '진통제, 감기약',\n '고무 연기',\n 'Norfloxacin',\n '진통제, 염증 억제제, 마늘 추출물 건강기능식품',\n '멕시부펜 해열제',\n '자동차용품 세정제',\n '트라마돌',\n '초콜릿, 콜라, 과자',\n '고용량 항생제',\n '자동차 엔진오일',\n '모티리톤정, 데파스정',\n '아티반, 쿠에타핀, 트리티코, 리보트릴, 큐로켈',\n '알레르기 비염약',\n '트리아졸람',\n '약초차',\n '수면 보조제',\n '메이크업 제거용 화장품',\n '자동차용 연료용제',\n '자동차 실내 방향제',\n '방향제 젤 캔',\n '다이어트 약',\n '번개탄',\n '유독성 용제',\n '은세척제',\n '진통제(모르핀 서방정)',\n '메디락디에스',\n 'TCA 약물',\n '에폭시',\n '뮤코트라서방정',\n '강력 접착제, 아세톤이 든 네일 리무버',\n '정신과약',\n '녹슨 금속 세공 도구',\n '데파코트정',\n '가정용 살충제',\n '페인트 희석제',\n '셀트포지정, 세파로캡슐, 코대원정, 셀리온정, 옐로틴캡슐, 덱시디펜정',\n '멜라토닌 서플리먼트',\n 'Alprazolam',\n '화구 청소제',\n '가습기 청소용 세제',\n '산업용 탈지제',\n '농약(추정, 제초제)',\n '어른 해열제',\n '도료 희석제',\n '공예용 글리터 접착제',\n '화학 풀',\n '정제화학약품',\n '바렙툴서방정',\n '레피졸',\n '트라마펜 맥스',\n '살충제(데시스)',\n '메티마졸',\n '에너지 음료, 판베시',\n '거름 알갱이',\n '액체 세탁 세제',\n '스라반정, 메타키넵리타드 캡슐, 아토목신캡슐, 탈리스펜서방정, 프록틴캅셀, 오르필서방정',\n '방향제류 스프레이',\n '바퀴벌레 퇴치제',\n '화장품용 토너',\n '바렙톨서방정',\n '디아제팜정',\n '에어로졸 세정제',\n 'aripiprazole',\n '폼클렌저',\n '로라반정 0.5mg, tylenol',\n '타이어 광택제',\n '진해거담제, 감기약',\n '주방 세제 캡슐',\n '녹슨 삽',\n '오븐에서 발생한 연기',\n '다이어트약',\n '매니큐어',\n '삐콤',\n '아목시실린',\n '항생제',\n '어른 타이레놀',\n '납',\n '판피린',\n '알지겐액',\n '감기약, 진통제',\n '프리판주',\n '플라스틱 포장 인쇄 조각',\n '페인트 스프레이',\n '방향제 리필용 액체',\n '카세피정',\n '기계 작동 중 발생한 연기',\n '쿠에타핀정',\n '주방 세정제',\n '만년필 잉크',\n '섬유 탈취제',\n '방충제 분무 스프레이',\n '정신과 약, 술',\n '로카세린',\n '독초',\n '코팩사엑스알',\n '타스멘정, 맥시부펜시럽',\n '접착제(강한 본드)',\n '공업용 세척제',\n '두꺼비',\n '배터리',\n '플라스틱 뚜껑 조각',\n '바위취',\n '거품형 욕실 세정제',\n '자동차용품 코팅 스프레이',\n '락스와 세정제',\n '트라조돈',\n '에너지드링크',\n '살충제 분무기',\n '모스킬',\n '강산성 공업용 세척제',\n '방향제 용액',\n '명인트라조돈염산염정',\n '꽃뱀',\n '화학 용접제',\n '자동차용 광택제',\n '휴대용 방향제',\n '진통제, 디클로페낙',\n '잔여 기름',\n '오래된 페인트',\n '다에타민정',\n '웰부트린엑스엘정',\n '화학성 세척제',\n '에어컨 전용 클리너',\n '젤 리무버',\n '강알칼리성 공업용 세척제',\n '차량용 냉매',\n '가죽 전용 클리너',\n '향초용 왁스',\n 'luoxetine 20mg, Aripiprazole 1mg, Lorazepam 1mg, Rivotril 0.5mg, Lorazepam 1mg, Flumazepam 15mg, Trazodone 50mg, Rivotril 0.5mg X 30봉지',\n '식기세척제(액상 타입)',\n '식기세척기용 린스',\n '파모티딘',\n '산업용 화학 세제',\n 'DIY 목공용 접착제',\n '항히스타민제',\n '납 성분이 포함된 자재',\n '녹슨 금속성 울타리',\n '메디아벤엘정',\n '방부 처리된 꽃',\n '페인트, 신나',\n '농약 분무기',\n '홀벤, 젤콤',\n '다이몬파스트',\n '곰팡이 쌀',\n '드라이크리닝제',\n '탄산음료',\n '녹슨 철판',\n '녹슨 쇠 조각',\n '화초용 살충제',\n '울트라셋',\n '라이터용 가스',\n '지네',\n '소론도정',\n '퀘티아핀',\n '케토티펜',\n '일반 진정제',\n 'Riperidon 0.5mg, Lithium carbonate 300mg, Alpram 0.25mg, abilify Tab 1mg, S-ven ER Tab 50mg, Xanax 0.25mg, Topamate Tab 25mg',\n '주방 세제',\n '아론정(독시라민숙신산염)',\n '카세핀, 알프라졸람',\n '주방 세정제 스프레이',\n '가정용 세탁기 세제',\n '스프레이형 접착제',\n '목재용 가구세정제',\n '디펜히드라민염산염, 에바스텔정, 셀리온정, 페니라민정, 졸민정',\n '장난감 세척용 스프레이',\n '액체 방향제',\n '화학 세척액',\n '라믹탈정',\n '게루삼',\n '산업용 접착제',\n '벤조디아제핀, 삼환계 항우울제',\n '문구용 고체풀',\n '쎄로켈정, 인데놀정, 아빌리파이정, 자나팜정, 폭세틴캡슐',\n '브레이크액',\n '깍지마기 살충제',\n '달걀껍질',\n '바닥 청소용 물걸레',\n '졸피신정, 트피라트정, 명인염산부스피론정, 웰부트린엑스엘정',\n '대웅제야4 토브라점안액',\n '풀베라(제초제)',\n '에어컨 필터 세정제',\n '근육 이완제, 수면제',\n '촛농 전용 세정제',\n '뚫어뻥, 다이메틸도데실아민옥사이드, 치아염소산나트륨, 에테르설페이트',\n '알프람',\n '스프레이 페인트',\n '세탁 세제',\n '제로민',\n '위염약',\n '코스모스',\n '청소용 스프레이',\n '방습용 건조제(실리카겔)',\n '문구용 물풀',\n '화학물질 코팅 작업에서 발생한 증기',\n '데파코투서방정 500mg, 클자핀정 25mg, 데파스정 0.5mg',\n '존파워디터전트',\n '소염 진통제',\n '희귀한 식물',\n '곰팡이 방지제',\n 'atorvastatin',\n '알프람정',\n '리타놀',\n '차량용 유리세정제',\n '스테로이드',\n '나프록센, 메토카밤롤',\n '아빌라파이, 라믹탈',\n '주방용 세정제',\n '알프람, 렉사프로',\n '네이팜',\n '고혈압약',\n '펜터민',\n '케토신',\n '로라반정, 클로나제팜, 졸피람, 밀타정',\n '카페인이 든 각성제',\n '브레이크 클리너',\n 'mosapiride',\n '화학성분이 포함된 세척제',\n '성인용 감기 시럽약',\n '폴리덴트 틀니세정제',\n '캔들 형태의 방향제',\n '녹슨 주방 도구',\n '녹슨 금속 조각',\n '세탁세제, 섬유유연제',\n '욕실 청소용 락스',\n '립 오일',\n '에어로졸 방향제',\n '근사미',\n '다용도 접착제',\n '항불안제, 소독약, 살균물티슈',\n 'Indenol 10mg, Depas 0.5mg, Proctin cap 20mg, Clonazepam 0.5mg, Aripizole 2mg, 쿨드림 50mg, 이지엔6 프로 300mg',\n '커피',\n '다이크로짇정',\n '뉴로자핀',\n '냉각스프레이',\n '바클로펜',\n '나프록센',\n '정체 모를 빨간 딸기 모양의 열매',\n '휘발유',\n '종합비타민 젤리',\n '몬테카스',\n '자동차용 엔진 세척제',\n '자동차용 냉각제',\n '손난로 보온제',\n '공업용 연마제',\n '타이레놀, 이지엔6이브, 샤이닝, 베아제, 에보프림',\n '샴푸',\n '다이어트 차',\n '졸피뎀 정',\n '금속 용접 작업',\n '진통제, 두통약',\n 'Nyquil 시럽형 (Acetaminophen, doxylamine, succinate, dextromethorphan HBr), Nyquil 알약형',\n '강한 진통제',\n '뉴프람정',\n '산업용 세척제 스프레이',\n 'triopramide',\n '스미치온',\n '욕실 청소용품(락스 종류), 식초 베이스 청소세제',\n '구충제',\n 'VIMSK',\n '진통제, 수면제',\n '멜라노틴 서방정, 칼디쓰리정, 메치론정, 조피린 장용정, 무코스타 정, 울트라넷 이알세미 서방정',\n '드레스퍼퓸(탈취제)',\n '동광록소프로펜정, 브로젠장용정, 동광레바미피정',\n '트립탄제',\n '이소트레티노인 성분의 약',\n '농약(추정)',\n '프로파인퓨전',\n '정체 모를 잎',\n '수면제(조플레틴), 진통제(아세트아미노펜)',\n 'lorazepam 0.5mg, Indenol 10mg',\n '자동차 세정제',\n '카페인 캡슐',\n '엔진 클리너',\n '자니팜',\n '세정제',\n 'alprazlam',\n '파마날트렉손',\n '멀타핀정',\n '수면유도제(쿨드림)',\n '세로토닌 재흡수 억제제(SNRI), 졸피뎀',\n '그림 물감',\n '항히스타민제(로라타딘 시럽)',\n 'ADHD 치료제',\n '냉장고 탈취제',\n '풀미코트레스플, 벤토린네뷸2.5mg',\n '아이스크림',\n '밀타정',\n '안면 홍조와 두통 완화용 약',\n '레브로콜, 레보드로프로피진',\n '엄마 화장품',\n '실내 클리너 스프레이',\n '나프록센 계열 진통제',\n '공업용 윤활유',\n '욕실세정제',\n '아쿠아향초',\n '페인트 작업용 고무장갑',\n '가희 멀티밤',\n '유기 용제',\n '근육이완제',\n '오래된 금속 액세서리',\n '밀다졸람',\n '장용정',\n '에너지 부스터',\n '구충제 (알킬정)',\n '휴대용 난로',\n '탁센, 몬스터 에너지 드링크',\n '헤어스프레이',\n '항불안제',\n '트라조돈, 렉사프로',\n '진통제(옥시코돈)',\n '세차용 클리너',\n '리스달정, 영프로마정, 인데놀정',\n '에탄올 75% 물티슈',\n '부트린엑스엘정, 인데놀, 트라린, 라모스탈정, 레피졸정',\n '농약',\n '손 세정용 거품 비누',\n '트라조돈, 삐콤씨, 쿠에타핀정, 브로마제팜, 멀타핀정, 로라반정, 알프람 정, 인데놀정, 부스론정, 에드파정, 파마 모사프리드정, 사일레노정, 리페리돈 정, 데파스정, 잘레딥 캡슐, 루나팜정, 멀타핀정, 조피스타정',\n '인데놀',\n '수면제(졸피뎀)',\n '로수바미브정',\n '소각장에서 나는 연기',\n '해열제, 진통제, 항생제',\n '강알칼리 세척제',\n '진통제(옥시코돈), 수면제(졸피뎀)',\n '비스테로이드성 소염진통제',\n '에스시탐',\n '스테로이드 알약, 스테로이드 주사',\n '스프레이형 금속 광택제',\n '편두통 완화제, 수면제',\n '바닥 청소 광택제',\n '공업용 강알칼리 세척액',\n '푸로틱캡슐',\n '소염진통제(나프록센), 타이레놀',\n '방향제',\n 'glyphosate',\n '환인클로나제팜정',\n '멀타자핀, 세로칼, 스틸녹스, 데파스, 사일레노, 인데놀, 자낙스',\n '쿠에타핀',\n '펜디씬정, 토피리드정, 에카민씨정, 다이크로짇정',\n '테나롤정',\n '뉴로자핀정',\n '크린투 식염수',\n '울트라셋정, 마약성 진통제',\n '주유기',\n '이상한 풀',\n '술, 담배',\n '독성이 있는 식물',\n '자동차용 타이어 세정제',\n '은행나무 열매',\n '수면제, 소주',\n '에폭시 경화제',\n '액상 방향제',\n '뉴츠람정',\n '쿠에타핀정, 환인클로나제팜정, 명인탄산리튬정, 트리티코정, 트리람정',\n '수면 유도제',\n '레보투스정',\n '타이레놀, 덱시부프로펜',\n '항우울제',\n '유성 매직펜',\n '건조제(실리카겔)',\n '자동차정비용 윤활제',\n '라베정',\n '석유',\n '곰팡이가 핀 빵',\n '몬테리진',\n '근이완제',\n '스틸녹스정',\n '쓰레기 연기',\n '진통 소염제',\n '자동차 매연',\n '대형 포장용 스티로폼',\n '컴배트 프로페셔널 스트립겔',\n '주방 청소용 스프레이',\n '독수선',\n '냉동피자 포장 비닐',\n '환인클로나제팜정 0.5mg, 렉사프로정 10mg, 파마부스피통정 5mg',\n '오메프라졸',\n '트리람정',\n '옥실세정제(욕실 청소용품)',\n '손 난로류 보온제',\n '변기세정제',\n '기계 청소용 화학제',\n '스틸녹스(졸피뎀)',\n '진해거담제',\n '디아제팜',\n '프로작',\n '고체연료 버너',\n '나잘스프레이',\n 'Pelubi, K-cab, Nerexone, Beartin',\n '로카서틴',\n '소독용 알코올',\n '공장에서 사용하는 물질',\n '무코텍트',\n '명인브로마제팜정',\n '신일플란정',\n '휴록스정',\n '덩굴성 식물',\n '문구용 풀',\n '기름 제거제',\n '방수 스프레이',\n '가정용 기름때 제거제',\n 'urusa',\n '이상한 허브처럼 생긴 풀',\n '알로카시아 잎',\n '엔진 오일, 냉각수',\n '차아염소산',\n '락스와 세제',\n '강력 접착제',\n '수은온도계',\n '에스시탈로프람, 로라제팜',\n '녹슨 금속 파이프',\n '화장실 세정제',\n '산업용 오일',\n '자동차 배기관 매연',\n '변비 약',\n '실리콘 제거제',\n '빔스크, 토파맥스, 오르필, 센틸, 케프라, 트리렙탈칠림',\n '욕실 청소용품(락스)',\n '비아그라',\n '아빌리파이, 렉사프로',\n '납땜 장비',\n '자동차용 가죽 클리너 스프레이',\n '공황장애약',\n '살충제 파워홈 (데카메트린, 부틸레이티드히드록, 시톨루엔, 글리세린, 카프릴, 카프린산)',\n '리단정',\n '녹슨 금속 프레임 옷걸이',\n '리튬, 래피솔정, 아티반정, 큐로켈정',\n '어른 치약',\n '라운드 어라운드 편백 클린 스프레이(탈취제)',\n '알코올 베이스 클리너 스프레이',\n '두통 약, 신경 안정제',\n '조립용 가구 페인트',\n '스틸녹스, 타나민정, 뉴토인정, 투리티코, 리버큐 연질캡슐, 노바스크, 아타칸플러스정, suprax 캡슐, gaster정, tamoxifen정, liver Q정',\n '공업용 접착제',\n '날트릭손',\n '화학 약품',\n '희석제',\n '카페인',\n '일회용 전자담배',\n '부스코판B 수산용, 골든엘바진',\n '항불안제(알프라졸람)',\n '신경안정제',\n '화학용 접착제',\n '졸피뎀, 에스시탈로프람',\n '음식물 처리용 세제',\n '리스페리돈, Quetiapine, Triazolam',\n 'alprazolam',\n '자동차 휠 클리너',\n '세탁 가루 세제',\n '화이트보드용 마커',\n '프린터 잉크',\n '페인트',\n '마커펜',\n '근육 이완제',\n '트락손',\n '이부프로펜 진통제',\n '로라반, 에트라빌',\n '정체불명의 빨간 열매',\n '기름때 제거제',\n '가정용 오븐 클리너',\n '노란색 꽃',\n '자동차용 세정제',\n '파리 퇴치용 고체 살충제',\n '접착용 풀',\n '관절염 치료제, 이부프로펜 성분 진통제',\n 'lorazeparm',\n '위캡정',\n 'glyphosate max',\n '방충제',\n '핫팩',\n '자니팜정',\n '스리반',\n '타미플루',\n '욕실 청소용 세척제',\n '금속 방청제',\n '헤어 스프레이',\n '욕실용 락스, 세정제',\n '욕실용 세정제',\n '감기약, 항히스타민제',\n '씨플록정250mg, 록펜정, 모사피아정, 탐로딘서방캡슐0.2mm, 새우',\n '식기 세정제',\n '에어컨',\n '수란트라',\n '불가사리',\n '고혈압 약',\n '욕실용 락스',\n '자동차 관리용품 광택제',\n '화학 세척제',\n '옥실세정제(욕실용 락스 종류)',\n '아빌리파이, 구주인산코데인정',\n '살림백서 딥클린 뿌리는 곰팡이 제거제',\n '습기제거제',\n '녹슨 철제 그네',\n '클라린듀오시럽',\n '에너지 드링크, 아세트아미노펜 성분의 진통제',\n '편두통 치료제',\n '욕실용락스',\n '수면유도제',\n '트리트코',\n '에너지 드링크',\n '세팔렉신',\n '녹슨 금속 도구',\n '아크릴 용제',\n '제초제',\n '방습제',\n '냉각수',\n '피로회복제 약',\n '강알칼리 성분 세척제',\n '자동차 세척제',\n '액체방향제',\n '쓰레기 소각장에서 발생한 연기',\n '문구용 빨간 잉크',\n '락카, 신나, 페인트',\n '자동차 브레이크 클리너 스프레이',\n '욕조 세정제',\n '엘도스캅셀',\n '세탁세제 가루',\n '알코올',\n '담배꽁초',\n '트락손정',\n '졸피뎀, 이부프로펜',\n '여성호르몬제, 항우울제',\n '손 소독제',\n '에나폰정, 아빌리파이정, 졸트푸르정',\n 'Rivotril, Trazodone, Silvan, Smudipine',\n '수면제(졸피뎀 10mg)',\n '방수 실런트',\n '타이어 코팅제',\n '자동 분사 스프레이 방향제',\n '나프록센정',\n '코푸정',\n '주방용 세제',\n '졸피드정',\n '금속 가공용 산화제',\n '폭세틴, 에프람정',\n '식기세척기용 세제',\n '방향제(겔 타입)',\n '영비원정',\n '욕실청소용 락스',\n '고카페인 에너지 드링크',\n 'acamprosate, mirtazapine, zolpid',\n '오래된 금속 프레임',\n '휘발성 페인트(스프레이형)',\n '혈압약, 진통제, 두통약, 소화제',\n '핫식스, 콜라',\n '강산성 세척액',\n '졸피움정',\n '비타민 주사제(글루타티옥살 광명약품)',\n '아미트립틸린, 이미프라민',\n '소염진통제 나프록센',\n '데서로프',\n 'caffeine',\n '알프라졸람(알프람정 0.5mg)',\n '비타민 담배',\n '푸로세틴캡슐, 라니린에스정, 휴온스시메티딘정, 구주스피로닥톤정, 다이크로짇정',\n '공업용 탈지액',\n '리보트릴정',\n '메이크업 브러쉬 클리너',\n '캡슐형 수면 유도제',\n '옛날 농약',\n '수도꼭지, 금속 파이프',\n '자동차 배터리용 액체',\n '탈지제',\n '갑상선 약',\n '정체불명의 베리',\n '미카르디스정',\n '농약(그라목손)',\n '하얀색 가루 (추정: 시멘트 가루 또는 석회)',\n '포터블 디퓨저',\n '인슐린 주사',\n '손 세정제',\n '레피졸정',\n '욕실 세정제',\n '찌든 때 제거제',\n '에폭시 레진',\n '살충제(추정)',\n '금속 용접 작업 중 발생한 연기',\n '하얀 연기가 나는 장치',\n 'indenol 10mg, 자나팜 0.125mg, quetiapine 12.5mg, fluoxetine 20mg',\n '에프킬라',\n '수면유도제(제로민, 쿨드림), 트라조돈',\n '곰팡이 핀 쌀',\n '펜잘',\n '캡슐 세탁세제',\n '클라리',\n '환인클로나제팜0.5mg, 아코틴정 25mg, 큐로켈정 100mg, 날트렉손',\n '산마늘처럼 생긴 식물',\n '벌',\n '지방 연소를 돕는 약',\n '차량용 유리 세정제',\n '근육통 진통제',\n '오븐 청소용 나노 세정제',\n '탁센, 캐롤엔',\n '큐로켈',\n '방향제(스프레이 타입)',\n '후두염 치료 약',\n '에너지 증진용 약',\n '모르핀 계열 진통제',\n '차량용 방향제',\n '진통소염제',\n '에너지 음료',\n '무코텍트서방',\n '브라운면도기 세정액',\n '성인용 아스피린',\n '스파로드정',\n '캔 타입 방향제',\n '자다팜정',\n '리무버 용액',\n '아세트아미노펜',\n '약품 세정제',\n '실험대에서 나오는 모래 먼지와 연기',\n '에어컨 청소제',\n '손난로류 보온제',\n '가습기 살균제',\n '작은 버섯',\n '식물 영양제',\n '쿠에타핀서방정',\n '멜라토닌',\n '플라스틱 컵',\n '아리페질정',\n '곰팡이 제거제',\n '자동차 휠 세정제',\n '액체형 살충제',\n '렌즈 세척 점액',\n '아세톤, 매니큐어',\n '녹슨 금속 부품',\n '자동차 라디에이터 청소용 세제',\n '솔벤트',\n '멘소래담 파스',\n '자석 장난감',\n '초콜릿, 단과자, 음료수',\n '만성 두통약',\n '아미트립틸린, 졸피뎀',\n '모기기피제 마이키파',\n '셀프 염색약',\n '농약 (정원용 제초제 추정)',\n '옥실세정제',\n '솔벤트 기반 세척제',\n '알프라낙스정, 맥페란정, 아티반정, 스틸녹스CR정, 졸로푸트정',\n '식욕촉진제',\n '썬크림',\n '욕실용 곰팡이 제거제',\n '농약(글리포세이트 이소프로필아민)',\n '공업용 용제',\n '진통제(이부프로펜), 고혈압 약',\n '아로마 캔들',\n '휴대용 모기 스프레이',\n '주방용 상판 코팅제',\n 'Benzodiazepine',\n '버섯',\n '풍지',\n '버블놀이',\n '유성 사인펜',\n '차량용 에어컨 세정제',\n '공예용 접착제',\n '살충제(농약)',\n '담배 꽁초 물',\n '클로로프로마진',\n '로라제팜(Ativan)',\n '단추형 배터리',\n '혈압약',\n '주방용 락스, 베이킹소다',\n '세로프람',\n '자동차 첨가제',\n '인큐스아로마멀티테라피(코스모스코스)',\n '곤충',\n 'diazepam',\n '공업용 화학물질',\n '진통제(트라마돌), 안정제(알프라졸람)',\n '정수기 필터',\n '아세클로페낙',\n '몬스터 에너지드링크',\n '실리카겔',\n '에프람정, 코팩사엑스알서방캡슐, 쿠에타핀, 로라반',\n '자나팜정',\n '자동차 엔진세정제',\n '제리티딘',\n '에너지 드링크, 두통약',\n '다크초콜릿',\n '농약(살충제 추정)',\n '해열제',\n '화학성분 세척제',\n '타이레놀 500mg',\n '자동차 타이어 광택제',\n '졸피신정',\n '그릇 세정제',\n '세프레 캡슐',\n '제초제(살충제 종류)',\n '휴대용 진통제',\n '다닥냉이 비슷한 작은 식물 열매',\n '농약 (제초제)',\n '트로켈',\n '벤조디아제핀(약물확인불가)',\n '항고혈압제',\n 'xanax',\n '자동차용 냉각수',\n '멜리안 경구피임약',\n '물감',\n '로라반정',\n '액체형 제초제',\n '금속공예 재료',\n '자동차용 탈취제',\n '건조제',\n '경구피임약',\n '판토프라졸 40mg 캡슐',\n '열감기약, 기침약',\n '렉사프로정 10mg',\n '엔진오일',\n '천남성 잎',\n '엔진클리닝제',\n '렉시프람, 자니팜',\n '트리티코정',\n 'amitriptyline',\n '핸드크림',\n '프로질정',\n '데파코트서방정 250mg, 베스자임정, 명인탄간리튬정',\n '시럽 형태의 감기약',\n '브레이크 클리너 스프레이',\n '타이어광택제',\n '알프람정, 인데놀정, 아빌리파이정, 토파메이드정',\n '녹슨 철사',\n '방향제 공기청정 스프레이',\n '주방세제',\n '락스, 변기 세정제',\n '문구용 풀액',\n '금속 표면 세척제',\n 'aricept',\n '자낙스정, 웰부트린xl정, 레비아정, 아코틴정, 아빌리파이정, 레메론정, 아티반정, 스틸녹스정',\n '수마트립탄',\n '로라제팜',\n '자동차용품류 냉각제',\n '가죽 클리너',\n '건강보조제 캡슐',\n '욕실 청소 세제',\n '리보트릴정, 아나빌정1mg',\n '디에타민(푸리민)',\n '자동차용 클리너 스프레이',\n '아티반정',\n '접착제 원액',\n '아티반',\n '아미트립틸린',\n '카페인 함유 두통약',\n '가구용 클리너',\n '주방용 기름때 제거제',\n '자동차 유리 세정제',\n 'Warfarin',\n '세미맺히란 풀',\n '감기약',\n '졸로푸트정',\n '에스시탈로프람',\n '씬지로이드정',\n '진통제',\n '나프록센, 트라마돌',\n '소화제, 베나치오',\n '클래리드정',\n '가죽 소파 클리너',\n '방수용 접착제',\n '스프레이형 곰팡이 제거제',\n '파리나졸정10mg',\n '진정제(알프라졸람)',\n '오븐 크리너',\n '방청제',\n '티모프틱엑스이 0.5% 점안액',\n '세탁조 클리너',\n '엔진오일 첨가제',\n '다이어트 약 (슈다페드정, 로세틴캡슐, 신일엠정, 마이부틴정, 다이크로짇정, 토파케이정)',\n '아스팔트',\n '맥주',\n '주방 청소용 세정제',\n '샤프심, 날파리',\n '편두통 약',\n '아빌리파이정1mg, 산도스메스시랄로프람정10mg, 가스모틴정5mg, 삼진디아제팜2mg',\n '프렉스정',\n '정체불명의 곤충',\n '물뱀',\n '카세틴, 리튬카보네이트, 리보트릴, 리탄, Tenid',\n '방향제 스틱 용액',\n '코패사엑스알',\n '녹슨 금속 도구, 낡은 기계 오일',\n 'NaN',\n '글리터풀',\n '진경제',\n '바닥 광택제',\n '감기약, 두통약',\n '튜란트시럽',\n '라모트리진',\n '물때 제거 스프레이',\n '방제약품',\n '엘도신캡슐',\n '피임약',\n '화학 용제',\n '트락존정',\n '캡슐형 식기세척기 세제',\n '공업용레진',\n '진통제, 항히스타민제',\n '클로티아니딘 액상수화제',\n '실리콘 가습기 세척제',\n '매직 마커',\n '노스판 패치',\n '민물고기 회',\n 'lorazepam, etizolam',\n '리페리돈',\n '유한엔플루캡슐45mg',\n '에너지 드링크, 커피',\n '치매약',\n '휴대용 방향제 스프레이',\n '다이어트보조제',\n '자동차 와이퍼 세척제',\n '락스',\n '공장에서 나온 검은 연기',\n '가정용 먼지 제거제',\n '헤브론',\n '오븐 세정제',\n '금속 녹 제거제',\n '킹팜',\n '아리피졸정',\n '근사미(제초제)',\n '풀제로(제초제)',\n '플루옥세틴, 알프라졸람',\n '디퓨저',\n '금속 전용 세정제',\n '베베 비타D, 바이오가이아',\n '2단계 뱉는 치약',\n '손세정제',\n '비타민 영양 보충제',\n '분말소화기',\n '사무용 핸드크림',\n '녹슨 금속 막대기',\n '졸피뎀, 스틸녹스',\n '자동차 세차용 스프레이',\n 'Lexapro',\n '술',\n '모기기피제',\n '데파스정, 리보트릴',\n '트라마롤서방정, 탁센',\n '식기세척제',\n '두통약, 소염제',\n '비염약',\n '농기계 기름, 엔진오일',\n '기침 시럽',\n '페인트 제거제',\n '감기약(콜대원), 병원 처방 약, 술',\n '물때 제거용 청소용품',\n '초콜릿 케이크, 초콜릿 바, 초콜릿 드링크',\n '수면유도제, 수면제',\n '공업용 농약',\n '녹슨 금속',\n '과탄산소다',\n '식기세척기 세제',\n '강산성 세척제',\n '아빌리파이정',\n '술 (소주, 맥주)',\n '페리오 화이트나우 미백스트립',\n '차일드마일드',\n '인데놀정, 아리피졸정, 알마겔정, 폭세틴 캡슐, 자나팜정',\n '알루미늄 이물질 제거 파우더 화합물',\n '윤활유 클리너',\n '물풀',\n '에너지 드링크, 카페인 알약',\n '방향제 스프레이',\n '금속 세척제',\n '강산성 부식을 제거하는 세척제',\n '기침약',\n '가구용 목재 세정제',\n '자나팜',\n 'paliperidone, Amisulpride',\n '히스티온정',\n '주방 청소용 세제',\n '졸민정',\n '오르필서장정',\n '열 보호제',\n '수면보조제',\n '산도스에스시탈로프람정',\n '다에타민',\n '유해가스',\n '차량용 냉각수',\n '벤조디아제핀',\n '화분용 살충제',\n '문구용 스프레이 접착제',\n '목공용 접착제',\n '트라마돌 서방정',\n '로하스베베 베이비 내피크림',\n '인데놀정',\n '풀(접착제)',\n '서카토닌',\n 'Mirtazapine',\n '독사',\n '자동차용 거품 스프레이',\n '메디아벤',\n '셉트린',\n '산성 부식제',\n '액체 타입 제초제',\n 'Pantomag, Polybutine, Hilase, Diazepam, Razepam',\n '에토피크림',\n '퀴에타핀정, 아빌리파이정',\n '휠세정제',\n '자낙스정',\n '꽃씨',\n '소화제',\n '검은 연기',\n '에바페린',\n '세제',\n '산업용 용제',\n '벤조디아제핀, 모르핀',\n '방향제 스틱',\n '졸피뎀, 벤라팍신',\n '페인트 원료',\n '락스, 곰팡이 제거제',\n '욕실 청소용품 락스',\n 'astrix',\n '디곡신',\n '에르고타민',\n '립밤',\n '산업용 화학 시약',\n '욕실세정제 스프레이',\n '변기 세정제',\n '에너지 부스터 다이어트 약',\n '기계 윤활유',\n '다용도 스프레이 세정제',\n '화이트보드 클리너',\n '난로 내부 기름 증기',\n '졸피뎀 수면제',\n '바닥 세정제',\n '붙이는 파스, 뿌리는 스프레이용 파스',\n '변기용 향균벽걸이 방향제',\n '방충 스프레이',\n '초콜릿, 탄산음료',\n '데파코트서방정',\n '자동차 엔진 청소용 세제',\n '애터미 앱솔루트 셀렉티브 아이컴플렉스',\n '공업용 윤활제',\n '커피, 에너지 드링크',\n '냉각제(차량용 부동액)',\n '잘트론',\n 'ADHD 약',\n '콕시원캡슐',\n '섬유탈취제',\n '아스피린 계열 진통제',\n '도토리',\n '항히스타민제(XX스민)',\n '스프레이 방향제',\n '주방용 강한 화학성 세정제',\n ...]"
     },
     "execution_count": 73,
     "metadata": {},
     "output_type": "execute_result"
    }
   ],
   "source": [
    "TBL_NAME = \"ChatTable\"\n",
    "COLUMN_NAME = \"노출제품명\"\n",
    "QUERY = f\"SELECT DISTINCT {COLUMN_NAME} FROM {TBL_NAME};\"\n",
    "distinct_values = select_distinct_values(QUERY, DB_CONFIG)\n",
    "distinct_values"
   ],
   "metadata": {
    "collapsed": false,
    "ExecuteTime": {
     "end_time": "2024-12-30T05:53:11.491613900Z",
     "start_time": "2024-12-30T05:53:11.452614Z"
    }
   },
   "id": "c7b3ab5fd653c72",
   "execution_count": 73
  },
  {
   "cell_type": "code",
   "execution_count": 91,
   "id": "8524cbe4e7beecd9",
   "metadata": {
    "collapsed": false,
    "ExecuteTime": {
     "end_time": "2024-12-30T06:10:06.975310500Z",
     "start_time": "2024-12-30T06:10:06.966310300Z"
    }
   },
   "outputs": [
    {
     "name": "stdout",
     "output_type": "stream",
     "text": [
      "nope\n"
     ]
    }
   ],
   "source": [
    "question = \"우리 아이가 포름알데히드 먹었어요. 어떡해요!\"\n",
    "\n",
    "if any(value in question for value in distinct_values):\n",
    "    print(distinct_values) \n",
    "else:\n",
    "    print(\"nope\")\n"
   ]
  },
  {
   "cell_type": "code",
   "outputs": [],
   "source": [],
   "metadata": {
    "collapsed": false
   },
   "id": "d7e116f8dfa01a44"
  }
 ],
 "metadata": {
  "kernelspec": {
   "display_name": "Python 3",
   "language": "python",
   "name": "python3"
  },
  "language_info": {
   "codemirror_mode": {
    "name": "ipython",
    "version": 2
   },
   "file_extension": ".py",
   "mimetype": "text/x-python",
   "name": "python",
   "nbconvert_exporter": "python",
   "pygments_lexer": "ipython2",
   "version": "2.7.6"
  }
 },
 "nbformat": 4,
 "nbformat_minor": 5
}
