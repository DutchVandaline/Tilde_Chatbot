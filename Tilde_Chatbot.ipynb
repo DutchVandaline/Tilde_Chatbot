{
 "cells": [
  {
   "cell_type": "markdown",
   "id": "ddc9736ecb767e03",
   "metadata": {
    "collapsed": false
   },
   "source": [
    "## POSTGRESQL 설치 방법\n",
    "처음 postgresql을 사용하는 경우, Psycopg2와 postgres를 설치하여 super user 선언 및 사용자 권한 부여를 진행해야함. 다만, 주피터 노트북에서 사용하는 경우 설치 및 실행 과정이 다름.\n",
    "\n",
    "- **Psycopg2-binary 설치**(PostgreSQL과 연결하는 Python Package)\n",
    "> ```bash\n",
    "> pip install psycopg2-binary\n",
    "> conda install -c conda-forge postgresql\n",
    "> psql --version\n",
    "> ```\n",
    "\n",
    "- **PSQL 설치** (PostgreSQL 그 자체)\n",
    "> ```bash\n",
    "> conda install -c conda-forge postgresql\n",
    ">```\n",
    "- 설치 완료 후 버전 확인\n",
    ">``` bash\n",
    "> (branchPJH) PS C:\\junha\\Tilde_Chatbot> conda list | findstr postgresql\n",
    "> postgresql                16.3                 h7f155c9_0    conda-forge\n",
    "> ```\n",
    " \n",
    "- **pgdata** 받아오기\n",
    "> ```bash\n",
    "> & \"C:\\Users\\overr\\anaconda3\\envs\\branchPJH\\Library\\bin\\initdb\" -D \"./pgdata\"\n",
    "> ...(log 중략)...\n",
    "> Success. You can now start the database server using:\n",
    ">\n",
    ">   \"C:\\Users\\overr\\anaconda3\\envs\\branchPJH\\Library\\bin\\pg_ctl\" -D \"./pgdata\" -l logfile start\n",
    "> ```\n",
    "실행 이후 해당 프로젝트 내부에 *pgdata* 디렉토리가 만들어졌는지 확인할 것."
   ]
  },
  {
   "cell_type": "markdown",
   "id": "92747cac01157d9f",
   "metadata": {
    "collapsed": false
   },
   "source": [
    "## POSTGRESQL 사용자 선언\n",
    "SQL을 사용하기 위헤서는 Super User와 하부 사용자가 필요. 여기서 Super User의 이름은 *postgres*로, 하부 사용자 이름은 *d519*로 설정. 먼저, 암호 코드 설정\n",
    "**1. 암호 파일 생성**\n",
    "> ```bash\n",
    "> echo \"d519\" > superuser_password.txt\n",
    "> ```\n",
    "\n",
    "**2. 오류 방지를 위해 기존의 **pgdata** 삭제 (삭제 안될 경우 파일 탐색기에서 pgdata파일 삭제)**\n",
    ">```bash\n",
    "> rmdir /s pgdata\n",
    "> ```\n",
    "\n",
    "**3. 새로 초기화**\n",
    "> ```bash\n",
    "> initdb -D ./pgdata --auth-local=md5 --auth-host=md5 --username=postgres --pwprompt\n",
    "> ```\n",
    "- 실행 시 로그\n",
    "> > ```bash\n",
    "> > (branchPJH) PS C:\\junha\\Tilde_Chatbot> initdb -D ./pgdata --auth-local=md5 --auth-host=md5 --username=postgres --pwprompt\n",
    "> > The files belonging to this database system will be owned by user \"overr\".\n",
    "> > This user must also own the server process.\n",
    "> > \n",
    "> > The database cluster will be initialized with locale \"Korean_Korea.949\".\n",
    "> > Encoding \"UHC\" implied by locale is not allowed as a server-side encoding.\n",
    "> > The default database encoding will be set to \"UTF8\" instead.\n",
    "> > initdb: could not find suitable text search configuration for locale \"Korean_Korea.949\"\n",
    "> > The default text search configuration will be set to \"simple\".\n",
    "> > \n",
    "> > Data page checksums are disabled.\n",
    "> > \n",
    "> > Enter new superuser password: \n",
    "> > Enter it again:\n",
    "> > \n",
    "> > creating directory pgdata ... ok\n",
    "> > creating subdirectories ... ok\n",
    "> > selecting dynamic shared memory implementation ... windows\n",
    "> > selecting default max_connections ... 100\n",
    "> > selecting default shared_buffers ... 128MB\n",
    "> > selecting default time zone ... Asia/Seoul\n",
    "> > creating configuration files ... ok\n",
    "> > running bootstrap script ... ok\n",
    "> > performing post-bootstrap initialization ... ok\n",
    "> > syncing data to disk ... ok\n",
    "> > \n",
    "> > Success. You can now start the database server using:\n",
    "> > \n",
    "> >     ^\"C^:^\\Users^\\overr^\\anaconda3^\\envs^\\branchPJH^\\Library^\\bin^\\pg^_ctl^\" -D ./pgdata -l logfile start\n",
    "> > ```\n",
    "   \n",
    "**4. `initdb` 명령 실행**\n",
    "> ```bash\n",
    "> & \"C:\\Users\\overr\\anaconda3\\envs\\branchPJH\\Library\\bin\\pg_ctl\" -D \"./pgdata\" -l \"logfile\" start\n",
    "> ```\n",
    "- 실행 시 로그\n",
    "> > ```bash\n",
    "> > waiting for server to start.... done\n",
    "> > server started\n",
    "> > ```"
   ]
  },
  {
   "cell_type": "markdown",
   "id": "498f755c8ff0e8dc",
   "metadata": {
    "collapsed": false
   },
   "source": [
    "# PostgreSQL 내부 작업\n",
    "\n",
    "**1. Postgres 실행 확인**\n",
    "> ```bash\n",
    "> (branchPJH) PS C:\\junha\\Tilde_Chatbot> netstat -an | Select-String \"5432\"\n",
    "> TCP    127.0.0.1:5432         0.0.0.0:0              LISTENING\n",
    "> TCP    [::1]:5432             [::]:0                 LISTENING\n",
    "> ```\n",
    "\n",
    "**2. 로그인**\n",
    "> ```bash\n",
    "> (branchPJH) PS C:\\junha\\Tilde_Chatbot> psql -U postgres -h localhost -p 5432\n",
    "> Password for user postgres: \n",
    "> psql (16.3)\n",
    "> Type \"help\" for help.\n",
    "> postgres=#\n",
    "> ```\n",
    "`postgres=#`가 나오면 로그인 성공.\n",
    "\n",
    "**3. User 추가**\n",
    "> ```bash\n",
    "> postgres=# CREATE ROLE d519 WITH LOGIN PASSWORD 'd519';\n",
    "> CREATE ROLE\n",
    "> ```\n",
    "\n",
    "**4. DB 선언**\n",
    "> ```bash\n",
    "> postgres=# CREATE DATABASE TildeChatBotDB; \n",
    "> CREATE DATABASE\n",
    "> postgres=# \\l\n",
    ">                                                                List of databases\n",
    ">       Name      |  Owner   | Encoding | Locale Provider |     Collate      |      Ctype       | ICU Locale | ICU Rules |   Access privileges\n",
    "> ----------------+----------+----------+-----------------+------------------+------------------+------------+-----------+-----------------------\n",
    ">  postgres       | postgres | UTF8     | libc            | Korean_Korea.949 | Korean_Korea.949 |            |           |\n",
    ">  template0      | postgres | UTF8     | libc            | Korean_Korea.949 | Korean_Korea.949 |            |           | =c/postgres          +\n",
    ">                 |          |          |                 |                  |                  |            |           | postgres=CTc/postgres\n",
    ">  template1      | postgres | UTF8     | libc            | Korean_Korea.949 | Korean_Korea.949 |            |           | =c/postgres          +\n",
    ">                 |          |          |                 |                  |                  |            |           | postgres=CTc/postgres\n",
    ">  tildechatbotdb | postgres | UTF8     | libc            | Korean_Korea.949 | Korean_Korea.949 |            |           |\n",
    "> (4 rows)\n",
    "> ```\n",
    "\n",
    "**5. tildechatbotdb 소유주를 postgres에서 d519로 변경**\n",
    "> ```bash\n",
    "> postgres=# ALTER DATABASE tildechatbotdb OWNER TO d519;\n",
    "> ALTER DATABASE\n",
    "> postgres=# \\l\n",
    ">                                                                List of databases\n",
    ">       Name      |  Owner   | Encoding | Locale Provider |     Collate      |      Ctype       | ICU Locale | ICU Rules |   Access privileges\n",
    "> ----------------+----------+----------+-----------------+------------------+------------------+------------+-----------+-----------------------\n",
    ">  postgres       | postgres | UTF8     | libc            | Korean_Korea.949 | Korean_Korea.949 |            |           |\n",
    ">  template0      | postgres | UTF8     | libc            | Korean_Korea.949 | Korean_Korea.949 |            |           | =c/postgres          +\n",
    ">                 |          |          |                 |                  |                  |            |           | postgres=CTc/postgres\n",
    ">  template1      | postgres | UTF8     | libc            | Korean_Korea.949 | Korean_Korea.949 |            |           | =c/postgres          +\n",
    ">                 |          |          |                 |                  |                  |            |           | postgres=CTc/postgres\n",
    ">  tildechatbotdb | d519     | UTF8     | libc            | Korean_Korea.949 | Korean_Korea.949 |            |           | =Tc/d519             +\n",
    ">                 |          |          |                 |                  |                  |            |           | d519=CTc/d519\n",
    "> (4 rows)\n",
    "> ```\n",
    "\n",
    "**6. 로그아웃**\n",
    "> ```bash\n",
    "> postgres=# \\q\n",
    "> (branchPJH) PS C:\\junha\\Tilde_Chatbot>\n",
    "> ```\n"
   ]
  },
  {
   "cell_type": "code",
   "execution_count": 8,
   "id": "initial_id",
   "metadata": {
    "collapsed": true,
    "ExecuteTime": {
     "end_time": "2024-12-29T03:14:32.620934700Z",
     "start_time": "2024-12-29T03:14:32.604927300Z"
    }
   },
   "outputs": [],
   "source": [
    "import pandas as pd\n",
    "import psycopg2"
   ]
  },
  {
   "cell_type": "markdown",
   "id": "8ea36a53fb102920",
   "metadata": {
    "collapsed": false
   },
   "source": [
    "# 전원 다시 시작시\n",
    "- Terminal에서 PostgerSQL 서버 시작하기  \n",
    "> ```bash\n",
    "> & \"C:\\Users\\overr\\anaconda3\\envs\\branchPJH\\Library\\bin\\pg_ctl\" -D \"./pgdata\" -l \"logfile\" start\n",
    "> ```\n",
    " \n",
    "- Terminal에서 super user인 **postgres**로 로그인\n",
    "> ```bash\n",
    "> psql -U postgres -h localhost -p 5432\n",
    "> ```"
   ]
  },
  {
   "cell_type": "code",
   "outputs": [],
   "source": [
    "# & \"C:\\Users\\overr\\anaconda3\\envs\\branchPJH\\Library\\bin\\pg_ctl\" -D \"./pgdata\" -l \"logfile\" start"
   ],
   "metadata": {
    "collapsed": false,
    "ExecuteTime": {
     "end_time": "2024-12-29T03:14:55.845290800Z",
     "start_time": "2024-12-29T03:14:55.840290400Z"
    }
   },
   "id": "c5f9f0a73619172a",
   "execution_count": 9
  },
  {
   "cell_type": "code",
   "execution_count": 10,
   "id": "f8e0006d9917b7e",
   "metadata": {
    "collapsed": false,
    "ExecuteTime": {
     "end_time": "2024-12-29T03:14:56.204712500Z",
     "start_time": "2024-12-29T03:14:56.179713700Z"
    }
   },
   "outputs": [
    {
     "name": "stdout",
     "output_type": "stream",
     "text": [
      "PostgreSQL 연결 성공!\n"
     ]
    }
   ],
   "source": [
    "# Postgres 연결 확인\n",
    "DB_CONFIG = {\n",
    "        'host': 'localhost',\n",
    "        'database': 'tildechatbotdb',\n",
    "        'user': 'd519',\n",
    "        'password': 'd519',\n",
    "        'port': 5432\n",
    "    }\n",
    "\n",
    "try:\n",
    "    # PostgreSQL에 연결\n",
    "    conn = psycopg2.connect(**DB_CONFIG)\n",
    "    print(\"PostgreSQL 연결 성공!\")\n",
    "    conn.close()\n",
    "except Exception as e:\n",
    "    print(f\"PostgreSQL 연결 실패: {e}\")\n"
   ]
  },
  {
   "cell_type": "markdown",
   "id": "c636e4e6e06ab7f4",
   "metadata": {
    "collapsed": false
   },
   "source": [
    "## 초기 작업 : 엑셀 내용 삽입\n",
    "2024년 12월 29일 기준으로 PostgreSQL 내부 tildechatbotdb에는 ChatTable이라는 이름의 테이블이 존재. 엑셀 내용이 전부 삽입되어있는 상태임. 만약, 새로 선언한다면, 주석을 제거하고 실행할 것."
   ]
  },
  {
   "cell_type": "code",
   "execution_count": 11,
   "id": "2cd9844423cdd5b8",
   "metadata": {
    "collapsed": false,
    "ExecuteTime": {
     "end_time": "2024-12-29T03:14:57.699722100Z",
     "start_time": "2024-12-29T03:14:57.687715600Z"
    }
   },
   "outputs": [],
   "source": [
    "# def create_table_from_excel_psycopg2(excel_file, table_name, db_config):\n",
    "#     df = pd.read_excel(excel_file)\n",
    "# \n",
    "#     conn = psycopg2.connect(**db_config)\n",
    "#     cursor = conn.cursor()\n",
    "# \n",
    "#     columns = ', '.join([f'\"{col}\" TEXT' for col in df.columns])\n",
    "#     create_table_query = f'CREATE TABLE IF NOT EXISTS {table_name} ({columns})'\n",
    "#     cursor.execute(create_table_query)\n",
    "# \n",
    "#     for _, row in df.iterrows():\n",
    "#         column_names = ', '.join([f'\"{col}\"' for col in df.columns])\n",
    "#         placeholders = ', '.join(['%s'] * len(row))\n",
    "#         insert_query = f'INSERT INTO {table_name} ({column_names}) VALUES ({placeholders})'\n",
    "#         cursor.execute(insert_query, tuple(row.values))\n",
    "# \n",
    "#     conn.commit()\n",
    "#     cursor.close()\n",
    "#     conn.close()\n",
    "#     print(f\"Table '{table_name}' created and data inserted successfully.\")"
   ]
  },
  {
   "cell_type": "code",
   "execution_count": 12,
   "id": "3e5e1d872fa14101",
   "metadata": {
    "collapsed": false,
    "ExecuteTime": {
     "end_time": "2024-12-29T03:14:58.121515100Z",
     "start_time": "2024-12-29T03:14:58.113515Z"
    }
   },
   "outputs": [],
   "source": [
    "# EXCEL_FILE = \"C:/junha/Datasets/ChatData.xlsx\"\n",
    "# TABLE_NAME = \"ChatTable\"\n",
    "# DB_CONFIG = {\n",
    "#         'host': 'localhost',\n",
    "#         'database': 'tildechatbotdb',\n",
    "#         'user': 'd519',\n",
    "#         'password': 'd519',\n",
    "#         'port': 5432\n",
    "#     }\n",
    "# \n",
    "# create_table_from_excel_psycopg2(EXCEL_FILE, TABLE_NAME, DB_CONFIG)\n"
   ]
  },
  {
   "cell_type": "markdown",
   "id": "d90a67fe5e464bdc",
   "metadata": {
    "collapsed": false
   },
   "source": [
    "## 데이터베이스 삽입 상태 확인"
   ]
  },
  {
   "cell_type": "code",
   "execution_count": 13,
   "id": "8fe3bd85554540c5",
   "metadata": {
    "collapsed": false,
    "ExecuteTime": {
     "end_time": "2024-12-29T03:14:59.237473200Z",
     "start_time": "2024-12-29T03:14:59.220464900Z"
    }
   },
   "outputs": [],
   "source": [
    "def verify_data_insertion(table_name, db_config):\n",
    "    try:\n",
    "        conn = psycopg2.connect(**db_config)\n",
    "        cursor = conn.cursor()\n",
    "\n",
    "        query = f\"SELECT * FROM {table_name}\"\n",
    "        cursor.execute(query)\n",
    "\n",
    "        result = cursor.fetchall()\n",
    "\n",
    "        if not result:\n",
    "            print(f\"No data found in table '{table_name}'.\")\n",
    "            return None\n",
    "\n",
    "        column_names = [desc[0] for desc in cursor.description]\n",
    "\n",
    "        df = pd.DataFrame(result, columns=column_names)\n",
    "        print(f\"Data in table '{table_name}':\")\n",
    "\n",
    "        cursor.close()\n",
    "        conn.close()\n",
    "        return df\n",
    "\n",
    "    except Exception as e:\n",
    "        print(f\"Error verifying data: {e}\")\n"
   ]
  },
  {
   "cell_type": "code",
   "execution_count": 14,
   "id": "b12d2beb1268c897",
   "metadata": {
    "collapsed": false,
    "ExecuteTime": {
     "end_time": "2024-12-29T03:14:59.944854700Z",
     "start_time": "2024-12-29T03:14:59.871851700Z"
    }
   },
   "outputs": [
    {
     "name": "stdout",
     "output_type": "stream",
     "text": [
      "Data in table 'ChatTable':\n"
     ]
    },
    {
     "data": {
      "text/plain": "     Data_no   구분 데이터제공     임상과  \\\n0        217  일반인   주형준  소아청소년과   \n1       2457  의료진  중독센터     NaN   \n2       2028  의료진  중독센터     NaN   \n3       1585  일반인    생성     NaN   \n4       1724  일반인    생성     NaN   \n...      ...  ...   ...     ...   \n2517     411  일반인    생성     NaN   \n2518    2402  의료진  중독센터     NaN   \n2519     158  일반인   주형준  소아청소년과   \n2520     162  일반인   주형준   응급의학과   \n2521     700  일반인    생성     NaN   \n\n                                                     제목  \\\n0                                    5개월아기 치약을 잘못썼어요ㅜㅜ.   \n1                                                   NaN   \n2                                                   NaN   \n3                                                   NaN   \n4                                                   NaN   \n...                                                 ...   \n2517                                                NaN   \n2518                                                NaN   \n2519  아이가 유치원에서 모발검사에서 납수치가 3.9ppm이나왔어요 기준치가 2ppm이던데...   \n2520                                 비스페놀a (BPA)로 인한 화상   \n2521                                                NaN   \n\n                                                   질문원본  \\\n0     5개월아기 이제 치아가 하나 나서 처음 치약쓰는거라 애기용품점에서 추천받고 보지도않...   \n1     고려대학교 안암병원입니다.\\n중독 물질 관련 정보 의뢰드립니다. \\n\\n# 노출 대...   \n2     안녕하세요 고대구로병원입니다\\n약물정보의뢰드립니다\\nMale 50세 \\nacampr...   \n3                                                   NaN   \n4                                                   NaN   \n...                                                 ...   \n2517                                                NaN   \n2518  고려대학교 안산병원 응급의료센터 중독약물 분석의뢰 드립니다.\\n성별/나이 : F/3...   \n2519  아이가 유치원에서 모발검사에서 납수치가 3.9ppm이나왔어요 기준치가 2ppm이던데...   \n2520  일하다가 비스페놀a(BPA) 화학물질이안면부에 튀어 화상을 입었습니다 어제 급히 화...   \n2521                                                NaN   \n\n                                                   질문수정   나이   성별   노출제품유형  \\\n0     5개월아기 치약을 잘못썼어요ㅜㅜ., 5개월아기 이제 치아가 하나 나서 처음 치약쓰는...  5개월  NaN   생활화학제품   \n1     1) 나이 및 성별 (소아는 몸무게) : F/23\\n\\n2) 노출 물질 및 경로(용...  23세   여자      의약품   \n2     Male 50세 \\nacamprosate, mirtazapine, zolpid \\n...  50세   남자      의약품   \n3     저희 아들이 14살인데요, 최근에 집중력 문제로 병원에서 ADHD 약을 처방받아서 ...  14세   남자      의약품   \n4     제가 9살 남자 조카를 돌보고 있는데, 몸무게는 27kg이에요. 오늘 오후에 공부를...   9세   남자      의약품   \n...                                                 ...  ...  ...      ...   \n2517  제가 29살 여자고, 오늘 공장에서 일하다가 희석제를 다루는 작업 중에 손등 쪽으로...  29세   여자  공업용화학제품   \n2518         성별/나이 : F/35\\n의도적 / 자택 / 경구\\n음독약물명 : 히스티온정  35세   여자      의약품   \n2519  아이가 유치원에서 모발검사에서 납수치가 3.9ppm이나왔어요 기준치가 2ppm이던데...  NaN  NaN      중금속   \n2520  비스페놀a (BPA)로 인한 화상, 일하다가 비스페놀a(BPA) 화학물질이안면부에 ...  NaN  NaN  공업용화학제품   \n2521  제 아들이 10살이고 몸무게는 35kg 정도 돼요. 오늘 학교 운동장에서 화학실험 ...  10세   남자     유해가스   \n\n      ... 노출시간                                노출후증상   몸무게     노출용량  \\\n0     ...  일회성                                  NaN   NaN   불소 250   \n1     ...  NaN                               drowsy   NaN      NaN   \n2     ...  NaN                                  NaN   NaN      NaN   \n3     ...  1개월           두통, 심장 두근거림, 짜증, 멍하게 앉아 있음   NaN  하루 60mg   \n4     ...  30분  가슴 두근거림, 얼굴 약간 빨개짐, 의식 명확, 호흡 문제 없음  27kg      NaN   \n...   ...  ...                                  ...   ...      ...   \n2517  ...  10초            손등 피부가 간지럽고 붉어지며 찌릿찌릿한 느낌   NaN       일부   \n2518  ...  NaN                                  NaN   NaN      NaN   \n2519  ...  NaN                                  NaN   NaN   3.9ppm   \n2520  ...  일회성                                   화상   NaN      NaN   \n2521  ...  20분               목 통증, 심한 기침, 두통, 눈 따가움  35kg      NaN   \n\n                노출후응급처치                                               답변원본  \\\n0                   NaN  안녕하세요. 대한의사협회·네이버 지식iN 상담의사 엄민용 입니다. 영아의 치솔질은 ...   \n1                   NaN  안녕하세요. 서울시 독성물질 중독관리센터입니다.\\n\\n요청하신 약품의 의약품안전나라...   \n2                   NaN  안녕하세요, 요청하신 약물의 의약품 안전나라 약물정보 URL입니다.\\n\\n- aca...   \n3                   NaN                                                NaN   \n4              병원 방문 권장                                                NaN   \n...                 ...                                                ...   \n2517         흐르는 물로 씻어냄                                                NaN   \n2518                NaN  안녕하세요. 서울시 독성물질 중독관리센터입니다.\\n\\n요청하신 약품의 의약품안전나라...   \n2519                NaN  안녕하세요. 하이닥-네이버 지식iN 상담의 한재병 입니다. ​ 체내 흡수된 납을 배...   \n2520  화상전문병원에서 응급처치를 받음  화학화상입니다. 물집이 생기는 2도화상 이하의 화상이라면  흉터 걱정은 안하셔도됩니...   \n2521                NaN                                                NaN   \n\n                                                   답변수정  \\\n0                                                   NaN   \n1     Abilify 정 5mg 아빌리파이\\nhttps://nedrug.mfds.go.kr...   \n2     acamprosate -날트렉손\\nhttps://nedrug.mfds.go.kr/p...   \n3                                                   NaN   \n4                                                   NaN   \n...                                                 ...   \n2517                                                NaN   \n2518  히스티온 https://nedrug.mfds.go.kr/pbp/CCBBB01/get...   \n2519                                                NaN   \n2520                                                NaN   \n2521                                                NaN   \n\n                                                  답변생성1         Date  \\\n0     5개월 아기에게 사용된 치약이 불소 250ppm 함유된 2단계 치약이라면, 소량 사...  2023.12.26.   \n1                                                   NaN          NaN   \n2                                                   NaN          NaN   \n3     메틸페니데이트는 ADHD 치료에 흔히 사용되는 약물로, 주의력 결핍 및 과잉행동을 ...          NaN   \n4     메틸페니데이트는 주로 ADHD 치료에 사용되는 약물로, 중추신경계 자극제입니다. 이...          NaN   \n...                                                 ...          ...   \n2517  톨루엔은 피부에 접촉 시 자극을 유발할 수 있는 화학물질로, 피부를 통해 일부 흡수...          NaN   \n2518                                                NaN          NaN   \n2519  모발검사를 통해 확인된 납 수치가 기준치(2ppm)를 초과한 3.9ppm으로 나왔다...  2023.11.28.   \n2520  비스페놀 A(BPA)는 주로 플라스틱 제조에 사용되는 화학물질로, 폴리카보네이트 플...  2021.05.17.   \n2521  아드님이 새콤한 냄새가 나는 연기에 노출된 후 목 통증, 기침, 두통, 눈 따가움 ...          NaN   \n\n                 Doctor  \n0                   엄민용  \n1                   상담원  \n2                   상담원  \n3     gpt-4o-2024-11-20  \n4     gpt-4o-2024-11-20  \n...                 ...  \n2517  gpt-4o-2024-11-20  \n2518                상담원  \n2519                한재병  \n2520                김태완  \n2521  gpt-4o-2024-11-20  \n\n[2522 rows x 24 columns]",
      "text/html": "<div>\n<style scoped>\n    .dataframe tbody tr th:only-of-type {\n        vertical-align: middle;\n    }\n\n    .dataframe tbody tr th {\n        vertical-align: top;\n    }\n\n    .dataframe thead th {\n        text-align: right;\n    }\n</style>\n<table border=\"1\" class=\"dataframe\">\n  <thead>\n    <tr style=\"text-align: right;\">\n      <th></th>\n      <th>Data_no</th>\n      <th>구분</th>\n      <th>데이터제공</th>\n      <th>임상과</th>\n      <th>제목</th>\n      <th>질문원본</th>\n      <th>질문수정</th>\n      <th>나이</th>\n      <th>성별</th>\n      <th>노출제품유형</th>\n      <th>...</th>\n      <th>노출시간</th>\n      <th>노출후증상</th>\n      <th>몸무게</th>\n      <th>노출용량</th>\n      <th>노출후응급처치</th>\n      <th>답변원본</th>\n      <th>답변수정</th>\n      <th>답변생성1</th>\n      <th>Date</th>\n      <th>Doctor</th>\n    </tr>\n  </thead>\n  <tbody>\n    <tr>\n      <th>0</th>\n      <td>217</td>\n      <td>일반인</td>\n      <td>주형준</td>\n      <td>소아청소년과</td>\n      <td>5개월아기 치약을 잘못썼어요ㅜㅜ.</td>\n      <td>5개월아기 이제 치아가 하나 나서 처음 치약쓰는거라 애기용품점에서 추천받고 보지도않...</td>\n      <td>5개월아기 치약을 잘못썼어요ㅜㅜ., 5개월아기 이제 치아가 하나 나서 처음 치약쓰는...</td>\n      <td>5개월</td>\n      <td>NaN</td>\n      <td>생활화학제품</td>\n      <td>...</td>\n      <td>일회성</td>\n      <td>NaN</td>\n      <td>NaN</td>\n      <td>불소 250</td>\n      <td>NaN</td>\n      <td>안녕하세요. 대한의사협회·네이버 지식iN 상담의사 엄민용 입니다. 영아의 치솔질은 ...</td>\n      <td>NaN</td>\n      <td>5개월 아기에게 사용된 치약이 불소 250ppm 함유된 2단계 치약이라면, 소량 사...</td>\n      <td>2023.12.26.</td>\n      <td>엄민용</td>\n    </tr>\n    <tr>\n      <th>1</th>\n      <td>2457</td>\n      <td>의료진</td>\n      <td>중독센터</td>\n      <td>NaN</td>\n      <td>NaN</td>\n      <td>고려대학교 안암병원입니다.\\n중독 물질 관련 정보 의뢰드립니다. \\n\\n# 노출 대...</td>\n      <td>1) 나이 및 성별 (소아는 몸무게) : F/23\\n\\n2) 노출 물질 및 경로(용...</td>\n      <td>23세</td>\n      <td>여자</td>\n      <td>의약품</td>\n      <td>...</td>\n      <td>NaN</td>\n      <td>drowsy</td>\n      <td>NaN</td>\n      <td>NaN</td>\n      <td>NaN</td>\n      <td>안녕하세요. 서울시 독성물질 중독관리센터입니다.\\n\\n요청하신 약품의 의약품안전나라...</td>\n      <td>Abilify 정 5mg 아빌리파이\\nhttps://nedrug.mfds.go.kr...</td>\n      <td>NaN</td>\n      <td>NaN</td>\n      <td>상담원</td>\n    </tr>\n    <tr>\n      <th>2</th>\n      <td>2028</td>\n      <td>의료진</td>\n      <td>중독센터</td>\n      <td>NaN</td>\n      <td>NaN</td>\n      <td>안녕하세요 고대구로병원입니다\\n약물정보의뢰드립니다\\nMale 50세 \\nacampr...</td>\n      <td>Male 50세 \\nacamprosate, mirtazapine, zolpid \\n...</td>\n      <td>50세</td>\n      <td>남자</td>\n      <td>의약품</td>\n      <td>...</td>\n      <td>NaN</td>\n      <td>NaN</td>\n      <td>NaN</td>\n      <td>NaN</td>\n      <td>NaN</td>\n      <td>안녕하세요, 요청하신 약물의 의약품 안전나라 약물정보 URL입니다.\\n\\n- aca...</td>\n      <td>acamprosate -날트렉손\\nhttps://nedrug.mfds.go.kr/p...</td>\n      <td>NaN</td>\n      <td>NaN</td>\n      <td>상담원</td>\n    </tr>\n    <tr>\n      <th>3</th>\n      <td>1585</td>\n      <td>일반인</td>\n      <td>생성</td>\n      <td>NaN</td>\n      <td>NaN</td>\n      <td>NaN</td>\n      <td>저희 아들이 14살인데요, 최근에 집중력 문제로 병원에서 ADHD 약을 처방받아서 ...</td>\n      <td>14세</td>\n      <td>남자</td>\n      <td>의약품</td>\n      <td>...</td>\n      <td>1개월</td>\n      <td>두통, 심장 두근거림, 짜증, 멍하게 앉아 있음</td>\n      <td>NaN</td>\n      <td>하루 60mg</td>\n      <td>NaN</td>\n      <td>NaN</td>\n      <td>NaN</td>\n      <td>메틸페니데이트는 ADHD 치료에 흔히 사용되는 약물로, 주의력 결핍 및 과잉행동을 ...</td>\n      <td>NaN</td>\n      <td>gpt-4o-2024-11-20</td>\n    </tr>\n    <tr>\n      <th>4</th>\n      <td>1724</td>\n      <td>일반인</td>\n      <td>생성</td>\n      <td>NaN</td>\n      <td>NaN</td>\n      <td>NaN</td>\n      <td>제가 9살 남자 조카를 돌보고 있는데, 몸무게는 27kg이에요. 오늘 오후에 공부를...</td>\n      <td>9세</td>\n      <td>남자</td>\n      <td>의약품</td>\n      <td>...</td>\n      <td>30분</td>\n      <td>가슴 두근거림, 얼굴 약간 빨개짐, 의식 명확, 호흡 문제 없음</td>\n      <td>27kg</td>\n      <td>NaN</td>\n      <td>병원 방문 권장</td>\n      <td>NaN</td>\n      <td>NaN</td>\n      <td>메틸페니데이트는 주로 ADHD 치료에 사용되는 약물로, 중추신경계 자극제입니다. 이...</td>\n      <td>NaN</td>\n      <td>gpt-4o-2024-11-20</td>\n    </tr>\n    <tr>\n      <th>...</th>\n      <td>...</td>\n      <td>...</td>\n      <td>...</td>\n      <td>...</td>\n      <td>...</td>\n      <td>...</td>\n      <td>...</td>\n      <td>...</td>\n      <td>...</td>\n      <td>...</td>\n      <td>...</td>\n      <td>...</td>\n      <td>...</td>\n      <td>...</td>\n      <td>...</td>\n      <td>...</td>\n      <td>...</td>\n      <td>...</td>\n      <td>...</td>\n      <td>...</td>\n      <td>...</td>\n    </tr>\n    <tr>\n      <th>2517</th>\n      <td>411</td>\n      <td>일반인</td>\n      <td>생성</td>\n      <td>NaN</td>\n      <td>NaN</td>\n      <td>NaN</td>\n      <td>제가 29살 여자고, 오늘 공장에서 일하다가 희석제를 다루는 작업 중에 손등 쪽으로...</td>\n      <td>29세</td>\n      <td>여자</td>\n      <td>공업용화학제품</td>\n      <td>...</td>\n      <td>10초</td>\n      <td>손등 피부가 간지럽고 붉어지며 찌릿찌릿한 느낌</td>\n      <td>NaN</td>\n      <td>일부</td>\n      <td>흐르는 물로 씻어냄</td>\n      <td>NaN</td>\n      <td>NaN</td>\n      <td>톨루엔은 피부에 접촉 시 자극을 유발할 수 있는 화학물질로, 피부를 통해 일부 흡수...</td>\n      <td>NaN</td>\n      <td>gpt-4o-2024-11-20</td>\n    </tr>\n    <tr>\n      <th>2518</th>\n      <td>2402</td>\n      <td>의료진</td>\n      <td>중독센터</td>\n      <td>NaN</td>\n      <td>NaN</td>\n      <td>고려대학교 안산병원 응급의료센터 중독약물 분석의뢰 드립니다.\\n성별/나이 : F/3...</td>\n      <td>성별/나이 : F/35\\n의도적 / 자택 / 경구\\n음독약물명 : 히스티온정</td>\n      <td>35세</td>\n      <td>여자</td>\n      <td>의약품</td>\n      <td>...</td>\n      <td>NaN</td>\n      <td>NaN</td>\n      <td>NaN</td>\n      <td>NaN</td>\n      <td>NaN</td>\n      <td>안녕하세요. 서울시 독성물질 중독관리센터입니다.\\n\\n요청하신 약품의 의약품안전나라...</td>\n      <td>히스티온 https://nedrug.mfds.go.kr/pbp/CCBBB01/get...</td>\n      <td>NaN</td>\n      <td>NaN</td>\n      <td>상담원</td>\n    </tr>\n    <tr>\n      <th>2519</th>\n      <td>158</td>\n      <td>일반인</td>\n      <td>주형준</td>\n      <td>소아청소년과</td>\n      <td>아이가 유치원에서 모발검사에서 납수치가 3.9ppm이나왔어요 기준치가 2ppm이던데...</td>\n      <td>아이가 유치원에서 모발검사에서 납수치가 3.9ppm이나왔어요 기준치가 2ppm이던데...</td>\n      <td>아이가 유치원에서 모발검사에서 납수치가 3.9ppm이나왔어요 기준치가 2ppm이던데...</td>\n      <td>NaN</td>\n      <td>NaN</td>\n      <td>중금속</td>\n      <td>...</td>\n      <td>NaN</td>\n      <td>NaN</td>\n      <td>NaN</td>\n      <td>3.9ppm</td>\n      <td>NaN</td>\n      <td>안녕하세요. 하이닥-네이버 지식iN 상담의 한재병 입니다. ​ 체내 흡수된 납을 배...</td>\n      <td>NaN</td>\n      <td>모발검사를 통해 확인된 납 수치가 기준치(2ppm)를 초과한 3.9ppm으로 나왔다...</td>\n      <td>2023.11.28.</td>\n      <td>한재병</td>\n    </tr>\n    <tr>\n      <th>2520</th>\n      <td>162</td>\n      <td>일반인</td>\n      <td>주형준</td>\n      <td>응급의학과</td>\n      <td>비스페놀a (BPA)로 인한 화상</td>\n      <td>일하다가 비스페놀a(BPA) 화학물질이안면부에 튀어 화상을 입었습니다 어제 급히 화...</td>\n      <td>비스페놀a (BPA)로 인한 화상, 일하다가 비스페놀a(BPA) 화학물질이안면부에 ...</td>\n      <td>NaN</td>\n      <td>NaN</td>\n      <td>공업용화학제품</td>\n      <td>...</td>\n      <td>일회성</td>\n      <td>화상</td>\n      <td>NaN</td>\n      <td>NaN</td>\n      <td>화상전문병원에서 응급처치를 받음</td>\n      <td>화학화상입니다. 물집이 생기는 2도화상 이하의 화상이라면  흉터 걱정은 안하셔도됩니...</td>\n      <td>NaN</td>\n      <td>비스페놀 A(BPA)는 주로 플라스틱 제조에 사용되는 화학물질로, 폴리카보네이트 플...</td>\n      <td>2021.05.17.</td>\n      <td>김태완</td>\n    </tr>\n    <tr>\n      <th>2521</th>\n      <td>700</td>\n      <td>일반인</td>\n      <td>생성</td>\n      <td>NaN</td>\n      <td>NaN</td>\n      <td>NaN</td>\n      <td>제 아들이 10살이고 몸무게는 35kg 정도 돼요. 오늘 학교 운동장에서 화학실험 ...</td>\n      <td>10세</td>\n      <td>남자</td>\n      <td>유해가스</td>\n      <td>...</td>\n      <td>20분</td>\n      <td>목 통증, 심한 기침, 두통, 눈 따가움</td>\n      <td>35kg</td>\n      <td>NaN</td>\n      <td>NaN</td>\n      <td>NaN</td>\n      <td>NaN</td>\n      <td>아드님이 새콤한 냄새가 나는 연기에 노출된 후 목 통증, 기침, 두통, 눈 따가움 ...</td>\n      <td>NaN</td>\n      <td>gpt-4o-2024-11-20</td>\n    </tr>\n  </tbody>\n</table>\n<p>2522 rows × 24 columns</p>\n</div>"
     },
     "execution_count": 14,
     "metadata": {},
     "output_type": "execute_result"
    }
   ],
   "source": [
    "verify_data_insertion('ChatTable',DB_CONFIG)"
   ]
  },
  {
   "cell_type": "markdown",
   "source": [
    "## 원하는 값만 추출"
   ],
   "metadata": {
    "collapsed": false
   },
   "id": "f364d2f693913a2e"
  },
  {
   "cell_type": "code",
   "execution_count": 7,
   "id": "f04758a181c488f9",
   "metadata": {
    "collapsed": false,
    "ExecuteTime": {
     "end_time": "2024-12-29T03:14:12.755476500Z",
     "start_time": "2024-12-29T03:14:12.735477Z"
    }
   },
   "outputs": [],
   "source": [
    "def select_only_wanted(query, db_config):\n",
    "    try:\n",
    "        conn = psycopg2.connect(**db_config)\n",
    "        cursor = conn.cursor()\n",
    "        cursor.execute(query)\n",
    "\n",
    "        result = cursor.fetchall()\n",
    "\n",
    "        if not result:\n",
    "            print(f\"No data found\")\n",
    "            return None\n",
    "\n",
    "        column_names = [desc[0] for desc in cursor.description]\n",
    "\n",
    "        df = pd.DataFrame(result, columns=column_names)\n",
    "        print(f\"Data in table:\")\n",
    "\n",
    "        cursor.close()\n",
    "        conn.close()\n",
    "        return df\n",
    "\n",
    "    except Exception as e:\n",
    "        print(f\"Error verifying data: {e}\")\n"
   ]
  },
  {
   "cell_type": "code",
   "outputs": [
    {
     "name": "stdout",
     "output_type": "stream",
     "text": [
      "Data in table:\n"
     ]
    },
    {
     "data": {
      "text/plain": "  Data_no   구분 데이터제공    임상과             제목  \\\n0    2200  의료진  중독센터    NaN            NaN   \n1    2022  의료진  중독센터    NaN            NaN   \n2     238  일반인   주형준  응급의학과   과일 농약 섭취시 증상   \n3     183  일반인   주형준  응급의학과  농약 흡입 가능성에 대해   \n\n                                                질문원본  \\\n0  안녕하세요 고대구로병원입니다\\n약물정보 의뢰드립니다\\nFemale 58세\\n농약(그...   \n1  안녕하세요 고대구로병원입니다.\\n약물정보 의뢰드립니다\\nMale 55세\\n농약(글리...   \n2  감귤을 배달시켰는데 허옇게 뜬 농약같은 부분이 많고 약냄새도 좀 나고 터진부분이 좀...   \n3  안녕하세요! 시골에서 지금 생활을 하고 있는데요, 옆집 할머니네 마당 근처에 낡은 ...   \n\n                                                질문수정   나이   성별 노출제품유형  ...  \\\n0    Female 58세\\n농약(그라목손)\\n서울 / 경구 / 비의도적 / 50대 / 가정  58세   여자     농약  ...   \n1     Male 55세\\n농약(글리포세이트 이소프로필아민)\\n서울/경구/의도적/50대/가정  55세   남자     농약  ...   \n2  과일 농약 섭취시 증상, 감귤을 배달시켰는데 허옇게 뜬 농약같은 부분이 많고 약냄새...  NaN  NaN     농약  ...   \n3  농약 흡입 가능성에 대해, 안녕하세요! 시골에서 지금 생활을 하고 있는데요, 옆집 ...  NaN  NaN     농약  ...   \n\n     노출시간           노출후증상  몸무게 노출용량 노출후응급처치  \\\n0     NaN             NaN  NaN  NaN     NaN   \n1     NaN             NaN  NaN  NaN     NaN   \n2     일회성  배윗쪽이 빵빵해지는 팽만감  NaN  NaN     NaN   \n3  10-15분             NaN  NaN  NaN     NaN   \n\n                                                답변원본  \\\n0  안녕하세요. 서울시 독성물질 중독관리센터입니다.\\n\\n문의주신 그라목손 농약은 파라...   \n1  안녕하세요,\\n\\n요청하신 농약 성분의 독성정보제공시스템 URL를 보내드립니다.\\n...   \n2  안녕하세요. 하이닥-네이버 지식iN 상담의 한재병 입니다. ​ 현재 정보만으로는 농...   \n3  안녕하세요. 하이닥-네이버 지식iN 상담의 한재병 입니다. ​ 현재 정보로 판단하면...   \n\n                                                답변수정  \\\n0  문의주신 그라목손 농약은 파라쿼트 성분으로 확인됩니다.  주성분 독성정보제공시스템 ...   \n1  글리포세이트 \\nhttps://www.nifds.go.kr/toxinfo/tcd/i...   \n2                                                NaN   \n3                                                NaN   \n\n                                               답변생성1         Date Doctor  \n0                                                NaN          NaN    상담원  \n1                                                NaN          NaN    상담원  \n2  농약은 과일이나 채소의 재배 과정에서 사용되며, 섭취량과 종류에 따라 인체에 미치는...  2023.12.05.    한재병  \n3  농약은 종류와 성분에 따라 독성이 다르며, 특히 오래된 농약은 현재 사용이 금지된 ...  2023.06.30.    한재병  \n\n[4 rows x 24 columns]",
      "text/html": "<div>\n<style scoped>\n    .dataframe tbody tr th:only-of-type {\n        vertical-align: middle;\n    }\n\n    .dataframe tbody tr th {\n        vertical-align: top;\n    }\n\n    .dataframe thead th {\n        text-align: right;\n    }\n</style>\n<table border=\"1\" class=\"dataframe\">\n  <thead>\n    <tr style=\"text-align: right;\">\n      <th></th>\n      <th>Data_no</th>\n      <th>구분</th>\n      <th>데이터제공</th>\n      <th>임상과</th>\n      <th>제목</th>\n      <th>질문원본</th>\n      <th>질문수정</th>\n      <th>나이</th>\n      <th>성별</th>\n      <th>노출제품유형</th>\n      <th>...</th>\n      <th>노출시간</th>\n      <th>노출후증상</th>\n      <th>몸무게</th>\n      <th>노출용량</th>\n      <th>노출후응급처치</th>\n      <th>답변원본</th>\n      <th>답변수정</th>\n      <th>답변생성1</th>\n      <th>Date</th>\n      <th>Doctor</th>\n    </tr>\n  </thead>\n  <tbody>\n    <tr>\n      <th>0</th>\n      <td>2200</td>\n      <td>의료진</td>\n      <td>중독센터</td>\n      <td>NaN</td>\n      <td>NaN</td>\n      <td>안녕하세요 고대구로병원입니다\\n약물정보 의뢰드립니다\\nFemale 58세\\n농약(그...</td>\n      <td>Female 58세\\n농약(그라목손)\\n서울 / 경구 / 비의도적 / 50대 / 가정</td>\n      <td>58세</td>\n      <td>여자</td>\n      <td>농약</td>\n      <td>...</td>\n      <td>NaN</td>\n      <td>NaN</td>\n      <td>NaN</td>\n      <td>NaN</td>\n      <td>NaN</td>\n      <td>안녕하세요. 서울시 독성물질 중독관리센터입니다.\\n\\n문의주신 그라목손 농약은 파라...</td>\n      <td>문의주신 그라목손 농약은 파라쿼트 성분으로 확인됩니다.  주성분 독성정보제공시스템 ...</td>\n      <td>NaN</td>\n      <td>NaN</td>\n      <td>상담원</td>\n    </tr>\n    <tr>\n      <th>1</th>\n      <td>2022</td>\n      <td>의료진</td>\n      <td>중독센터</td>\n      <td>NaN</td>\n      <td>NaN</td>\n      <td>안녕하세요 고대구로병원입니다.\\n약물정보 의뢰드립니다\\nMale 55세\\n농약(글리...</td>\n      <td>Male 55세\\n농약(글리포세이트 이소프로필아민)\\n서울/경구/의도적/50대/가정</td>\n      <td>55세</td>\n      <td>남자</td>\n      <td>농약</td>\n      <td>...</td>\n      <td>NaN</td>\n      <td>NaN</td>\n      <td>NaN</td>\n      <td>NaN</td>\n      <td>NaN</td>\n      <td>안녕하세요,\\n\\n요청하신 농약 성분의 독성정보제공시스템 URL를 보내드립니다.\\n...</td>\n      <td>글리포세이트 \\nhttps://www.nifds.go.kr/toxinfo/tcd/i...</td>\n      <td>NaN</td>\n      <td>NaN</td>\n      <td>상담원</td>\n    </tr>\n    <tr>\n      <th>2</th>\n      <td>238</td>\n      <td>일반인</td>\n      <td>주형준</td>\n      <td>응급의학과</td>\n      <td>과일 농약 섭취시 증상</td>\n      <td>감귤을 배달시켰는데 허옇게 뜬 농약같은 부분이 많고 약냄새도 좀 나고 터진부분이 좀...</td>\n      <td>과일 농약 섭취시 증상, 감귤을 배달시켰는데 허옇게 뜬 농약같은 부분이 많고 약냄새...</td>\n      <td>NaN</td>\n      <td>NaN</td>\n      <td>농약</td>\n      <td>...</td>\n      <td>일회성</td>\n      <td>배윗쪽이 빵빵해지는 팽만감</td>\n      <td>NaN</td>\n      <td>NaN</td>\n      <td>NaN</td>\n      <td>안녕하세요. 하이닥-네이버 지식iN 상담의 한재병 입니다. ​ 현재 정보만으로는 농...</td>\n      <td>NaN</td>\n      <td>농약은 과일이나 채소의 재배 과정에서 사용되며, 섭취량과 종류에 따라 인체에 미치는...</td>\n      <td>2023.12.05.</td>\n      <td>한재병</td>\n    </tr>\n    <tr>\n      <th>3</th>\n      <td>183</td>\n      <td>일반인</td>\n      <td>주형준</td>\n      <td>응급의학과</td>\n      <td>농약 흡입 가능성에 대해</td>\n      <td>안녕하세요! 시골에서 지금 생활을 하고 있는데요, 옆집 할머니네 마당 근처에 낡은 ...</td>\n      <td>농약 흡입 가능성에 대해, 안녕하세요! 시골에서 지금 생활을 하고 있는데요, 옆집 ...</td>\n      <td>NaN</td>\n      <td>NaN</td>\n      <td>농약</td>\n      <td>...</td>\n      <td>10-15분</td>\n      <td>NaN</td>\n      <td>NaN</td>\n      <td>NaN</td>\n      <td>NaN</td>\n      <td>안녕하세요. 하이닥-네이버 지식iN 상담의 한재병 입니다. ​ 현재 정보로 판단하면...</td>\n      <td>NaN</td>\n      <td>농약은 종류와 성분에 따라 독성이 다르며, 특히 오래된 농약은 현재 사용이 금지된 ...</td>\n      <td>2023.06.30.</td>\n      <td>한재병</td>\n    </tr>\n  </tbody>\n</table>\n<p>4 rows × 24 columns</p>\n</div>"
     },
     "execution_count": 18,
     "metadata": {},
     "output_type": "execute_result"
    }
   ],
   "source": [
    "TBL_NAME = \"ChatTable\"\n",
    "COLUMN_NAME = \"질문원본\" #\"노출제품유형\"\n",
    "QUERY = f\"SELECT * FROM {TBL_NAME} WHERE {COLUMN_NAME} LIKE '%농약%'\"\n",
    "select_only_wanted(QUERY, DB_CONFIG)"
   ],
   "metadata": {
    "collapsed": false,
    "ExecuteTime": {
     "end_time": "2024-12-29T03:18:09.038171900Z",
     "start_time": "2024-12-29T03:18:08.999002400Z"
    }
   },
   "id": "ecf0b5a27c3eb69f",
   "execution_count": 18
  },
  {
   "cell_type": "code",
   "outputs": [],
   "source": [],
   "metadata": {
    "collapsed": false
   },
   "id": "c7b3ab5fd653c72"
  }
 ],
 "metadata": {
  "kernelspec": {
   "display_name": "Python 3",
   "language": "python",
   "name": "python3"
  },
  "language_info": {
   "codemirror_mode": {
    "name": "ipython",
    "version": 2
   },
   "file_extension": ".py",
   "mimetype": "text/x-python",
   "name": "python",
   "nbconvert_exporter": "python",
   "pygments_lexer": "ipython2",
   "version": "2.7.6"
  }
 },
 "nbformat": 4,
 "nbformat_minor": 5
}
