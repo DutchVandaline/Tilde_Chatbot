{
 "cells": [
  {
   "cell_type": "markdown",
   "id": "ddc9736ecb767e03",
   "metadata": {
    "collapsed": false
   },
   "source": [
    "## POSTGRESQL 설치 방법\n",
    "처음 postgresql을 사용하는 경우, Psycopg2와 postgres를 설치하여 super user 선언 및 사용자 권한 부여를 진행해야함. 다만, 주피터 노트북에서 사용하는 경우 설치 및 실행 과정이 다름.\n",
    "\n",
    "- **Psycopg2-binary 설치**(PostgreSQL과 연결하는 Python Package)\n",
    "> ```bash\n",
    "> pip install psycopg2-binary\n",
    "> conda install -c conda-forge postgresql\n",
    "> psql --version\n",
    "> ```\n",
    "\n",
    "- **PSQL 설치** (PostgreSQL 그 자체)\n",
    "> ```bash\n",
    "> conda install -c conda-forge postgresql\n",
    ">```\n",
    "- 설치 완료 후 버전 확인\n",
    ">``` bash\n",
    "> (branchPJH) PS C:\\junha\\Tilde_Chatbot> conda list | findstr postgresql\n",
    "> postgresql                16.3                 h7f155c9_0    conda-forge\n",
    "> ```\n",
    " \n",
    "- **pgdata** 받아오기\n",
    "> ```bash\n",
    "> & \"C:\\Users\\overr\\anaconda3\\envs\\branchPJH\\Library\\bin\\initdb\" -D \"./pgdata\"\n",
    "> ...(log 중략)...\n",
    "> Success. You can now start the database server using:\n",
    ">\n",
    ">   \"C:\\Users\\overr\\anaconda3\\envs\\branchPJH\\Library\\bin\\pg_ctl\" -D \"./pgdata\" -l logfile start\n",
    "> ```\n",
    "실행 이후 해당 프로젝트 내부에 *pgdata* 디렉토리가 만들어졌는지 확인할 것."
   ]
  },
  {
   "cell_type": "markdown",
   "id": "92747cac01157d9f",
   "metadata": {
    "collapsed": false
   },
   "source": [
    "## POSTGRESQL 사용자 선언\n",
    "SQL을 사용하기 위헤서는 Super User와 하부 사용자가 필요. 여기서 Super User의 이름은 *postgres*로, 하부 사용자 이름은 *d519*로 설정. 먼저, 암호 코드 설정\n",
    "**1. 암호 파일 생성**\n",
    "> ```bash\n",
    "> echo \"d519\" > superuser_password.txt\n",
    "> ```\n",
    "\n",
    "**2. 오류 방지를 위해 기존의 **pgdata** 삭제 (삭제 안될 경우 파일 탐색기에서 pgdata파일 삭제)**\n",
    ">```bash\n",
    "> rmdir /s pgdata\n",
    "> ```\n",
    "\n",
    "**3. 새로 초기화**\n",
    "> ```bash\n",
    "> initdb -D ./pgdata --auth-local=md5 --auth-host=md5 --username=postgres --pwprompt\n",
    "> ```\n",
    "- 실행 시 로그\n",
    "> > ```bash\n",
    "> > (branchPJH) PS C:\\junha\\Tilde_Chatbot> initdb -D ./pgdata --auth-local=md5 --auth-host=md5 --username=postgres --pwprompt\n",
    "> > The files belonging to this database system will be owned by user \"overr\".\n",
    "> > This user must also own the server process.\n",
    "> > \n",
    "> > The database cluster will be initialized with locale \"Korean_Korea.949\".\n",
    "> > Encoding \"UHC\" implied by locale is not allowed as a server-side encoding.\n",
    "> > The default database encoding will be set to \"UTF8\" instead.\n",
    "> > initdb: could not find suitable text search configuration for locale \"Korean_Korea.949\"\n",
    "> > The default text search configuration will be set to \"simple\".\n",
    "> > \n",
    "> > Data page checksums are disabled.\n",
    "> > \n",
    "> > Enter new superuser password: \n",
    "> > Enter it again:\n",
    "> > \n",
    "> > creating directory pgdata ... ok\n",
    "> > creating subdirectories ... ok\n",
    "> > selecting dynamic shared memory implementation ... windows\n",
    "> > selecting default max_connections ... 100\n",
    "> > selecting default shared_buffers ... 128MB\n",
    "> > selecting default time zone ... Asia/Seoul\n",
    "> > creating configuration files ... ok\n",
    "> > running bootstrap script ... ok\n",
    "> > performing post-bootstrap initialization ... ok\n",
    "> > syncing data to disk ... ok\n",
    "> > \n",
    "> > Success. You can now start the database server using:\n",
    "> > \n",
    "> >     ^\"C^:^\\Users^\\overr^\\anaconda3^\\envs^\\branchPJH^\\Library^\\bin^\\pg^_ctl^\" -D ./pgdata -l logfile start\n",
    "> > ```\n",
    "   \n",
    "**4. `initdb` 명령 실행**\n",
    "> ```bash\n",
    "> & \"C:\\Users\\overr\\anaconda3\\envs\\branchPJH\\Library\\bin\\pg_ctl\" -D \"./pgdata\" -l \"logfile\" start\n",
    "> ```\n",
    "- 실행 시 로그\n",
    "> > ```bash\n",
    "> > waiting for server to start.... done\n",
    "> > server started\n",
    "> > ```"
   ]
  },
  {
   "cell_type": "markdown",
   "id": "498f755c8ff0e8dc",
   "metadata": {
    "collapsed": false
   },
   "source": [
    "# PostgreSQL 내부 작업\n",
    "\n",
    "**1. Postgres 실행 확인**\n",
    "> ```bash\n",
    "> (branchPJH) PS C:\\junha\\Tilde_Chatbot> netstat -an | Select-String \"5432\"\n",
    "> TCP    127.0.0.1:5432         0.0.0.0:0              LISTENING\n",
    "> TCP    [::1]:5432             [::]:0                 LISTENING\n",
    "> ```\n",
    "\n",
    "**2. 로그인**\n",
    "> ```bash\n",
    "> (branchPJH) PS C:\\junha\\Tilde_Chatbot> psql -U postgres -h localhost -p 5432\n",
    "> Password for user postgres: \n",
    "> psql (16.3)\n",
    "> Type \"help\" for help.\n",
    "> postgres=#\n",
    "> ```\n",
    "`postgres=#`가 나오면 로그인 성공.\n",
    "\n",
    "**3. User 추가**\n",
    "> ```bash\n",
    "> postgres=# CREATE ROLE d519 WITH LOGIN PASSWORD 'd519';\n",
    "> CREATE ROLE\n",
    "> ```\n",
    "\n",
    "**4. DB 선언**\n",
    "> ```bash\n",
    "> postgres=# CREATE DATABASE TildeChatBotDB; \n",
    "> CREATE DATABASE\n",
    "> postgres=# \\l\n",
    ">                                                                List of databases\n",
    ">       Name      |  Owner   | Encoding | Locale Provider |     Collate      |      Ctype       | ICU Locale | ICU Rules |   Access privileges\n",
    "> ----------------+----------+----------+-----------------+------------------+------------------+------------+-----------+-----------------------\n",
    ">  postgres       | postgres | UTF8     | libc            | Korean_Korea.949 | Korean_Korea.949 |            |           |\n",
    ">  template0      | postgres | UTF8     | libc            | Korean_Korea.949 | Korean_Korea.949 |            |           | =c/postgres          +\n",
    ">                 |          |          |                 |                  |                  |            |           | postgres=CTc/postgres\n",
    ">  template1      | postgres | UTF8     | libc            | Korean_Korea.949 | Korean_Korea.949 |            |           | =c/postgres          +\n",
    ">                 |          |          |                 |                  |                  |            |           | postgres=CTc/postgres\n",
    ">  tildechatbotdb | postgres | UTF8     | libc            | Korean_Korea.949 | Korean_Korea.949 |            |           |\n",
    "> (4 rows)\n",
    "> ```\n",
    "\n",
    "**5. tildechatbotdb 소유주를 postgres에서 d519로 변경**\n",
    "> ```bash\n",
    "> postgres=# ALTER DATABASE tildechatbotdb OWNER TO d519;\n",
    "> ALTER DATABASE\n",
    "> postgres=# \\l\n",
    ">                                                                List of databases\n",
    ">       Name      |  Owner   | Encoding | Locale Provider |     Collate      |      Ctype       | ICU Locale | ICU Rules |   Access privileges\n",
    "> ----------------+----------+----------+-----------------+------------------+------------------+------------+-----------+-----------------------\n",
    ">  postgres       | postgres | UTF8     | libc            | Korean_Korea.949 | Korean_Korea.949 |            |           |\n",
    ">  template0      | postgres | UTF8     | libc            | Korean_Korea.949 | Korean_Korea.949 |            |           | =c/postgres          +\n",
    ">                 |          |          |                 |                  |                  |            |           | postgres=CTc/postgres\n",
    ">  template1      | postgres | UTF8     | libc            | Korean_Korea.949 | Korean_Korea.949 |            |           | =c/postgres          +\n",
    ">                 |          |          |                 |                  |                  |            |           | postgres=CTc/postgres\n",
    ">  tildechatbotdb | d519     | UTF8     | libc            | Korean_Korea.949 | Korean_Korea.949 |            |           | =Tc/d519             +\n",
    ">                 |          |          |                 |                  |                  |            |           | d519=CTc/d519\n",
    "> (4 rows)\n",
    "> ```\n",
    "\n",
    "**6. 로그아웃**\n",
    "> ```bash\n",
    "> postgres=# \\q\n",
    "> (branchPJH) PS C:\\junha\\Tilde_Chatbot>\n",
    "> ```\n"
   ]
  },
  {
   "cell_type": "markdown",
   "id": "8ea36a53fb102920",
   "metadata": {
    "collapsed": false
   },
   "source": [
    "# 전원 다시 시작시\n",
    "- Terminal에서 PostgerSQL 서버 시작하기  \n",
    "> ```bash\n",
    "> & \"C:\\Users\\overr\\anaconda3\\envs\\branchPJH\\Library\\bin\\pg_ctl\" -D \"./pgdata\" -l \"logfile\" start\n",
    "> ```\n",
    " \n",
    "- Terminal에서 super user인 **postgres**로 로그인\n",
    "> ```bash\n",
    "> psql -U postgres -h localhost -p 5432\n",
    "> ```"
   ]
  },
  {
   "cell_type": "code",
   "outputs": [],
   "source": [
    "import pandas as pd\n",
    "import psycopg2"
   ],
   "metadata": {
    "collapsed": true,
    "ExecuteTime": {
     "end_time": "2025-02-12T01:40:45.888718900Z",
     "start_time": "2025-02-12T01:40:45.248718800Z"
    }
   },
   "id": "initial_id",
   "execution_count": 1
  },
  {
   "cell_type": "code",
   "execution_count": 2,
   "id": "c5f9f0a73619172a",
   "metadata": {
    "collapsed": false,
    "ExecuteTime": {
     "end_time": "2025-02-12T01:40:45.901717600Z",
     "start_time": "2025-02-12T01:40:45.887717400Z"
    }
   },
   "outputs": [],
   "source": [
    "# & \"C:\\Users\\overr\\anaconda3\\envs\\branchPJH\\Library\\bin\\pg_ctl\" -D \"./pgdata\" -l \"logfile\" start"
   ]
  },
  {
   "cell_type": "code",
   "execution_count": 3,
   "id": "f8e0006d9917b7e",
   "metadata": {
    "collapsed": false,
    "ExecuteTime": {
     "end_time": "2025-02-12T01:40:55.976591200Z",
     "start_time": "2025-02-12T01:40:55.927592400Z"
    }
   },
   "outputs": [
    {
     "name": "stdout",
     "output_type": "stream",
     "text": [
      "PostgreSQL 연결 성공!\n"
     ]
    }
   ],
   "source": [
    "# Postgres 연결 확인\n",
    "DB_CONFIG = {\n",
    "        'host': 'localhost',\n",
    "        'database': 'tildechatbotdb',\n",
    "        'user': 'd519',\n",
    "        'password': 'd519',\n",
    "        'port': 5432\n",
    "    }\n",
    "\n",
    "try:\n",
    "    # PostgreSQL에 연결\n",
    "    conn = psycopg2.connect(**DB_CONFIG)\n",
    "    print(\"PostgreSQL 연결 성공!\")\n",
    "    conn.close()\n",
    "except Exception as e:\n",
    "    print(f\"PostgreSQL 연결 실패: {e}\")\n"
   ]
  },
  {
   "cell_type": "markdown",
   "id": "c636e4e6e06ab7f4",
   "metadata": {
    "collapsed": false
   },
   "source": [
    "## 초기 작업 : 엑셀 내용 삽입\n",
    "2024년 12월 29일 기준으로 PostgreSQL 내부 tildechatbotdb에는 ChatTable이라는 이름의 테이블이 존재. 엑셀 내용이 전부 삽입되어있는 상태임. 만약, 새로 선언한다면, 주석을 제거하고 실행할 것."
   ]
  },
  {
   "cell_type": "code",
   "execution_count": 11,
   "id": "2cd9844423cdd5b8",
   "metadata": {
    "collapsed": false,
    "ExecuteTime": {
     "end_time": "2025-02-12T01:44:24.451682300Z",
     "start_time": "2025-02-12T01:44:24.440683200Z"
    }
   },
   "outputs": [],
   "source": [
    "#def create_table_from_excel_psycopg2(excel_file, table_name, db_config):\n",
    "#    df = pd.read_excel(excel_file)\n",
    "#\n",
    "#    conn = psycopg2.connect(**db_config)\n",
    "#    cursor = conn.cursor()\n",
    "#\n",
    "#    columns = ', '.join([f'\"{col}\" TEXT' for col in df.columns])\n",
    "#    create_table_query = f'CREATE TABLE IF NOT EXISTS {table_name} ({columns})'\n",
    "#    cursor.execute(create_table_query)\n",
    "#\n",
    "#    for _, row in df.iterrows():\n",
    "#        column_names = ', '.join([f'\"{col}\"' for col in df.columns])\n",
    "#        placeholders = ', '.join(['%s'] * len(row))\n",
    "#        insert_query = f'INSERT INTO {table_name} ({column_names}) VALUES ({placeholders})'\n",
    "#        cursor.execute(insert_query, tuple(row.values))\n",
    "#\n",
    "#    conn.commit()\n",
    "#    cursor.close()\n",
    "#    conn.close()\n",
    "#    print(f\"Table '{table_name}' created and data inserted successfully.\")"
   ]
  },
  {
   "cell_type": "code",
   "execution_count": 12,
   "id": "3e5e1d872fa14101",
   "metadata": {
    "collapsed": false,
    "ExecuteTime": {
     "end_time": "2025-02-12T01:44:25.529417300Z",
     "start_time": "2025-02-12T01:44:24.890417100Z"
    }
   },
   "outputs": [
    {
     "name": "stdout",
     "output_type": "stream",
     "text": [
      "Table 'ChatTable20250212' created and data inserted successfully.\n"
     ]
    }
   ],
   "source": [
    "#EXCEL_FILE = \"C:/junha/Datasets/20250212Chatdata.xlsx\"\n",
    "#TABLE_NAME = \"ChatTable20250212\"\n",
    "#DB_CONFIG = {\n",
    "#        'host': 'localhost',\n",
    "#        'database': 'tildechatbotdb',\n",
    "#        'user': 'd519',\n",
    "#        'password': 'd519',\n",
    "#        'port': 5432\n",
    "#    }\n",
    "#\n",
    "#create_table_from_excel_psycopg2(EXCEL_FILE, TABLE_NAME, DB_CONFIG)"
   ]
  },
  {
   "cell_type": "markdown",
   "id": "d90a67fe5e464bdc",
   "metadata": {
    "collapsed": false
   },
   "source": [
    "## 데이터베이스 삽입 상태 확인"
   ]
  },
  {
   "cell_type": "code",
   "execution_count": 13,
   "id": "8fe3bd85554540c5",
   "metadata": {
    "collapsed": false,
    "ExecuteTime": {
     "end_time": "2025-02-12T01:45:37.613693600Z",
     "start_time": "2025-02-12T01:45:37.593257Z"
    }
   },
   "outputs": [],
   "source": [
    "def verify_data_insertion(table_name, db_config):\n",
    "    try:\n",
    "        conn = psycopg2.connect(**db_config)\n",
    "        cursor = conn.cursor()\n",
    "\n",
    "        query = f\"SELECT * FROM {table_name}\"\n",
    "        cursor.execute(query)\n",
    "\n",
    "        result = cursor.fetchall()\n",
    "\n",
    "        if not result:\n",
    "            print(f\"No data found in table '{table_name}'.\")\n",
    "            return None\n",
    "\n",
    "        column_names = [desc[0] for desc in cursor.description]\n",
    "\n",
    "        df = pd.DataFrame(result, columns=column_names)\n",
    "        print(f\"Data in table '{table_name}':\")\n",
    "\n",
    "        cursor.close()\n",
    "        conn.close()\n",
    "        return df\n",
    "\n",
    "    except Exception as e:\n",
    "        print(f\"Error verifying data: {e}\")\n"
   ]
  },
  {
   "cell_type": "code",
   "execution_count": 14,
   "id": "b12d2beb1268c897",
   "metadata": {
    "collapsed": false,
    "ExecuteTime": {
     "end_time": "2025-02-12T01:45:45.256764200Z",
     "start_time": "2025-02-12T01:45:45.191244300Z"
    }
   },
   "outputs": [
    {
     "name": "stdout",
     "output_type": "stream",
     "text": [
      "Data in table 'ChatTable20250123':\n",
      "Data in table 'ChatTable20250212':\n"
     ]
    },
    {
     "data": {
      "text/plain": "     Data_no                                               질문수정   나이   성별  \\\n0          1  \"목,기관지에 좋은 약 , 약품에 대한 빨갛게 되는 증상 약,\", \"안녕하세요 , ...  NaN  NaN   \n1          2  테라플루나이트를 오래 복용하면 간수치가 많이 오르나요?, \"잘못된걸 알지만수면 목적...  NaN  NaN   \n2          3  전자담배 목 간지러움, 일회용 전자담배 중에서 비ㅇ치라고 있는데 그 브랜드 복숭아 ...  20살  NaN   \n3          4  지네한테 물렸어요, 아주 작은 한 5cm정도되는 지네한테 물렷어요 대가리는 갈색이고...  NaN  NaN   \n4          5  아스팔트 섭취, \"아침에 빵을 먹다가 아스팔트 도로위에 떨었뜨렸는데 떨어진 부분만 ...  NaN  NaN   \n...      ...                                                ...  ...  ...   \n2007    2013  저는 28살 여자이고요, 평소 두통 때문에 이부프로펜 400mg으로 된 진통제를 복...  28살   여자   \n2008    2014  저는 38살 여자입니다. 요즘 피곤하고 잠을 잘 못 자는 날이 많아서 친구가 준 졸...  38살   여자   \n2009    2015  저는 24살 여자이고 요즘 불안이 너무 심해서 벤조디아제핀 계열의 약물을 복용 중이...  24살   여자   \n2010    2016  저는 27살 여자입니다. 최근 다이어트를 위해 주변 추천으로 한 다이어트 보조제를 ...  27살   여자   \n2011    2017  저는 28살 여성이고, 최근에 업무 스트레스로 인해 병원에서 처방받은 불안증 약(알...  28살   여성   \n\n      몸무게   노출제품유형    노출제품명 노출부위 노출유형  \n0     NaN  공업용화학제품       약품    발   피부  \n1     NaN      의약품  테라플루나이트  NaN   경구  \n2     NaN    중독성식품     전자담배  목구멍   흡입  \n3     NaN  독성있는동식물       지네  NaN   피부  \n4     NaN    이물질섭취     아스팔트  NaN   경구  \n...   ...      ...      ...  ...  ...  \n2007  NaN      의약품    이부프로펜  NaN   경구  \n2008  NaN      의약품      졸피뎀  NaN   경구  \n2009  NaN      의약품   벤조디아제핀  NaN   경구  \n2010  NaN      의약품     로카세린  NaN   경구  \n2011  NaN      의약품    알프라졸람  NaN   경구  \n\n[2012 rows x 9 columns]",
      "text/html": "<div>\n<style scoped>\n    .dataframe tbody tr th:only-of-type {\n        vertical-align: middle;\n    }\n\n    .dataframe tbody tr th {\n        vertical-align: top;\n    }\n\n    .dataframe thead th {\n        text-align: right;\n    }\n</style>\n<table border=\"1\" class=\"dataframe\">\n  <thead>\n    <tr style=\"text-align: right;\">\n      <th></th>\n      <th>Data_no</th>\n      <th>질문수정</th>\n      <th>나이</th>\n      <th>성별</th>\n      <th>몸무게</th>\n      <th>노출제품유형</th>\n      <th>노출제품명</th>\n      <th>노출부위</th>\n      <th>노출유형</th>\n    </tr>\n  </thead>\n  <tbody>\n    <tr>\n      <th>0</th>\n      <td>1</td>\n      <td>\"목,기관지에 좋은 약 , 약품에 대한 빨갛게 되는 증상 약,\", \"안녕하세요 , ...</td>\n      <td>NaN</td>\n      <td>NaN</td>\n      <td>NaN</td>\n      <td>공업용화학제품</td>\n      <td>약품</td>\n      <td>발</td>\n      <td>피부</td>\n    </tr>\n    <tr>\n      <th>1</th>\n      <td>2</td>\n      <td>테라플루나이트를 오래 복용하면 간수치가 많이 오르나요?, \"잘못된걸 알지만수면 목적...</td>\n      <td>NaN</td>\n      <td>NaN</td>\n      <td>NaN</td>\n      <td>의약품</td>\n      <td>테라플루나이트</td>\n      <td>NaN</td>\n      <td>경구</td>\n    </tr>\n    <tr>\n      <th>2</th>\n      <td>3</td>\n      <td>전자담배 목 간지러움, 일회용 전자담배 중에서 비ㅇ치라고 있는데 그 브랜드 복숭아 ...</td>\n      <td>20살</td>\n      <td>NaN</td>\n      <td>NaN</td>\n      <td>중독성식품</td>\n      <td>전자담배</td>\n      <td>목구멍</td>\n      <td>흡입</td>\n    </tr>\n    <tr>\n      <th>3</th>\n      <td>4</td>\n      <td>지네한테 물렸어요, 아주 작은 한 5cm정도되는 지네한테 물렷어요 대가리는 갈색이고...</td>\n      <td>NaN</td>\n      <td>NaN</td>\n      <td>NaN</td>\n      <td>독성있는동식물</td>\n      <td>지네</td>\n      <td>NaN</td>\n      <td>피부</td>\n    </tr>\n    <tr>\n      <th>4</th>\n      <td>5</td>\n      <td>아스팔트 섭취, \"아침에 빵을 먹다가 아스팔트 도로위에 떨었뜨렸는데 떨어진 부분만 ...</td>\n      <td>NaN</td>\n      <td>NaN</td>\n      <td>NaN</td>\n      <td>이물질섭취</td>\n      <td>아스팔트</td>\n      <td>NaN</td>\n      <td>경구</td>\n    </tr>\n    <tr>\n      <th>...</th>\n      <td>...</td>\n      <td>...</td>\n      <td>...</td>\n      <td>...</td>\n      <td>...</td>\n      <td>...</td>\n      <td>...</td>\n      <td>...</td>\n      <td>...</td>\n    </tr>\n    <tr>\n      <th>2007</th>\n      <td>2013</td>\n      <td>저는 28살 여자이고요, 평소 두통 때문에 이부프로펜 400mg으로 된 진통제를 복...</td>\n      <td>28살</td>\n      <td>여자</td>\n      <td>NaN</td>\n      <td>의약품</td>\n      <td>이부프로펜</td>\n      <td>NaN</td>\n      <td>경구</td>\n    </tr>\n    <tr>\n      <th>2008</th>\n      <td>2014</td>\n      <td>저는 38살 여자입니다. 요즘 피곤하고 잠을 잘 못 자는 날이 많아서 친구가 준 졸...</td>\n      <td>38살</td>\n      <td>여자</td>\n      <td>NaN</td>\n      <td>의약품</td>\n      <td>졸피뎀</td>\n      <td>NaN</td>\n      <td>경구</td>\n    </tr>\n    <tr>\n      <th>2009</th>\n      <td>2015</td>\n      <td>저는 24살 여자이고 요즘 불안이 너무 심해서 벤조디아제핀 계열의 약물을 복용 중이...</td>\n      <td>24살</td>\n      <td>여자</td>\n      <td>NaN</td>\n      <td>의약품</td>\n      <td>벤조디아제핀</td>\n      <td>NaN</td>\n      <td>경구</td>\n    </tr>\n    <tr>\n      <th>2010</th>\n      <td>2016</td>\n      <td>저는 27살 여자입니다. 최근 다이어트를 위해 주변 추천으로 한 다이어트 보조제를 ...</td>\n      <td>27살</td>\n      <td>여자</td>\n      <td>NaN</td>\n      <td>의약품</td>\n      <td>로카세린</td>\n      <td>NaN</td>\n      <td>경구</td>\n    </tr>\n    <tr>\n      <th>2011</th>\n      <td>2017</td>\n      <td>저는 28살 여성이고, 최근에 업무 스트레스로 인해 병원에서 처방받은 불안증 약(알...</td>\n      <td>28살</td>\n      <td>여성</td>\n      <td>NaN</td>\n      <td>의약품</td>\n      <td>알프라졸람</td>\n      <td>NaN</td>\n      <td>경구</td>\n    </tr>\n  </tbody>\n</table>\n<p>2012 rows × 9 columns</p>\n</div>"
     },
     "execution_count": 14,
     "metadata": {},
     "output_type": "execute_result"
    }
   ],
   "source": [
    "#verify_data_insertion('ChatTable',DB_CONFIG)\n",
    "verify_data_insertion('ChatTable20250123',DB_CONFIG)\n",
    "verify_data_insertion('ChatTable20250212',DB_CONFIG)"
   ]
  },
  {
   "cell_type": "markdown",
   "id": "f364d2f693913a2e",
   "metadata": {
    "collapsed": false
   },
   "source": [
    "## 원하는 값만 추출"
   ]
  },
  {
   "cell_type": "code",
   "execution_count": 15,
   "id": "d34ecc25c1f26a21",
   "metadata": {
    "collapsed": false,
    "ExecuteTime": {
     "end_time": "2025-02-12T01:45:50.890100300Z",
     "start_time": "2025-02-12T01:45:50.872066900Z"
    }
   },
   "outputs": [],
   "source": [
    "def select_distinct_values(query, db_config):\n",
    "    try:\n",
    "        connection = psycopg2.connect(**db_config)\n",
    "        cursor = connection.cursor()\n",
    "        cursor.execute(query)\n",
    "        results = cursor.fetchall()\n",
    "        \n",
    "        distinct_values = [row[0] for row in results]\n",
    "        return distinct_values\n",
    "    except Exception as e:\n",
    "        print(\"Database error:\", e)\n",
    "    finally:\n",
    "        if cursor:\n",
    "            cursor.close()\n",
    "        if connection:\n",
    "            connection.close()"
   ]
  },
  {
   "cell_type": "code",
   "execution_count": 17,
   "id": "c7b3ab5fd653c72",
   "metadata": {
    "collapsed": false,
    "ExecuteTime": {
     "end_time": "2025-02-12T01:46:04.013107700Z",
     "start_time": "2025-02-12T01:46:03.983109100Z"
    }
   },
   "outputs": [
    {
     "data": {
      "text/plain": "['흡입, 피부',\n '경구',\n '피부, 흡입',\n '안구, 피부, 흡입',\n '피부, 안구, 경구',\n '안구, 피부',\n '피부, 기타',\n '흡입, 경구',\n '피부, 흡입, 경구',\n '경구, 기타',\n '피부, 안구, 흡입',\n '피부, 안구',\n '피부, 경구',\n '기타',\n '안구, 흡입, 경구',\n '피부, 경구, 흡입',\n '안구',\n '경구, 피부',\n '피부',\n '흡입',\n '안구, 경구, 흡입',\n '안구, 흡입',\n '안구, 경구',\n '안구, 흡입, 피부',\n '경구, 흡입',\n '흡입, 안구, 피부',\n '흡입, 안구']"
     },
     "execution_count": 17,
     "metadata": {},
     "output_type": "execute_result"
    }
   ],
   "source": [
    "TBL_NAME = \"ChatTable20250212\"\n",
    "COLUMN_NAME = \"노출유형\"\n",
    "QUERY = f\"SELECT DISTINCT {COLUMN_NAME} FROM {TBL_NAME};\"\n",
    "distinct_values = select_distinct_values(QUERY, DB_CONFIG)\n",
    "distinct_values"
   ]
  },
  {
   "cell_type": "code",
   "execution_count": 12,
   "id": "8524cbe4e7beecd9",
   "metadata": {
    "collapsed": false,
    "ExecuteTime": {
     "end_time": "2025-01-06T03:53:32.580111800Z",
     "start_time": "2025-01-06T03:53:32.566111Z"
    }
   },
   "outputs": [],
   "source": [
    "def search_keyword(question):\n",
    "    matching_words = [value for value in distinct_values if value in question]\n",
    "    if matching_words:\n",
    "        return matching_words\n",
    "    else:\n",
    "        return None"
   ]
  },
  {
   "cell_type": "code",
   "execution_count": 13,
   "id": "d7e116f8dfa01a44",
   "metadata": {
    "collapsed": false,
    "ExecuteTime": {
     "end_time": "2025-01-06T03:53:33.301028300Z",
     "start_time": "2025-01-06T03:53:33.294027800Z"
    }
   },
   "outputs": [],
   "source": [
    "def return_searched_keyword(table_name, db_config, column_name, keywords):\n",
    "    try:\n",
    "        if not keywords:\n",
    "            print(\"No keywords provided.\")\n",
    "            return None\n",
    "\n",
    "        conn = psycopg2.connect(**db_config)\n",
    "        cursor = conn.cursor()\n",
    "\n",
    "        like_conditions = \" OR \".join([f\"{column_name} LIKE '%{keyword}%'\" for keyword in keywords])\n",
    "        query = f\"SELECT * FROM {table_name} WHERE {like_conditions};\"\n",
    "\n",
    "        cursor.execute(query)\n",
    "        result = cursor.fetchall()\n",
    "\n",
    "        if not result:\n",
    "            print(f\"No data found in table '{table_name}' for keywords: {keywords}.\")\n",
    "            return None\n",
    "\n",
    "        column_names = [desc[0] for desc in cursor.description]\n",
    "\n",
    "        df = pd.DataFrame(result, columns=column_names)\n",
    "        cursor.close()\n",
    "        conn.close()\n",
    "\n",
    "        return df\n",
    "\n",
    "    except Exception as e:\n",
    "        print(f\"Error verifying data: {e}\")\n"
   ]
  },
  {
   "cell_type": "code",
   "execution_count": 15,
   "id": "a4fdcceaa1ef5e35",
   "metadata": {
    "collapsed": false,
    "ExecuteTime": {
     "end_time": "2025-01-06T04:24:53.770486Z",
     "start_time": "2025-01-06T04:24:53.730490Z"
    }
   },
   "outputs": [
    {
     "data": {
      "text/plain": "   Data_no   구분 데이터제공    임상과             제목  \\\n0      512  일반인    생성    NaN            NaN   \n1      304  일반인    생성    NaN            NaN   \n2      312  일반인    생성    NaN            NaN   \n3      320  일반인    생성    NaN            NaN   \n4      359  일반인    생성    NaN            NaN   \n5      363  일반인    생성    NaN            NaN   \n6      378  일반인    생성    NaN            NaN   \n7      390  일반인    생성    NaN            NaN   \n8      392  일반인    생성    NaN            NaN   \n9      401  일반인    생성    NaN            NaN   \n10     402  일반인    생성    NaN            NaN   \n11     403  일반인    생성    NaN            NaN   \n12     600  일반인    생성    NaN            NaN   \n13     601  일반인    생성    NaN            NaN   \n14     602  일반인    생성    NaN            NaN   \n15     612  일반인    생성    NaN            NaN   \n16     614  일반인    생성    NaN            NaN   \n17     615  일반인    생성    NaN            NaN   \n18     620  일반인    생성    NaN            NaN   \n19     622  일반인    생성    NaN            NaN   \n20     623  일반인    생성    NaN            NaN   \n21     625  일반인    생성    NaN            NaN   \n22     629  일반인    생성    NaN            NaN   \n23     634  일반인    생성    NaN            NaN   \n24     636  일반인    생성    NaN            NaN   \n25     638  일반인    생성    NaN            NaN   \n26     640  일반인    생성    NaN            NaN   \n27     646  일반인    생성    NaN            NaN   \n28     687  일반인    생성    NaN            NaN   \n29     705  일반인    생성    NaN            NaN   \n30     609  일반인    생성    NaN            NaN   \n31     399  일반인    생성    NaN            NaN   \n32     605  일반인    생성    NaN            NaN   \n33     405  일반인    생성    NaN            NaN   \n34     630  일반인    생성    NaN            NaN   \n35     639  일반인    생성    NaN            NaN   \n36     398  일반인    생성    NaN            NaN   \n37     632  일반인    생성    NaN            NaN   \n38    2200  의료진  중독센터    NaN            NaN   \n39    2022  의료진  중독센터    NaN            NaN   \n40     599  일반인    생성    NaN            NaN   \n41     238  일반인   주형준  응급의학과   과일 농약 섭취시 증상   \n42     445  일반인    생성    NaN            NaN   \n43     407  일반인    생성    NaN            NaN   \n44     397  일반인    생성    NaN            NaN   \n45     183  일반인   주형준  응급의학과  농약 흡입 가능성에 대해   \n46     400  일반인    생성    NaN            NaN   \n47     395  일반인    생성    NaN            NaN   \n\n                                                 질문원본  \\\n0                                                 NaN   \n1                                                 NaN   \n2                                                 NaN   \n3                                                 NaN   \n4                                                 NaN   \n5                                                 NaN   \n6                                                 NaN   \n7                                                 NaN   \n8                                                 NaN   \n9                                                 NaN   \n10                                                NaN   \n11                                                NaN   \n12                                                NaN   \n13                                                NaN   \n14                                                NaN   \n15                                                NaN   \n16                                                NaN   \n17                                                NaN   \n18                                                NaN   \n19                                                NaN   \n20                                                NaN   \n21                                                NaN   \n22                                                NaN   \n23                                                NaN   \n24                                                NaN   \n25                                                NaN   \n26                                                NaN   \n27                                                NaN   \n28                                                NaN   \n29                                                NaN   \n30                                                NaN   \n31                                                NaN   \n32                                                NaN   \n33                                                NaN   \n34                                                NaN   \n35                                                NaN   \n36                                                NaN   \n37                                                NaN   \n38  안녕하세요 고대구로병원입니다\\n약물정보 의뢰드립니다\\nFemale 58세\\n농약(그...   \n39  안녕하세요 고대구로병원입니다.\\n약물정보 의뢰드립니다\\nMale 55세\\n농약(글리...   \n40                                                NaN   \n41  감귤을 배달시켰는데 허옇게 뜬 농약같은 부분이 많고 약냄새도 좀 나고 터진부분이 좀...   \n42                                                NaN   \n43                                                NaN   \n44                                                NaN   \n45  안녕하세요! 시골에서 지금 생활을 하고 있는데요, 옆집 할머니네 마당 근처에 낡은 ...   \n46                                                NaN   \n47                                                NaN   \n\n                                                 질문수정      나이   성별 노출제품유형  \\\n0   저희 할아버지(75세, 남성)가 오늘 아침에 농장에서 사용 중이던 공업용 농약이 실...     75세   남성     농약   \n1   저희 할아버지(76세, 남성) 얘긴데요. 며칠 전에 농약이 들어 있는 병을 실수로 ...     76세   남성     농약   \n2   제가 조금 걱정되는 일이 있어서 문의드립니다. 저희 아버지가 72세이시고, 어제 오...     72세   남자     농약   \n3   70대 남성입니다. 어제 오후 정원을 세우려고 분무기에 농약을 넣고 화초에 뿌리다가...     70대   남성     농약   \n4   저희 할아버지께서 72세인데, 농약으로 인한 중독 증상이 아닌가 걱정돼서 질문드려요...     72세   남자     농약   \n5   72세 남자입니다. 제가 어제 오후쯤 농약을 묻은 장갑으로 실수로 입을 닦았습니다....     72세   남자     농약   \n6   72세 남성입니다. 오늘 아침에 제가 잡초 제거하려고 농약을 뿌리면서 20분 정도 ...     72세   남자     농약   \n7   37세 여성인데 어제 오후에 집 근처 텃밭에서 농약을 살포하다가 바람이 불어서 얼굴...     37세   여성     농약   \n8   저희 아이는 3살이고 몸무게는 12kg입니다. 오늘 오후에 밖에서 놀다가 이웃집에서...      3세  NaN     농약   \n9   20대 초반 여자입니다. 어제 농촌에서 자원봉사를 하다가 농작물을 보호하기 위해 뿌...  20대 초반   여자     농약   \n10  저희 아이가 6살이고 몸무게는 18kg입니다. 아침에 집 근처 텃밭에서 할머니랑 놀...      6세  NaN     농약   \n11  8살 여자아이 일인데요, 몸무게는 26kg이고요. 오늘 오후에 할머니네 농장에서 놀...      8세   여자     농약   \n12  저희 조카가 3살이고 몸무게는 13kg입니다. 오늘 낮에 마당에서 놀다가 누군가 흘...      3세  NaN     농약   \n13  제가 28살 남자인데요, 오늘 아침에 옥상 정리하다가 우연히 농약 분무기 안에 남아...     28세   남자     농약   \n14  제가 36살 여자이고 오늘 아침에 친구랑 지역 농장에서 자원봉사를 하다가 농약을 묻...     36세   여자     농약   \n15  42세 여성이고요, 오늘 낮에 텃밭에서 작업하다가 농약 분무기를 사용했어요. 바람 ...     42세   여성     농약   \n16  저희 딸이 8살이고 몸무게는 24kg입니다. 오늘 오후에 동네 공터에서 친구들과 놀...      8세   여자     농약   \n17  저희 엄마 얘기인데요, 63세 여성이고요. 오늘 오전에 밭에서 농작물에 농약을 뿌리...     63세   여성     농약   \n18  42세 남성입니다. 오늘 아침에 시골 텃밭 작업 중에 농약을 분무기로 뿌리다 보니 ...     42세   남성     농약   \n19  50대 중반 여성입니다. 오늘 아침에 집 뒷마당 텃밭에서 풀을 뽑다가 농약을 손으로...  50대 중반   여성     농약   \n20  20대 중반 여성입니다. 어제 오후에 시골에서 할머니 도와 드리다가 텃밭에서 농약 ...  20대 중반   여성     농약   \n21  27세 남성인데요. 오늘 오전에 아버지 농장에서 돕다가 농약 분무기가 고장 나서 농...     27세   남성     농약   \n22  제 남동생 얘기인데요, 10살이고 몸무게는 28kg입니다. 오늘 오후에 집 근처 텃...     10세   남자     농약   \n23  저희 조카가 7살이고 몸무게는 20kg인데요, 오늘 오후에 시골 외할머니네 갔다가 ...      7세  NaN     농약   \n24  저희 아이가 4살이고 몸무게는 14kg이에요. 어제 오후에 텃밭에서 놀다가 농약이 ...      4세  NaN     농약   \n25  저희 할머니께서 75세이시고, 오늘 낮에 마당에서 농작물에 사용되는 농약을 뿌리셨어...     75세   여자     농약   \n26  제가 아는 분 얘긴데요, 그분 나이는 68세 남성이고, 오늘 오후 시골집 마당에서 ...     68세   남성     농약   \n27  제가 8살 아들(남자, 몸무게 24kg)에 대해 좀 여쭤볼 게 있어요. 오늘 오후에...      8세   남자     농약   \n28  50대 남성입니다. 오늘 아침에 집 근처 농약 살포 차량이 지나가면서, 제가 약 2...     50대   남성     농약   \n29  저는 42세 남성이고, 오늘 아침에 창고 정리 중에 오래된 농약 병을 발견했는데요....     42세   남성     농약   \n30  저희 아버지 얘기인데요, 67세 남성입니다. 오늘 오후에 밭에서 농약 살포 작업을 ...     67세   남성     농약   \n31  저희 아이가 5살(몸무게 18kg)인데요, 오늘 오전에 우연히 바닥에 있던 농약 분...      5세  NaN     농약   \n32  30대 중반 남성인데요, 오늘 오후에 텃밭에서 작업하다가 일반적인 농약 살포용 액체...  30대 중반   남성     농약   \n33  5살 여자아이 얘기인데요, 몸무게는 18kg이고 오늘 아침 옆집 할아버지가 밭에서 ...      5세   여자     농약   \n34  제 남자친구가 27세인데요, 오늘 낮에 농촌에서 부모님 일을 도와드리다가 농약에 노...     27세   남자     농약   \n35  제가 조금 걱정이 돼서 문의드려요. 저희 아이는 8살 여자아이이고, 몸무게는 25k...      8세   여자     농약   \n36  50세 남성인데요, 오늘 아침에 정원에서 일하다가 농약 분무기 검사를 했습니다. 여...     50세   남성     농약   \n37  저희 아들이 9살인데요, 몸무게는 30kg입니다. 오늘 오후에 아파트 단지 안에서 ...      9세   남자     농약   \n38    Female 58세\\n농약(그라목손)\\n서울 / 경구 / 비의도적 / 50대 / 가정     58세   여자     농약   \n39     Male 55세\\n농약(글리포세이트 이소프로필아민)\\n서울/경구/의도적/50대/가정     55세   남자     농약   \n40  제 동생 얘긴데요, 8살 남자아이이고 몸무게는 22kg이에요. 오늘 오후에 동네 밭...      8세   남자     농약   \n41  과일 농약 섭취시 증상, 감귤을 배달시켰는데 허옇게 뜬 농약같은 부분이 많고 약냄새...     NaN  NaN     농약   \n42  제가 32살 여자이고 몸무게는 58kg 정도예요. 어제 밤 10시쯤 못난이 채소 꾸...     32세   여자     농약   \n43  저희 아이(7세, 남자, 몸무게 22kg)가 어제 오후에 놀이터 근처 밭에서 놀다가...      7세   남자     농약   \n44  저희 남편이 45세인데 오늘 아침에 논에서 농약을 뿌리다가 사고가 있었어요. 살충제...     45세   남자     농약   \n45  농약 흡입 가능성에 대해, 안녕하세요! 시골에서 지금 생활을 하고 있는데요, 옆집 ...     NaN  NaN     농약   \n46  저희 아들이 4살이고 몸무게는 16kg인데요, 오늘 낮에 밖에서 놀다가 농약이 뿌려...      4세   남자     농약   \n47  30대 초반 여성인데요, 오늘 아침에 정원 작업하면서 제초제 같은 농약을 사용했거든...  30대 초반   여성     농약   \n\n    ...    노출시간                                              노출후증상   몸무게  \\\n0   ...      1분           뺨 피부가 빨갛게 부어오르며 따갑고 화끈거림, 메스꺼움, 약간의 어지러움   NaN   \n1   ...     20분                       손이 빨갛게 부어오르고 따가움, 손바닥에 물집 발생   NaN   \n2   ...     일회성                       피부가 빨갛게 부어오르고 따가운 느낌, 어깨 근육통   NaN   \n3   ...     30분                    목 따끔거림, 약간의 기침, 눈 욱신거림, 피부 간지러움   NaN   \n4   ...     일회성                                   속이 메스껍고 약간의 어지럼증   NaN   \n5   ...     일회성                    입술과 혀에 찌릿찌릿한 느낌, 위가 살살 아프고 메스꺼움   NaN   \n6   ...     20분                       콧속 화끈거림, 머리 어지러움, 무거운 느낌, 두통   NaN   \n7   ...     15분                 목과 팔이 따갑고 붉게 부어오름, 현기증, 머리가 무거운 느낌   NaN   \n8   ...     10분                             기침, 눈가가 빨개짐, 콧물, 눈을 비빔  12kg   \n9   ...     30분                  팔뚝 부분이 붉어지고 따끔거림, 머리 어지러움, 경미한 두통   NaN   \n10  ...     일회성                       손이 간지럽고 눈이 빨갛게 충혈되며 눈물이 계속 남  18kg   \n11  ...     10분                          손바닥 전체가 붉게 변하고 따끔거림, 간지러움  26kg   \n12  ...      5분                         눈이 빨갛게 충혈되고 눈물을 흘림, 눈이 가려움  13kg   \n13  ...     10분        손과 팔이 빨갛게 부어오르고 따갑고 간지러움, 머리가 어지럽고 위가 살살 아픔   NaN   \n14  ...     20분                  손등과 이마가 붉어지고 따끔거림, 기운이 빠지고 머리가 띵함   NaN   \n15  ...     15분                 입 주변 따가움, 피부 붉게 부어오름, 두통, 가벼운 메스꺼움   NaN   \n16  ...   5~10분                           배가 아프고, 머리가 어지럽고 약간 메스꺼움  24kg   \n17  ...     10분   손등이 따갑고 붉게 부어오름, 얼굴 피부에 두드러기처럼 빨갛게 올라옴, 머리가 어지러움   NaN   \n18  ...     15분               얼굴과 목 부위가 간지럽고 붉게 부어오름, 목 주변에 따끔한 느낌   NaN   \n19  ...     15분               속이 불편하고 목이 컬컬하며 가슴이 답답하고 소화가 안 되는 느낌   NaN   \n20  ...      5분          손등 피부가 빨갛게 부어오르고 간지러움, 코 안쪽 따끔거림, 목 간질간질함   NaN   \n21  ...     15분                      팔뚝 피부가 매우 붉어지고 가려움증, 두통, 메스꺼움   NaN   \n22  ...      5분                  양쪽 눈 충혈, 따가움, 눈 주위 가려움, 얼굴 약간 붉어짐  28kg   \n23  ...     10분                        얼굴(볼)에 빨갛게 두드러기 발생, 손바닥 따가움  20kg   \n24  ...      5분                           손등과 얼굴 주변에 붉은 발진, 손의 가려움  14kg   \n25  ...     20분          얼굴과 목 피부 간지러움, 약간 붉어짐, 머리가 띵한 느낌, 속이 울렁거림   NaN   \n26  ...     10분        입안이 찌릿하고 메스꺼움, 혀 끝 감각 둔화, 목 아래쪽 답답함, 약간의 기침   NaN   \n27  ...      5분         한쪽 무릎과 손바닥이 빨갛게 변하고 부어오르며 간지러움, 약간 으슬으슬 추움  24kg   \n28  ...     20분                        목 따가움, 기침, 눈 따가움, 머리가 멍한 느낌   NaN   \n29  ...     20분                 목 따끔거림, 코 안 화끈거림, 두통, 어지럼증, 가슴 답답함   NaN   \n30  ...     20분               손등이 가렵고 붉게 부어오르며 물집처럼 부품, 팔쪽 피부가 따가움   NaN   \n31  ...    1-2분                                 눈이 빨갛게 충혈되고 약간 가려움  18kg   \n32  ...     10분                               피부가 붉게 변하고 가려움, 따끔거림   NaN   \n33  ...     일회성                           눈이 빨갛고 간지러움, 목 통증, 복부 통증  18kg   \n34  ...     10분        얼굴과 목 피부가 간지럽고 빨갛게 부어오름, 숨이 답답하고 가슴이 묵직한 느낌   NaN   \n35  ...      5분                   피부가 붉게 부어오르고 가려움, 머리 아픔, 속이 메스꺼움  25kg   \n36  ...     10분                  얼굴 피부 붓고 따가움, 팔 가려움증, 눈 따끔거림 및 충혈   NaN   \n37  ...   5분 이내                    손바닥 따가움, 약간 간지러움, 허벅지 부근 피부 붉어짐  30kg   \n38  ...     NaN                                                NaN   NaN   \n39  ...     NaN                                                NaN   NaN   \n40  ...     10분  얼굴 피부가 빨갛게 부어오름, 팔이 따갑고 간지러움, 코 간질거림, 훌쩍임, 약간의 기침  22kg   \n41  ...     일회성                                     배윗쪽이 빵빵해지는 팽만감   NaN   \n42  ...     일회성                                속이 메스껍고 소화가 안 되는 느낌  58kg   \n43  ...     10분                손바닥이 빨갛게 부어오르고 따가움, 얼굴에 붉은 발진, 메스꺼움  22kg   \n44  ...     10분                  얼굴 피부가 따갑고 붉게 부어오름, 한쪽 눈에 통증과 가려움   NaN   \n45  ...  10-15분                                                NaN   NaN   \n46  ...     10분                         피부가 빨개지고 가려움, 붉어진 부위가 부어오름  16kg   \n47  ...     15분                      목이 따끔거림, 약간 숨이 답답한 느낌, 머리가 띵함   NaN   \n\n       노출용량                노출후응급처치  \\\n0       NaN            물로 세척하고 닦아냄   \n1       NaN              물로 바로 씻어냄   \n2       NaN  약 5분 정도 세척, 소독용 연고 사용   \n3        조금                    NaN   \n4      적은 양                    NaN   \n5       NaN              물로 입을 헹굴음   \n6       NaN      작업 후 바로 물로 얼굴을 씻음   \n7       NaN              바로 물로 씻어냄   \n8       NaN         얼굴을 닦아줌, 물을 먹임   \n9       NaN         작업 후 바로 물로 씻어냄   \n10      NaN        손을 씻기고 눈을 물로 헹굼   \n11      NaN             깨끗한 물로 씻어냄   \n12      NaN              손을 깨끗이 씻김   \n13      NaN             흐르는 물로 씻어냄   \n14      NaN                    NaN   \n15      NaN            물로 얼굴과 손 세척   \n16      NaN    손을 깨끗이 씻기고 물을 마시게 함   \n17      NaN         손과 얼굴을 비눗물로 닦음   \n18      NaN               비눗물로 씻어냄   \n19      NaN        손과 입을 물로 씻고 헹굴음   \n20      NaN              흐르는 물로 세척   \n21      NaN                 물로 씻어냄   \n22      NaN        흐르는 물로 손과 눈을 씻음   \n23      NaN                 비누로 세척   \n24      NaN      깨끗한 물로 손과 얼굴을 씻어줌   \n25      NaN         비눗물로 세수 및 손 씻음   \n26      NaN            물로 대충 세수만 함   \n27      NaN           손과 무릎을 물로 씻김   \n28      NaN        바깥 바람을 쐬고 물을 마심   \n29      NaN                    NaN   \n30      NaN                  물로 세척   \n31      NaN           물로 손과 눈을 닦아줌   \n32      NaN         비누와 흐르는 물로 씻어냄   \n33      NaN              눈을 물로 씻어줌   \n34      NaN               물로 바로 씻음   \n35      NaN      즉시 집에 와서 씻기고 목욕시킴   \n36      NaN         작업 후 바로 물로 씻어냄   \n37      NaN      손과 노출된 피부를 물로 세척함   \n38      NaN                    NaN   \n39      NaN                    NaN   \n40      NaN           얼굴과 팔을 물로 씻음   \n41      NaN                    NaN   \n42  반 개의 사과       찬물로 두 번 정도 헹궈 씻음   \n43      NaN             손을 비눗물로 씻김   \n44      NaN                  세수를 함   \n45      NaN                    NaN   \n46      NaN            비눗물로 깨끗이 씻음   \n47      NaN          물을 마시고 코를 씻어냄   \n\n                                                 답변원본  \\\n0                                                 NaN   \n1                                                 NaN   \n2                                                 NaN   \n3                                                 NaN   \n4                                                 NaN   \n5                                                 NaN   \n6                                                 NaN   \n7                                                 NaN   \n8                                                 NaN   \n9                                                 NaN   \n10                                                NaN   \n11                                                NaN   \n12                                                NaN   \n13                                                NaN   \n14                                                NaN   \n15                                                NaN   \n16                                                NaN   \n17                                                NaN   \n18                                                NaN   \n19                                                NaN   \n20                                                NaN   \n21                                                NaN   \n22                                                NaN   \n23                                                NaN   \n24                                                NaN   \n25                                                NaN   \n26                                                NaN   \n27                                                NaN   \n28                                                NaN   \n29                                                NaN   \n30                                                NaN   \n31                                                NaN   \n32                                                NaN   \n33                                                NaN   \n34                                                NaN   \n35                                                NaN   \n36                                                NaN   \n37                                                NaN   \n38  안녕하세요. 서울시 독성물질 중독관리센터입니다.\\n\\n문의주신 그라목손 농약은 파라...   \n39  안녕하세요,\\n\\n요청하신 농약 성분의 독성정보제공시스템 URL를 보내드립니다.\\n...   \n40                                                NaN   \n41  안녕하세요. 하이닥-네이버 지식iN 상담의 한재병 입니다. ​ 현재 정보만으로는 농...   \n42                                                NaN   \n43                                                NaN   \n44                                                NaN   \n45  안녕하세요. 하이닥-네이버 지식iN 상담의 한재병 입니다. ​ 현재 정보로 판단하면...   \n46                                                NaN   \n47                                                NaN   \n\n                                                 답변수정  \\\n0                                                 NaN   \n1                                                 NaN   \n2                                                 NaN   \n3                                                 NaN   \n4                                                 NaN   \n5                                                 NaN   \n6                                                 NaN   \n7                                                 NaN   \n8                                                 NaN   \n9                                                 NaN   \n10                                                NaN   \n11                                                NaN   \n12                                                NaN   \n13                                                NaN   \n14                                                NaN   \n15                                                NaN   \n16                                                NaN   \n17                                                NaN   \n18                                                NaN   \n19                                                NaN   \n20                                                NaN   \n21                                                NaN   \n22                                                NaN   \n23                                                NaN   \n24                                                NaN   \n25                                                NaN   \n26                                                NaN   \n27                                                NaN   \n28                                                NaN   \n29                                                NaN   \n30                                                NaN   \n31                                                NaN   \n32                                                NaN   \n33                                                NaN   \n34                                                NaN   \n35                                                NaN   \n36                                                NaN   \n37                                                NaN   \n38  문의주신 그라목손 농약은 파라쿼트 성분으로 확인됩니다.  주성분 독성정보제공시스템 ...   \n39  글리포세이트 \\nhttps://www.nifds.go.kr/toxinfo/tcd/i...   \n40                                                NaN   \n41                                                NaN   \n42                                                NaN   \n43                                                NaN   \n44                                                NaN   \n45                                                NaN   \n46                                                NaN   \n47                                                NaN   \n\n                                                답변생성1         Date  \\\n0   농약은 피부 접촉, 흡입, 섭취 등 다양한 경로로 인체에 유해할 수 있는 화학물질로...          NaN   \n1   농약이 피부에 접촉된 후 손이 빨갛게 부어오르고 물집이 생겼다면, 이는 농약의 화학...          NaN   \n2   농약에 노출된 후 피부에 발적, 부종, 따가움 등의 증상이 나타난 것은 농약 성분에...          NaN   \n3   농약에 노출된 상황에서는 신속한 응급처치와 증상 관찰이 중요합니다. 농약의 성분을 ...          NaN   \n4   농약에 노출되었을 가능성이 있는 상황에서 할아버지께서 메스꺼움과 어지럼증을 호소하신...          NaN   \n5   농약은 일반적으로 살충제, 제초제, 살균제 등 다양한 화학물질로 구성되어 있으며, ...          NaN   \n6   농약에 노출된 상황에서 나타나는 증상은 농약의 성분과 노출된 양에 따라 다를 수 있...          NaN   \n7   농약에 노출된 후 피부 자극과 전신 증상이 나타난 경우, 이는 농약의 성분에 따라 ...          NaN   \n8   농약은 종류에 따라 독성이 다르며, 흡입, 피부 접촉, 또는 섭취를 통해 인체에 영...          NaN   \n9   농약 작업 중 피부와 접촉하거나 흡입한 경우, 농약의 종류와 성분에 따라 증상이 다...          NaN   \n10  농약에 노출된 것으로 의심되는 상황에서 아이가 손 간지러움과 눈 충혈, 눈물 등의 ...          NaN   \n11  농약이 피부에 직접적으로 접촉한 경우, 특히 살충제와 같은 농약은 피부 자극을 유발...          NaN   \n12  농약은 종류에 따라 독성이 다르며, 피부나 점막(눈 포함)에 노출될 경우 자극 증상...          NaN   \n13  농약에 노출된 후 피부에 발적, 부종, 따가움, 간지러움 등의 증상이 나타난 것은 ...          NaN   \n14  농약에 노출된 상황에서는 신속한 대처가 중요합니다. 우선, 농약의 종류를 정확히 알...          NaN   \n15  농약에 노출된 후 나타나는 증상은 사용된 농약의 성분과 노출 정도에 따라 다를 수 ...          NaN   \n16  농약에 노출된 가능성이 있는 상황에서 아이가 배 아픔, 어지러움, 메스꺼움 등의 증...          NaN   \n17  농약 노출로 인해 발생한 증상은 노출된 농약의 종류와 성분, 노출 경로, 노출 시간...          NaN   \n18  농약이 피부에 노출된 후 나타나는 증상은 사용된 농약의 종류와 개인의 민감도에 따라...          NaN   \n19  농약에 노출된 상황에서는 신속하고 적절한 대처가 중요합니다. 우선, 농약의 종류를 ...          NaN   \n20  농약에 노출된 후 나타나는 증상은 사용된 농약의 종류와 개인의 민감도에 따라 다를 ...          NaN   \n21  농약에 노출된 후 피부 발적, 가려움증, 두통, 메스꺼움 등의 증상이 나타난 것은 ...          NaN   \n22  농약이 피부나 점막에 노출되었을 경우, 특히 눈과 같은 민감한 부위에 접촉했을 때는...          NaN   \n23  농약에 노출된 것으로 의심되는 상황에서 아이의 피부에 두드러기와 따가움 증상이 나타...          NaN   \n24  농약에 노출된 상황에서 아이의 피부에 발진과 가려움증이 나타났다면, 이는 농약 성분...          NaN   \n25  농약은 종류와 성분에 따라 독성이 다르며, 피부 접촉이나 흡입, 섭취를 통해 인체에...          NaN   \n26  농약은 종류와 성분에 따라 독성이 다르며, 특히 살충제는 피부, 점막, 호흡기, 소...          NaN   \n27  농약에 노출된 상황에서 아이가 피부 발적, 부종, 가려움증 등의 증상을 보이고 있다...          NaN   \n28  농약 살포 차량에서 발생한 냄새와 연기로 인해 나타난 증상은 농약의 성분에 따라 다...          NaN   \n29  농약은 종류에 따라 독성이 매우 다양하며, 흡입 시 호흡기와 신경계에 영향을 줄 수...          NaN   \n30  농약이 피부에 직접적으로 노출되었을 때 나타나는 증상은 농약의 종류와 성분에 따라 ...          NaN   \n31  제초제는 일반적으로 피부, 점막, 눈에 자극을 줄 수 있는 화학물질을 포함하고 있습...          NaN   \n32  농약이 피부에 노출된 후 나타나는 증상은 사용된 농약의 성분과 개인의 피부 민감도에...          NaN   \n33  농약은 종류와 성분에 따라 독성이 다르며, 피부, 점막, 호흡기, 소화기 등 다양한...          NaN   \n34  농약에 노출된 후 나타나는 증상은 매우 심각할 수 있으므로, 현재 남자친구의 상태는...          NaN   \n35  농약에 노출된 상황에서 아이가 피부 발진, 가려움, 두통, 메스꺼움 등의 증상을 보...          NaN   \n36  제초제에 노출된 후 나타나는 피부 발적, 붓기, 가려움증, 그리고 눈의 따가움과 충...          NaN   \n37  농약에 노출된 상황에서는 노출된 농약의 종류와 성분에 따라 증상이 다를 수 있으므로...          NaN   \n38                                                NaN          NaN   \n39                                                NaN          NaN   \n40  농약은 일반적으로 피부, 점막, 호흡기에 자극을 줄 수 있는 화학물질을 포함하고 있...          NaN   \n41  농약은 과일이나 채소의 재배 과정에서 사용되며, 섭취량과 종류에 따라 인체에 미치는...  2023.12.05.   \n42  농약 잔류물이 묻어 있는 사과를 섭취한 상황에서 나타나는 증상은 섭취한 농약의 종류...          NaN   \n43  농약이나 제초제는 피부 접촉, 흡입, 또는 섭취를 통해 인체에 유해한 영향을 미칠 ...          NaN   \n44  농약에 노출된 후 나타나는 피부 자극과 붉은 부종, 그리고 눈의 통증과 가려움은 농...          NaN   \n45  농약은 종류와 성분에 따라 독성이 다르며, 특히 오래된 농약은 현재 사용이 금지된 ...  2023.06.30.   \n46  농약이 피부에 직접 닿은 후 나타나는 증상은 농약의 종류와 성분에 따라 다를 수 있...          NaN   \n47  농약은 종류에 따라 독성이 다르며, 흡입, 섭취, 피부 접촉 등 노출 경로에 따라 ...          NaN   \n\n               Doctor  \n0   gpt-4o-2024-11-20  \n1   gpt-4o-2024-11-20  \n2   gpt-4o-2024-11-20  \n3   gpt-4o-2024-11-20  \n4   gpt-4o-2024-11-20  \n5   gpt-4o-2024-11-20  \n6   gpt-4o-2024-11-20  \n7   gpt-4o-2024-11-20  \n8   gpt-4o-2024-11-20  \n9   gpt-4o-2024-11-20  \n10  gpt-4o-2024-11-20  \n11  gpt-4o-2024-11-20  \n12  gpt-4o-2024-11-20  \n13  gpt-4o-2024-11-20  \n14  gpt-4o-2024-11-20  \n15  gpt-4o-2024-11-20  \n16  gpt-4o-2024-11-20  \n17  gpt-4o-2024-11-20  \n18  gpt-4o-2024-11-20  \n19  gpt-4o-2024-11-20  \n20  gpt-4o-2024-11-20  \n21  gpt-4o-2024-11-20  \n22  gpt-4o-2024-11-20  \n23  gpt-4o-2024-11-20  \n24  gpt-4o-2024-11-20  \n25  gpt-4o-2024-11-20  \n26  gpt-4o-2024-11-20  \n27  gpt-4o-2024-11-20  \n28  gpt-4o-2024-11-20  \n29  gpt-4o-2024-11-20  \n30  gpt-4o-2024-11-20  \n31  gpt-4o-2024-11-20  \n32  gpt-4o-2024-11-20  \n33  gpt-4o-2024-11-20  \n34  gpt-4o-2024-11-20  \n35  gpt-4o-2024-11-20  \n36  gpt-4o-2024-11-20  \n37  gpt-4o-2024-11-20  \n38                상담원  \n39                상담원  \n40  gpt-4o-2024-11-20  \n41                한재병  \n42  gpt-4o-2024-11-20  \n43  gpt-4o-2024-11-20  \n44  gpt-4o-2024-11-20  \n45                한재병  \n46  gpt-4o-2024-11-20  \n47  gpt-4o-2024-11-20  \n\n[48 rows x 24 columns]",
      "text/html": "<div>\n<style scoped>\n    .dataframe tbody tr th:only-of-type {\n        vertical-align: middle;\n    }\n\n    .dataframe tbody tr th {\n        vertical-align: top;\n    }\n\n    .dataframe thead th {\n        text-align: right;\n    }\n</style>\n<table border=\"1\" class=\"dataframe\">\n  <thead>\n    <tr style=\"text-align: right;\">\n      <th></th>\n      <th>Data_no</th>\n      <th>구분</th>\n      <th>데이터제공</th>\n      <th>임상과</th>\n      <th>제목</th>\n      <th>질문원본</th>\n      <th>질문수정</th>\n      <th>나이</th>\n      <th>성별</th>\n      <th>노출제품유형</th>\n      <th>...</th>\n      <th>노출시간</th>\n      <th>노출후증상</th>\n      <th>몸무게</th>\n      <th>노출용량</th>\n      <th>노출후응급처치</th>\n      <th>답변원본</th>\n      <th>답변수정</th>\n      <th>답변생성1</th>\n      <th>Date</th>\n      <th>Doctor</th>\n    </tr>\n  </thead>\n  <tbody>\n    <tr>\n      <th>0</th>\n      <td>512</td>\n      <td>일반인</td>\n      <td>생성</td>\n      <td>NaN</td>\n      <td>NaN</td>\n      <td>NaN</td>\n      <td>저희 할아버지(75세, 남성)가 오늘 아침에 농장에서 사용 중이던 공업용 농약이 실...</td>\n      <td>75세</td>\n      <td>남성</td>\n      <td>농약</td>\n      <td>...</td>\n      <td>1분</td>\n      <td>뺨 피부가 빨갛게 부어오르며 따갑고 화끈거림, 메스꺼움, 약간의 어지러움</td>\n      <td>NaN</td>\n      <td>NaN</td>\n      <td>물로 세척하고 닦아냄</td>\n      <td>NaN</td>\n      <td>NaN</td>\n      <td>농약은 피부 접촉, 흡입, 섭취 등 다양한 경로로 인체에 유해할 수 있는 화학물질로...</td>\n      <td>NaN</td>\n      <td>gpt-4o-2024-11-20</td>\n    </tr>\n    <tr>\n      <th>1</th>\n      <td>304</td>\n      <td>일반인</td>\n      <td>생성</td>\n      <td>NaN</td>\n      <td>NaN</td>\n      <td>NaN</td>\n      <td>저희 할아버지(76세, 남성) 얘긴데요. 며칠 전에 농약이 들어 있는 병을 실수로 ...</td>\n      <td>76세</td>\n      <td>남성</td>\n      <td>농약</td>\n      <td>...</td>\n      <td>20분</td>\n      <td>손이 빨갛게 부어오르고 따가움, 손바닥에 물집 발생</td>\n      <td>NaN</td>\n      <td>NaN</td>\n      <td>물로 바로 씻어냄</td>\n      <td>NaN</td>\n      <td>NaN</td>\n      <td>농약이 피부에 접촉된 후 손이 빨갛게 부어오르고 물집이 생겼다면, 이는 농약의 화학...</td>\n      <td>NaN</td>\n      <td>gpt-4o-2024-11-20</td>\n    </tr>\n    <tr>\n      <th>2</th>\n      <td>312</td>\n      <td>일반인</td>\n      <td>생성</td>\n      <td>NaN</td>\n      <td>NaN</td>\n      <td>NaN</td>\n      <td>제가 조금 걱정되는 일이 있어서 문의드립니다. 저희 아버지가 72세이시고, 어제 오...</td>\n      <td>72세</td>\n      <td>남자</td>\n      <td>농약</td>\n      <td>...</td>\n      <td>일회성</td>\n      <td>피부가 빨갛게 부어오르고 따가운 느낌, 어깨 근육통</td>\n      <td>NaN</td>\n      <td>NaN</td>\n      <td>약 5분 정도 세척, 소독용 연고 사용</td>\n      <td>NaN</td>\n      <td>NaN</td>\n      <td>농약에 노출된 후 피부에 발적, 부종, 따가움 등의 증상이 나타난 것은 농약 성분에...</td>\n      <td>NaN</td>\n      <td>gpt-4o-2024-11-20</td>\n    </tr>\n    <tr>\n      <th>3</th>\n      <td>320</td>\n      <td>일반인</td>\n      <td>생성</td>\n      <td>NaN</td>\n      <td>NaN</td>\n      <td>NaN</td>\n      <td>70대 남성입니다. 어제 오후 정원을 세우려고 분무기에 농약을 넣고 화초에 뿌리다가...</td>\n      <td>70대</td>\n      <td>남성</td>\n      <td>농약</td>\n      <td>...</td>\n      <td>30분</td>\n      <td>목 따끔거림, 약간의 기침, 눈 욱신거림, 피부 간지러움</td>\n      <td>NaN</td>\n      <td>조금</td>\n      <td>NaN</td>\n      <td>NaN</td>\n      <td>NaN</td>\n      <td>농약에 노출된 상황에서는 신속한 응급처치와 증상 관찰이 중요합니다. 농약의 성분을 ...</td>\n      <td>NaN</td>\n      <td>gpt-4o-2024-11-20</td>\n    </tr>\n    <tr>\n      <th>4</th>\n      <td>359</td>\n      <td>일반인</td>\n      <td>생성</td>\n      <td>NaN</td>\n      <td>NaN</td>\n      <td>NaN</td>\n      <td>저희 할아버지께서 72세인데, 농약으로 인한 중독 증상이 아닌가 걱정돼서 질문드려요...</td>\n      <td>72세</td>\n      <td>남자</td>\n      <td>농약</td>\n      <td>...</td>\n      <td>일회성</td>\n      <td>속이 메스껍고 약간의 어지럼증</td>\n      <td>NaN</td>\n      <td>적은 양</td>\n      <td>NaN</td>\n      <td>NaN</td>\n      <td>NaN</td>\n      <td>농약에 노출되었을 가능성이 있는 상황에서 할아버지께서 메스꺼움과 어지럼증을 호소하신...</td>\n      <td>NaN</td>\n      <td>gpt-4o-2024-11-20</td>\n    </tr>\n    <tr>\n      <th>5</th>\n      <td>363</td>\n      <td>일반인</td>\n      <td>생성</td>\n      <td>NaN</td>\n      <td>NaN</td>\n      <td>NaN</td>\n      <td>72세 남자입니다. 제가 어제 오후쯤 농약을 묻은 장갑으로 실수로 입을 닦았습니다....</td>\n      <td>72세</td>\n      <td>남자</td>\n      <td>농약</td>\n      <td>...</td>\n      <td>일회성</td>\n      <td>입술과 혀에 찌릿찌릿한 느낌, 위가 살살 아프고 메스꺼움</td>\n      <td>NaN</td>\n      <td>NaN</td>\n      <td>물로 입을 헹굴음</td>\n      <td>NaN</td>\n      <td>NaN</td>\n      <td>농약은 일반적으로 살충제, 제초제, 살균제 등 다양한 화학물질로 구성되어 있으며, ...</td>\n      <td>NaN</td>\n      <td>gpt-4o-2024-11-20</td>\n    </tr>\n    <tr>\n      <th>6</th>\n      <td>378</td>\n      <td>일반인</td>\n      <td>생성</td>\n      <td>NaN</td>\n      <td>NaN</td>\n      <td>NaN</td>\n      <td>72세 남성입니다. 오늘 아침에 제가 잡초 제거하려고 농약을 뿌리면서 20분 정도 ...</td>\n      <td>72세</td>\n      <td>남자</td>\n      <td>농약</td>\n      <td>...</td>\n      <td>20분</td>\n      <td>콧속 화끈거림, 머리 어지러움, 무거운 느낌, 두통</td>\n      <td>NaN</td>\n      <td>NaN</td>\n      <td>작업 후 바로 물로 얼굴을 씻음</td>\n      <td>NaN</td>\n      <td>NaN</td>\n      <td>농약에 노출된 상황에서 나타나는 증상은 농약의 성분과 노출된 양에 따라 다를 수 있...</td>\n      <td>NaN</td>\n      <td>gpt-4o-2024-11-20</td>\n    </tr>\n    <tr>\n      <th>7</th>\n      <td>390</td>\n      <td>일반인</td>\n      <td>생성</td>\n      <td>NaN</td>\n      <td>NaN</td>\n      <td>NaN</td>\n      <td>37세 여성인데 어제 오후에 집 근처 텃밭에서 농약을 살포하다가 바람이 불어서 얼굴...</td>\n      <td>37세</td>\n      <td>여성</td>\n      <td>농약</td>\n      <td>...</td>\n      <td>15분</td>\n      <td>목과 팔이 따갑고 붉게 부어오름, 현기증, 머리가 무거운 느낌</td>\n      <td>NaN</td>\n      <td>NaN</td>\n      <td>바로 물로 씻어냄</td>\n      <td>NaN</td>\n      <td>NaN</td>\n      <td>농약에 노출된 후 피부 자극과 전신 증상이 나타난 경우, 이는 농약의 성분에 따라 ...</td>\n      <td>NaN</td>\n      <td>gpt-4o-2024-11-20</td>\n    </tr>\n    <tr>\n      <th>8</th>\n      <td>392</td>\n      <td>일반인</td>\n      <td>생성</td>\n      <td>NaN</td>\n      <td>NaN</td>\n      <td>NaN</td>\n      <td>저희 아이는 3살이고 몸무게는 12kg입니다. 오늘 오후에 밖에서 놀다가 이웃집에서...</td>\n      <td>3세</td>\n      <td>NaN</td>\n      <td>농약</td>\n      <td>...</td>\n      <td>10분</td>\n      <td>기침, 눈가가 빨개짐, 콧물, 눈을 비빔</td>\n      <td>12kg</td>\n      <td>NaN</td>\n      <td>얼굴을 닦아줌, 물을 먹임</td>\n      <td>NaN</td>\n      <td>NaN</td>\n      <td>농약은 종류에 따라 독성이 다르며, 흡입, 피부 접촉, 또는 섭취를 통해 인체에 영...</td>\n      <td>NaN</td>\n      <td>gpt-4o-2024-11-20</td>\n    </tr>\n    <tr>\n      <th>9</th>\n      <td>401</td>\n      <td>일반인</td>\n      <td>생성</td>\n      <td>NaN</td>\n      <td>NaN</td>\n      <td>NaN</td>\n      <td>20대 초반 여자입니다. 어제 농촌에서 자원봉사를 하다가 농작물을 보호하기 위해 뿌...</td>\n      <td>20대 초반</td>\n      <td>여자</td>\n      <td>농약</td>\n      <td>...</td>\n      <td>30분</td>\n      <td>팔뚝 부분이 붉어지고 따끔거림, 머리 어지러움, 경미한 두통</td>\n      <td>NaN</td>\n      <td>NaN</td>\n      <td>작업 후 바로 물로 씻어냄</td>\n      <td>NaN</td>\n      <td>NaN</td>\n      <td>농약 작업 중 피부와 접촉하거나 흡입한 경우, 농약의 종류와 성분에 따라 증상이 다...</td>\n      <td>NaN</td>\n      <td>gpt-4o-2024-11-20</td>\n    </tr>\n    <tr>\n      <th>10</th>\n      <td>402</td>\n      <td>일반인</td>\n      <td>생성</td>\n      <td>NaN</td>\n      <td>NaN</td>\n      <td>NaN</td>\n      <td>저희 아이가 6살이고 몸무게는 18kg입니다. 아침에 집 근처 텃밭에서 할머니랑 놀...</td>\n      <td>6세</td>\n      <td>NaN</td>\n      <td>농약</td>\n      <td>...</td>\n      <td>일회성</td>\n      <td>손이 간지럽고 눈이 빨갛게 충혈되며 눈물이 계속 남</td>\n      <td>18kg</td>\n      <td>NaN</td>\n      <td>손을 씻기고 눈을 물로 헹굼</td>\n      <td>NaN</td>\n      <td>NaN</td>\n      <td>농약에 노출된 것으로 의심되는 상황에서 아이가 손 간지러움과 눈 충혈, 눈물 등의 ...</td>\n      <td>NaN</td>\n      <td>gpt-4o-2024-11-20</td>\n    </tr>\n    <tr>\n      <th>11</th>\n      <td>403</td>\n      <td>일반인</td>\n      <td>생성</td>\n      <td>NaN</td>\n      <td>NaN</td>\n      <td>NaN</td>\n      <td>8살 여자아이 일인데요, 몸무게는 26kg이고요. 오늘 오후에 할머니네 농장에서 놀...</td>\n      <td>8세</td>\n      <td>여자</td>\n      <td>농약</td>\n      <td>...</td>\n      <td>10분</td>\n      <td>손바닥 전체가 붉게 변하고 따끔거림, 간지러움</td>\n      <td>26kg</td>\n      <td>NaN</td>\n      <td>깨끗한 물로 씻어냄</td>\n      <td>NaN</td>\n      <td>NaN</td>\n      <td>농약이 피부에 직접적으로 접촉한 경우, 특히 살충제와 같은 농약은 피부 자극을 유발...</td>\n      <td>NaN</td>\n      <td>gpt-4o-2024-11-20</td>\n    </tr>\n    <tr>\n      <th>12</th>\n      <td>600</td>\n      <td>일반인</td>\n      <td>생성</td>\n      <td>NaN</td>\n      <td>NaN</td>\n      <td>NaN</td>\n      <td>저희 조카가 3살이고 몸무게는 13kg입니다. 오늘 낮에 마당에서 놀다가 누군가 흘...</td>\n      <td>3세</td>\n      <td>NaN</td>\n      <td>농약</td>\n      <td>...</td>\n      <td>5분</td>\n      <td>눈이 빨갛게 충혈되고 눈물을 흘림, 눈이 가려움</td>\n      <td>13kg</td>\n      <td>NaN</td>\n      <td>손을 깨끗이 씻김</td>\n      <td>NaN</td>\n      <td>NaN</td>\n      <td>농약은 종류에 따라 독성이 다르며, 피부나 점막(눈 포함)에 노출될 경우 자극 증상...</td>\n      <td>NaN</td>\n      <td>gpt-4o-2024-11-20</td>\n    </tr>\n    <tr>\n      <th>13</th>\n      <td>601</td>\n      <td>일반인</td>\n      <td>생성</td>\n      <td>NaN</td>\n      <td>NaN</td>\n      <td>NaN</td>\n      <td>제가 28살 남자인데요, 오늘 아침에 옥상 정리하다가 우연히 농약 분무기 안에 남아...</td>\n      <td>28세</td>\n      <td>남자</td>\n      <td>농약</td>\n      <td>...</td>\n      <td>10분</td>\n      <td>손과 팔이 빨갛게 부어오르고 따갑고 간지러움, 머리가 어지럽고 위가 살살 아픔</td>\n      <td>NaN</td>\n      <td>NaN</td>\n      <td>흐르는 물로 씻어냄</td>\n      <td>NaN</td>\n      <td>NaN</td>\n      <td>농약에 노출된 후 피부에 발적, 부종, 따가움, 간지러움 등의 증상이 나타난 것은 ...</td>\n      <td>NaN</td>\n      <td>gpt-4o-2024-11-20</td>\n    </tr>\n    <tr>\n      <th>14</th>\n      <td>602</td>\n      <td>일반인</td>\n      <td>생성</td>\n      <td>NaN</td>\n      <td>NaN</td>\n      <td>NaN</td>\n      <td>제가 36살 여자이고 오늘 아침에 친구랑 지역 농장에서 자원봉사를 하다가 농약을 묻...</td>\n      <td>36세</td>\n      <td>여자</td>\n      <td>농약</td>\n      <td>...</td>\n      <td>20분</td>\n      <td>손등과 이마가 붉어지고 따끔거림, 기운이 빠지고 머리가 띵함</td>\n      <td>NaN</td>\n      <td>NaN</td>\n      <td>NaN</td>\n      <td>NaN</td>\n      <td>NaN</td>\n      <td>농약에 노출된 상황에서는 신속한 대처가 중요합니다. 우선, 농약의 종류를 정확히 알...</td>\n      <td>NaN</td>\n      <td>gpt-4o-2024-11-20</td>\n    </tr>\n    <tr>\n      <th>15</th>\n      <td>612</td>\n      <td>일반인</td>\n      <td>생성</td>\n      <td>NaN</td>\n      <td>NaN</td>\n      <td>NaN</td>\n      <td>42세 여성이고요, 오늘 낮에 텃밭에서 작업하다가 농약 분무기를 사용했어요. 바람 ...</td>\n      <td>42세</td>\n      <td>여성</td>\n      <td>농약</td>\n      <td>...</td>\n      <td>15분</td>\n      <td>입 주변 따가움, 피부 붉게 부어오름, 두통, 가벼운 메스꺼움</td>\n      <td>NaN</td>\n      <td>NaN</td>\n      <td>물로 얼굴과 손 세척</td>\n      <td>NaN</td>\n      <td>NaN</td>\n      <td>농약에 노출된 후 나타나는 증상은 사용된 농약의 성분과 노출 정도에 따라 다를 수 ...</td>\n      <td>NaN</td>\n      <td>gpt-4o-2024-11-20</td>\n    </tr>\n    <tr>\n      <th>16</th>\n      <td>614</td>\n      <td>일반인</td>\n      <td>생성</td>\n      <td>NaN</td>\n      <td>NaN</td>\n      <td>NaN</td>\n      <td>저희 딸이 8살이고 몸무게는 24kg입니다. 오늘 오후에 동네 공터에서 친구들과 놀...</td>\n      <td>8세</td>\n      <td>여자</td>\n      <td>농약</td>\n      <td>...</td>\n      <td>5~10분</td>\n      <td>배가 아프고, 머리가 어지럽고 약간 메스꺼움</td>\n      <td>24kg</td>\n      <td>NaN</td>\n      <td>손을 깨끗이 씻기고 물을 마시게 함</td>\n      <td>NaN</td>\n      <td>NaN</td>\n      <td>농약에 노출된 가능성이 있는 상황에서 아이가 배 아픔, 어지러움, 메스꺼움 등의 증...</td>\n      <td>NaN</td>\n      <td>gpt-4o-2024-11-20</td>\n    </tr>\n    <tr>\n      <th>17</th>\n      <td>615</td>\n      <td>일반인</td>\n      <td>생성</td>\n      <td>NaN</td>\n      <td>NaN</td>\n      <td>NaN</td>\n      <td>저희 엄마 얘기인데요, 63세 여성이고요. 오늘 오전에 밭에서 농작물에 농약을 뿌리...</td>\n      <td>63세</td>\n      <td>여성</td>\n      <td>농약</td>\n      <td>...</td>\n      <td>10분</td>\n      <td>손등이 따갑고 붉게 부어오름, 얼굴 피부에 두드러기처럼 빨갛게 올라옴, 머리가 어지러움</td>\n      <td>NaN</td>\n      <td>NaN</td>\n      <td>손과 얼굴을 비눗물로 닦음</td>\n      <td>NaN</td>\n      <td>NaN</td>\n      <td>농약 노출로 인해 발생한 증상은 노출된 농약의 종류와 성분, 노출 경로, 노출 시간...</td>\n      <td>NaN</td>\n      <td>gpt-4o-2024-11-20</td>\n    </tr>\n    <tr>\n      <th>18</th>\n      <td>620</td>\n      <td>일반인</td>\n      <td>생성</td>\n      <td>NaN</td>\n      <td>NaN</td>\n      <td>NaN</td>\n      <td>42세 남성입니다. 오늘 아침에 시골 텃밭 작업 중에 농약을 분무기로 뿌리다 보니 ...</td>\n      <td>42세</td>\n      <td>남성</td>\n      <td>농약</td>\n      <td>...</td>\n      <td>15분</td>\n      <td>얼굴과 목 부위가 간지럽고 붉게 부어오름, 목 주변에 따끔한 느낌</td>\n      <td>NaN</td>\n      <td>NaN</td>\n      <td>비눗물로 씻어냄</td>\n      <td>NaN</td>\n      <td>NaN</td>\n      <td>농약이 피부에 노출된 후 나타나는 증상은 사용된 농약의 종류와 개인의 민감도에 따라...</td>\n      <td>NaN</td>\n      <td>gpt-4o-2024-11-20</td>\n    </tr>\n    <tr>\n      <th>19</th>\n      <td>622</td>\n      <td>일반인</td>\n      <td>생성</td>\n      <td>NaN</td>\n      <td>NaN</td>\n      <td>NaN</td>\n      <td>50대 중반 여성입니다. 오늘 아침에 집 뒷마당 텃밭에서 풀을 뽑다가 농약을 손으로...</td>\n      <td>50대 중반</td>\n      <td>여성</td>\n      <td>농약</td>\n      <td>...</td>\n      <td>15분</td>\n      <td>속이 불편하고 목이 컬컬하며 가슴이 답답하고 소화가 안 되는 느낌</td>\n      <td>NaN</td>\n      <td>NaN</td>\n      <td>손과 입을 물로 씻고 헹굴음</td>\n      <td>NaN</td>\n      <td>NaN</td>\n      <td>농약에 노출된 상황에서는 신속하고 적절한 대처가 중요합니다. 우선, 농약의 종류를 ...</td>\n      <td>NaN</td>\n      <td>gpt-4o-2024-11-20</td>\n    </tr>\n    <tr>\n      <th>20</th>\n      <td>623</td>\n      <td>일반인</td>\n      <td>생성</td>\n      <td>NaN</td>\n      <td>NaN</td>\n      <td>NaN</td>\n      <td>20대 중반 여성입니다. 어제 오후에 시골에서 할머니 도와 드리다가 텃밭에서 농약 ...</td>\n      <td>20대 중반</td>\n      <td>여성</td>\n      <td>농약</td>\n      <td>...</td>\n      <td>5분</td>\n      <td>손등 피부가 빨갛게 부어오르고 간지러움, 코 안쪽 따끔거림, 목 간질간질함</td>\n      <td>NaN</td>\n      <td>NaN</td>\n      <td>흐르는 물로 세척</td>\n      <td>NaN</td>\n      <td>NaN</td>\n      <td>농약에 노출된 후 나타나는 증상은 사용된 농약의 종류와 개인의 민감도에 따라 다를 ...</td>\n      <td>NaN</td>\n      <td>gpt-4o-2024-11-20</td>\n    </tr>\n    <tr>\n      <th>21</th>\n      <td>625</td>\n      <td>일반인</td>\n      <td>생성</td>\n      <td>NaN</td>\n      <td>NaN</td>\n      <td>NaN</td>\n      <td>27세 남성인데요. 오늘 오전에 아버지 농장에서 돕다가 농약 분무기가 고장 나서 농...</td>\n      <td>27세</td>\n      <td>남성</td>\n      <td>농약</td>\n      <td>...</td>\n      <td>15분</td>\n      <td>팔뚝 피부가 매우 붉어지고 가려움증, 두통, 메스꺼움</td>\n      <td>NaN</td>\n      <td>NaN</td>\n      <td>물로 씻어냄</td>\n      <td>NaN</td>\n      <td>NaN</td>\n      <td>농약에 노출된 후 피부 발적, 가려움증, 두통, 메스꺼움 등의 증상이 나타난 것은 ...</td>\n      <td>NaN</td>\n      <td>gpt-4o-2024-11-20</td>\n    </tr>\n    <tr>\n      <th>22</th>\n      <td>629</td>\n      <td>일반인</td>\n      <td>생성</td>\n      <td>NaN</td>\n      <td>NaN</td>\n      <td>NaN</td>\n      <td>제 남동생 얘기인데요, 10살이고 몸무게는 28kg입니다. 오늘 오후에 집 근처 텃...</td>\n      <td>10세</td>\n      <td>남자</td>\n      <td>농약</td>\n      <td>...</td>\n      <td>5분</td>\n      <td>양쪽 눈 충혈, 따가움, 눈 주위 가려움, 얼굴 약간 붉어짐</td>\n      <td>28kg</td>\n      <td>NaN</td>\n      <td>흐르는 물로 손과 눈을 씻음</td>\n      <td>NaN</td>\n      <td>NaN</td>\n      <td>농약이 피부나 점막에 노출되었을 경우, 특히 눈과 같은 민감한 부위에 접촉했을 때는...</td>\n      <td>NaN</td>\n      <td>gpt-4o-2024-11-20</td>\n    </tr>\n    <tr>\n      <th>23</th>\n      <td>634</td>\n      <td>일반인</td>\n      <td>생성</td>\n      <td>NaN</td>\n      <td>NaN</td>\n      <td>NaN</td>\n      <td>저희 조카가 7살이고 몸무게는 20kg인데요, 오늘 오후에 시골 외할머니네 갔다가 ...</td>\n      <td>7세</td>\n      <td>NaN</td>\n      <td>농약</td>\n      <td>...</td>\n      <td>10분</td>\n      <td>얼굴(볼)에 빨갛게 두드러기 발생, 손바닥 따가움</td>\n      <td>20kg</td>\n      <td>NaN</td>\n      <td>비누로 세척</td>\n      <td>NaN</td>\n      <td>NaN</td>\n      <td>농약에 노출된 것으로 의심되는 상황에서 아이의 피부에 두드러기와 따가움 증상이 나타...</td>\n      <td>NaN</td>\n      <td>gpt-4o-2024-11-20</td>\n    </tr>\n    <tr>\n      <th>24</th>\n      <td>636</td>\n      <td>일반인</td>\n      <td>생성</td>\n      <td>NaN</td>\n      <td>NaN</td>\n      <td>NaN</td>\n      <td>저희 아이가 4살이고 몸무게는 14kg이에요. 어제 오후에 텃밭에서 놀다가 농약이 ...</td>\n      <td>4세</td>\n      <td>NaN</td>\n      <td>농약</td>\n      <td>...</td>\n      <td>5분</td>\n      <td>손등과 얼굴 주변에 붉은 발진, 손의 가려움</td>\n      <td>14kg</td>\n      <td>NaN</td>\n      <td>깨끗한 물로 손과 얼굴을 씻어줌</td>\n      <td>NaN</td>\n      <td>NaN</td>\n      <td>농약에 노출된 상황에서 아이의 피부에 발진과 가려움증이 나타났다면, 이는 농약 성분...</td>\n      <td>NaN</td>\n      <td>gpt-4o-2024-11-20</td>\n    </tr>\n    <tr>\n      <th>25</th>\n      <td>638</td>\n      <td>일반인</td>\n      <td>생성</td>\n      <td>NaN</td>\n      <td>NaN</td>\n      <td>NaN</td>\n      <td>저희 할머니께서 75세이시고, 오늘 낮에 마당에서 농작물에 사용되는 농약을 뿌리셨어...</td>\n      <td>75세</td>\n      <td>여자</td>\n      <td>농약</td>\n      <td>...</td>\n      <td>20분</td>\n      <td>얼굴과 목 피부 간지러움, 약간 붉어짐, 머리가 띵한 느낌, 속이 울렁거림</td>\n      <td>NaN</td>\n      <td>NaN</td>\n      <td>비눗물로 세수 및 손 씻음</td>\n      <td>NaN</td>\n      <td>NaN</td>\n      <td>농약은 종류와 성분에 따라 독성이 다르며, 피부 접촉이나 흡입, 섭취를 통해 인체에...</td>\n      <td>NaN</td>\n      <td>gpt-4o-2024-11-20</td>\n    </tr>\n    <tr>\n      <th>26</th>\n      <td>640</td>\n      <td>일반인</td>\n      <td>생성</td>\n      <td>NaN</td>\n      <td>NaN</td>\n      <td>NaN</td>\n      <td>제가 아는 분 얘긴데요, 그분 나이는 68세 남성이고, 오늘 오후 시골집 마당에서 ...</td>\n      <td>68세</td>\n      <td>남성</td>\n      <td>농약</td>\n      <td>...</td>\n      <td>10분</td>\n      <td>입안이 찌릿하고 메스꺼움, 혀 끝 감각 둔화, 목 아래쪽 답답함, 약간의 기침</td>\n      <td>NaN</td>\n      <td>NaN</td>\n      <td>물로 대충 세수만 함</td>\n      <td>NaN</td>\n      <td>NaN</td>\n      <td>농약은 종류와 성분에 따라 독성이 다르며, 특히 살충제는 피부, 점막, 호흡기, 소...</td>\n      <td>NaN</td>\n      <td>gpt-4o-2024-11-20</td>\n    </tr>\n    <tr>\n      <th>27</th>\n      <td>646</td>\n      <td>일반인</td>\n      <td>생성</td>\n      <td>NaN</td>\n      <td>NaN</td>\n      <td>NaN</td>\n      <td>제가 8살 아들(남자, 몸무게 24kg)에 대해 좀 여쭤볼 게 있어요. 오늘 오후에...</td>\n      <td>8세</td>\n      <td>남자</td>\n      <td>농약</td>\n      <td>...</td>\n      <td>5분</td>\n      <td>한쪽 무릎과 손바닥이 빨갛게 변하고 부어오르며 간지러움, 약간 으슬으슬 추움</td>\n      <td>24kg</td>\n      <td>NaN</td>\n      <td>손과 무릎을 물로 씻김</td>\n      <td>NaN</td>\n      <td>NaN</td>\n      <td>농약에 노출된 상황에서 아이가 피부 발적, 부종, 가려움증 등의 증상을 보이고 있다...</td>\n      <td>NaN</td>\n      <td>gpt-4o-2024-11-20</td>\n    </tr>\n    <tr>\n      <th>28</th>\n      <td>687</td>\n      <td>일반인</td>\n      <td>생성</td>\n      <td>NaN</td>\n      <td>NaN</td>\n      <td>NaN</td>\n      <td>50대 남성입니다. 오늘 아침에 집 근처 농약 살포 차량이 지나가면서, 제가 약 2...</td>\n      <td>50대</td>\n      <td>남성</td>\n      <td>농약</td>\n      <td>...</td>\n      <td>20분</td>\n      <td>목 따가움, 기침, 눈 따가움, 머리가 멍한 느낌</td>\n      <td>NaN</td>\n      <td>NaN</td>\n      <td>바깥 바람을 쐬고 물을 마심</td>\n      <td>NaN</td>\n      <td>NaN</td>\n      <td>농약 살포 차량에서 발생한 냄새와 연기로 인해 나타난 증상은 농약의 성분에 따라 다...</td>\n      <td>NaN</td>\n      <td>gpt-4o-2024-11-20</td>\n    </tr>\n    <tr>\n      <th>29</th>\n      <td>705</td>\n      <td>일반인</td>\n      <td>생성</td>\n      <td>NaN</td>\n      <td>NaN</td>\n      <td>NaN</td>\n      <td>저는 42세 남성이고, 오늘 아침에 창고 정리 중에 오래된 농약 병을 발견했는데요....</td>\n      <td>42세</td>\n      <td>남성</td>\n      <td>농약</td>\n      <td>...</td>\n      <td>20분</td>\n      <td>목 따끔거림, 코 안 화끈거림, 두통, 어지럼증, 가슴 답답함</td>\n      <td>NaN</td>\n      <td>NaN</td>\n      <td>NaN</td>\n      <td>NaN</td>\n      <td>NaN</td>\n      <td>농약은 종류에 따라 독성이 매우 다양하며, 흡입 시 호흡기와 신경계에 영향을 줄 수...</td>\n      <td>NaN</td>\n      <td>gpt-4o-2024-11-20</td>\n    </tr>\n    <tr>\n      <th>30</th>\n      <td>609</td>\n      <td>일반인</td>\n      <td>생성</td>\n      <td>NaN</td>\n      <td>NaN</td>\n      <td>NaN</td>\n      <td>저희 아버지 얘기인데요, 67세 남성입니다. 오늘 오후에 밭에서 농약 살포 작업을 ...</td>\n      <td>67세</td>\n      <td>남성</td>\n      <td>농약</td>\n      <td>...</td>\n      <td>20분</td>\n      <td>손등이 가렵고 붉게 부어오르며 물집처럼 부품, 팔쪽 피부가 따가움</td>\n      <td>NaN</td>\n      <td>NaN</td>\n      <td>물로 세척</td>\n      <td>NaN</td>\n      <td>NaN</td>\n      <td>농약이 피부에 직접적으로 노출되었을 때 나타나는 증상은 농약의 종류와 성분에 따라 ...</td>\n      <td>NaN</td>\n      <td>gpt-4o-2024-11-20</td>\n    </tr>\n    <tr>\n      <th>31</th>\n      <td>399</td>\n      <td>일반인</td>\n      <td>생성</td>\n      <td>NaN</td>\n      <td>NaN</td>\n      <td>NaN</td>\n      <td>저희 아이가 5살(몸무게 18kg)인데요, 오늘 오전에 우연히 바닥에 있던 농약 분...</td>\n      <td>5세</td>\n      <td>NaN</td>\n      <td>농약</td>\n      <td>...</td>\n      <td>1-2분</td>\n      <td>눈이 빨갛게 충혈되고 약간 가려움</td>\n      <td>18kg</td>\n      <td>NaN</td>\n      <td>물로 손과 눈을 닦아줌</td>\n      <td>NaN</td>\n      <td>NaN</td>\n      <td>제초제는 일반적으로 피부, 점막, 눈에 자극을 줄 수 있는 화학물질을 포함하고 있습...</td>\n      <td>NaN</td>\n      <td>gpt-4o-2024-11-20</td>\n    </tr>\n    <tr>\n      <th>32</th>\n      <td>605</td>\n      <td>일반인</td>\n      <td>생성</td>\n      <td>NaN</td>\n      <td>NaN</td>\n      <td>NaN</td>\n      <td>30대 중반 남성인데요, 오늘 오후에 텃밭에서 작업하다가 일반적인 농약 살포용 액체...</td>\n      <td>30대 중반</td>\n      <td>남성</td>\n      <td>농약</td>\n      <td>...</td>\n      <td>10분</td>\n      <td>피부가 붉게 변하고 가려움, 따끔거림</td>\n      <td>NaN</td>\n      <td>NaN</td>\n      <td>비누와 흐르는 물로 씻어냄</td>\n      <td>NaN</td>\n      <td>NaN</td>\n      <td>농약이 피부에 노출된 후 나타나는 증상은 사용된 농약의 성분과 개인의 피부 민감도에...</td>\n      <td>NaN</td>\n      <td>gpt-4o-2024-11-20</td>\n    </tr>\n    <tr>\n      <th>33</th>\n      <td>405</td>\n      <td>일반인</td>\n      <td>생성</td>\n      <td>NaN</td>\n      <td>NaN</td>\n      <td>NaN</td>\n      <td>5살 여자아이 얘기인데요, 몸무게는 18kg이고 오늘 아침 옆집 할아버지가 밭에서 ...</td>\n      <td>5세</td>\n      <td>여자</td>\n      <td>농약</td>\n      <td>...</td>\n      <td>일회성</td>\n      <td>눈이 빨갛고 간지러움, 목 통증, 복부 통증</td>\n      <td>18kg</td>\n      <td>NaN</td>\n      <td>눈을 물로 씻어줌</td>\n      <td>NaN</td>\n      <td>NaN</td>\n      <td>농약은 종류와 성분에 따라 독성이 다르며, 피부, 점막, 호흡기, 소화기 등 다양한...</td>\n      <td>NaN</td>\n      <td>gpt-4o-2024-11-20</td>\n    </tr>\n    <tr>\n      <th>34</th>\n      <td>630</td>\n      <td>일반인</td>\n      <td>생성</td>\n      <td>NaN</td>\n      <td>NaN</td>\n      <td>NaN</td>\n      <td>제 남자친구가 27세인데요, 오늘 낮에 농촌에서 부모님 일을 도와드리다가 농약에 노...</td>\n      <td>27세</td>\n      <td>남자</td>\n      <td>농약</td>\n      <td>...</td>\n      <td>10분</td>\n      <td>얼굴과 목 피부가 간지럽고 빨갛게 부어오름, 숨이 답답하고 가슴이 묵직한 느낌</td>\n      <td>NaN</td>\n      <td>NaN</td>\n      <td>물로 바로 씻음</td>\n      <td>NaN</td>\n      <td>NaN</td>\n      <td>농약에 노출된 후 나타나는 증상은 매우 심각할 수 있으므로, 현재 남자친구의 상태는...</td>\n      <td>NaN</td>\n      <td>gpt-4o-2024-11-20</td>\n    </tr>\n    <tr>\n      <th>35</th>\n      <td>639</td>\n      <td>일반인</td>\n      <td>생성</td>\n      <td>NaN</td>\n      <td>NaN</td>\n      <td>NaN</td>\n      <td>제가 조금 걱정이 돼서 문의드려요. 저희 아이는 8살 여자아이이고, 몸무게는 25k...</td>\n      <td>8세</td>\n      <td>여자</td>\n      <td>농약</td>\n      <td>...</td>\n      <td>5분</td>\n      <td>피부가 붉게 부어오르고 가려움, 머리 아픔, 속이 메스꺼움</td>\n      <td>25kg</td>\n      <td>NaN</td>\n      <td>즉시 집에 와서 씻기고 목욕시킴</td>\n      <td>NaN</td>\n      <td>NaN</td>\n      <td>농약에 노출된 상황에서 아이가 피부 발진, 가려움, 두통, 메스꺼움 등의 증상을 보...</td>\n      <td>NaN</td>\n      <td>gpt-4o-2024-11-20</td>\n    </tr>\n    <tr>\n      <th>36</th>\n      <td>398</td>\n      <td>일반인</td>\n      <td>생성</td>\n      <td>NaN</td>\n      <td>NaN</td>\n      <td>NaN</td>\n      <td>50세 남성인데요, 오늘 아침에 정원에서 일하다가 농약 분무기 검사를 했습니다. 여...</td>\n      <td>50세</td>\n      <td>남성</td>\n      <td>농약</td>\n      <td>...</td>\n      <td>10분</td>\n      <td>얼굴 피부 붓고 따가움, 팔 가려움증, 눈 따끔거림 및 충혈</td>\n      <td>NaN</td>\n      <td>NaN</td>\n      <td>작업 후 바로 물로 씻어냄</td>\n      <td>NaN</td>\n      <td>NaN</td>\n      <td>제초제에 노출된 후 나타나는 피부 발적, 붓기, 가려움증, 그리고 눈의 따가움과 충...</td>\n      <td>NaN</td>\n      <td>gpt-4o-2024-11-20</td>\n    </tr>\n    <tr>\n      <th>37</th>\n      <td>632</td>\n      <td>일반인</td>\n      <td>생성</td>\n      <td>NaN</td>\n      <td>NaN</td>\n      <td>NaN</td>\n      <td>저희 아들이 9살인데요, 몸무게는 30kg입니다. 오늘 오후에 아파트 단지 안에서 ...</td>\n      <td>9세</td>\n      <td>남자</td>\n      <td>농약</td>\n      <td>...</td>\n      <td>5분 이내</td>\n      <td>손바닥 따가움, 약간 간지러움, 허벅지 부근 피부 붉어짐</td>\n      <td>30kg</td>\n      <td>NaN</td>\n      <td>손과 노출된 피부를 물로 세척함</td>\n      <td>NaN</td>\n      <td>NaN</td>\n      <td>농약에 노출된 상황에서는 노출된 농약의 종류와 성분에 따라 증상이 다를 수 있으므로...</td>\n      <td>NaN</td>\n      <td>gpt-4o-2024-11-20</td>\n    </tr>\n    <tr>\n      <th>38</th>\n      <td>2200</td>\n      <td>의료진</td>\n      <td>중독센터</td>\n      <td>NaN</td>\n      <td>NaN</td>\n      <td>안녕하세요 고대구로병원입니다\\n약물정보 의뢰드립니다\\nFemale 58세\\n농약(그...</td>\n      <td>Female 58세\\n농약(그라목손)\\n서울 / 경구 / 비의도적 / 50대 / 가정</td>\n      <td>58세</td>\n      <td>여자</td>\n      <td>농약</td>\n      <td>...</td>\n      <td>NaN</td>\n      <td>NaN</td>\n      <td>NaN</td>\n      <td>NaN</td>\n      <td>NaN</td>\n      <td>안녕하세요. 서울시 독성물질 중독관리센터입니다.\\n\\n문의주신 그라목손 농약은 파라...</td>\n      <td>문의주신 그라목손 농약은 파라쿼트 성분으로 확인됩니다.  주성분 독성정보제공시스템 ...</td>\n      <td>NaN</td>\n      <td>NaN</td>\n      <td>상담원</td>\n    </tr>\n    <tr>\n      <th>39</th>\n      <td>2022</td>\n      <td>의료진</td>\n      <td>중독센터</td>\n      <td>NaN</td>\n      <td>NaN</td>\n      <td>안녕하세요 고대구로병원입니다.\\n약물정보 의뢰드립니다\\nMale 55세\\n농약(글리...</td>\n      <td>Male 55세\\n농약(글리포세이트 이소프로필아민)\\n서울/경구/의도적/50대/가정</td>\n      <td>55세</td>\n      <td>남자</td>\n      <td>농약</td>\n      <td>...</td>\n      <td>NaN</td>\n      <td>NaN</td>\n      <td>NaN</td>\n      <td>NaN</td>\n      <td>NaN</td>\n      <td>안녕하세요,\\n\\n요청하신 농약 성분의 독성정보제공시스템 URL를 보내드립니다.\\n...</td>\n      <td>글리포세이트 \\nhttps://www.nifds.go.kr/toxinfo/tcd/i...</td>\n      <td>NaN</td>\n      <td>NaN</td>\n      <td>상담원</td>\n    </tr>\n    <tr>\n      <th>40</th>\n      <td>599</td>\n      <td>일반인</td>\n      <td>생성</td>\n      <td>NaN</td>\n      <td>NaN</td>\n      <td>NaN</td>\n      <td>제 동생 얘긴데요, 8살 남자아이이고 몸무게는 22kg이에요. 오늘 오후에 동네 밭...</td>\n      <td>8세</td>\n      <td>남자</td>\n      <td>농약</td>\n      <td>...</td>\n      <td>10분</td>\n      <td>얼굴 피부가 빨갛게 부어오름, 팔이 따갑고 간지러움, 코 간질거림, 훌쩍임, 약간의 기침</td>\n      <td>22kg</td>\n      <td>NaN</td>\n      <td>얼굴과 팔을 물로 씻음</td>\n      <td>NaN</td>\n      <td>NaN</td>\n      <td>농약은 일반적으로 피부, 점막, 호흡기에 자극을 줄 수 있는 화학물질을 포함하고 있...</td>\n      <td>NaN</td>\n      <td>gpt-4o-2024-11-20</td>\n    </tr>\n    <tr>\n      <th>41</th>\n      <td>238</td>\n      <td>일반인</td>\n      <td>주형준</td>\n      <td>응급의학과</td>\n      <td>과일 농약 섭취시 증상</td>\n      <td>감귤을 배달시켰는데 허옇게 뜬 농약같은 부분이 많고 약냄새도 좀 나고 터진부분이 좀...</td>\n      <td>과일 농약 섭취시 증상, 감귤을 배달시켰는데 허옇게 뜬 농약같은 부분이 많고 약냄새...</td>\n      <td>NaN</td>\n      <td>NaN</td>\n      <td>농약</td>\n      <td>...</td>\n      <td>일회성</td>\n      <td>배윗쪽이 빵빵해지는 팽만감</td>\n      <td>NaN</td>\n      <td>NaN</td>\n      <td>NaN</td>\n      <td>안녕하세요. 하이닥-네이버 지식iN 상담의 한재병 입니다. ​ 현재 정보만으로는 농...</td>\n      <td>NaN</td>\n      <td>농약은 과일이나 채소의 재배 과정에서 사용되며, 섭취량과 종류에 따라 인체에 미치는...</td>\n      <td>2023.12.05.</td>\n      <td>한재병</td>\n    </tr>\n    <tr>\n      <th>42</th>\n      <td>445</td>\n      <td>일반인</td>\n      <td>생성</td>\n      <td>NaN</td>\n      <td>NaN</td>\n      <td>NaN</td>\n      <td>제가 32살 여자이고 몸무게는 58kg 정도예요. 어제 밤 10시쯤 못난이 채소 꾸...</td>\n      <td>32세</td>\n      <td>여자</td>\n      <td>농약</td>\n      <td>...</td>\n      <td>일회성</td>\n      <td>속이 메스껍고 소화가 안 되는 느낌</td>\n      <td>58kg</td>\n      <td>반 개의 사과</td>\n      <td>찬물로 두 번 정도 헹궈 씻음</td>\n      <td>NaN</td>\n      <td>NaN</td>\n      <td>농약 잔류물이 묻어 있는 사과를 섭취한 상황에서 나타나는 증상은 섭취한 농약의 종류...</td>\n      <td>NaN</td>\n      <td>gpt-4o-2024-11-20</td>\n    </tr>\n    <tr>\n      <th>43</th>\n      <td>407</td>\n      <td>일반인</td>\n      <td>생성</td>\n      <td>NaN</td>\n      <td>NaN</td>\n      <td>NaN</td>\n      <td>저희 아이(7세, 남자, 몸무게 22kg)가 어제 오후에 놀이터 근처 밭에서 놀다가...</td>\n      <td>7세</td>\n      <td>남자</td>\n      <td>농약</td>\n      <td>...</td>\n      <td>10분</td>\n      <td>손바닥이 빨갛게 부어오르고 따가움, 얼굴에 붉은 발진, 메스꺼움</td>\n      <td>22kg</td>\n      <td>NaN</td>\n      <td>손을 비눗물로 씻김</td>\n      <td>NaN</td>\n      <td>NaN</td>\n      <td>농약이나 제초제는 피부 접촉, 흡입, 또는 섭취를 통해 인체에 유해한 영향을 미칠 ...</td>\n      <td>NaN</td>\n      <td>gpt-4o-2024-11-20</td>\n    </tr>\n    <tr>\n      <th>44</th>\n      <td>397</td>\n      <td>일반인</td>\n      <td>생성</td>\n      <td>NaN</td>\n      <td>NaN</td>\n      <td>NaN</td>\n      <td>저희 남편이 45세인데 오늘 아침에 논에서 농약을 뿌리다가 사고가 있었어요. 살충제...</td>\n      <td>45세</td>\n      <td>남자</td>\n      <td>농약</td>\n      <td>...</td>\n      <td>10분</td>\n      <td>얼굴 피부가 따갑고 붉게 부어오름, 한쪽 눈에 통증과 가려움</td>\n      <td>NaN</td>\n      <td>NaN</td>\n      <td>세수를 함</td>\n      <td>NaN</td>\n      <td>NaN</td>\n      <td>농약에 노출된 후 나타나는 피부 자극과 붉은 부종, 그리고 눈의 통증과 가려움은 농...</td>\n      <td>NaN</td>\n      <td>gpt-4o-2024-11-20</td>\n    </tr>\n    <tr>\n      <th>45</th>\n      <td>183</td>\n      <td>일반인</td>\n      <td>주형준</td>\n      <td>응급의학과</td>\n      <td>농약 흡입 가능성에 대해</td>\n      <td>안녕하세요! 시골에서 지금 생활을 하고 있는데요, 옆집 할머니네 마당 근처에 낡은 ...</td>\n      <td>농약 흡입 가능성에 대해, 안녕하세요! 시골에서 지금 생활을 하고 있는데요, 옆집 ...</td>\n      <td>NaN</td>\n      <td>NaN</td>\n      <td>농약</td>\n      <td>...</td>\n      <td>10-15분</td>\n      <td>NaN</td>\n      <td>NaN</td>\n      <td>NaN</td>\n      <td>NaN</td>\n      <td>안녕하세요. 하이닥-네이버 지식iN 상담의 한재병 입니다. ​ 현재 정보로 판단하면...</td>\n      <td>NaN</td>\n      <td>농약은 종류와 성분에 따라 독성이 다르며, 특히 오래된 농약은 현재 사용이 금지된 ...</td>\n      <td>2023.06.30.</td>\n      <td>한재병</td>\n    </tr>\n    <tr>\n      <th>46</th>\n      <td>400</td>\n      <td>일반인</td>\n      <td>생성</td>\n      <td>NaN</td>\n      <td>NaN</td>\n      <td>NaN</td>\n      <td>저희 아들이 4살이고 몸무게는 16kg인데요, 오늘 낮에 밖에서 놀다가 농약이 뿌려...</td>\n      <td>4세</td>\n      <td>남자</td>\n      <td>농약</td>\n      <td>...</td>\n      <td>10분</td>\n      <td>피부가 빨개지고 가려움, 붉어진 부위가 부어오름</td>\n      <td>16kg</td>\n      <td>NaN</td>\n      <td>비눗물로 깨끗이 씻음</td>\n      <td>NaN</td>\n      <td>NaN</td>\n      <td>농약이 피부에 직접 닿은 후 나타나는 증상은 농약의 종류와 성분에 따라 다를 수 있...</td>\n      <td>NaN</td>\n      <td>gpt-4o-2024-11-20</td>\n    </tr>\n    <tr>\n      <th>47</th>\n      <td>395</td>\n      <td>일반인</td>\n      <td>생성</td>\n      <td>NaN</td>\n      <td>NaN</td>\n      <td>NaN</td>\n      <td>30대 초반 여성인데요, 오늘 아침에 정원 작업하면서 제초제 같은 농약을 사용했거든...</td>\n      <td>30대 초반</td>\n      <td>여성</td>\n      <td>농약</td>\n      <td>...</td>\n      <td>15분</td>\n      <td>목이 따끔거림, 약간 숨이 답답한 느낌, 머리가 띵함</td>\n      <td>NaN</td>\n      <td>NaN</td>\n      <td>물을 마시고 코를 씻어냄</td>\n      <td>NaN</td>\n      <td>NaN</td>\n      <td>농약은 종류에 따라 독성이 다르며, 흡입, 섭취, 피부 접촉 등 노출 경로에 따라 ...</td>\n      <td>NaN</td>\n      <td>gpt-4o-2024-11-20</td>\n    </tr>\n  </tbody>\n</table>\n<p>48 rows × 24 columns</p>\n</div>"
     },
     "execution_count": 15,
     "metadata": {},
     "output_type": "execute_result"
    }
   ],
   "source": [
    "TBL_NAME = \"ChatTable\"\n",
    "COLUMN_NAME = \"노출제품명\"\n",
    "QUERY = f\"SELECT DISTINCT {COLUMN_NAME} FROM {TBL_NAME};\"\n",
    "question = \"우리 아이가 농약(그라목손)을 먹었어요. 어떡해요!\"\n",
    "KEYWORD = search_keyword(question)\n",
    "\n",
    "return_searched_keyword(TBL_NAME, DB_CONFIG, COLUMN_NAME, KEYWORD)"
   ]
  },
  {
   "cell_type": "code",
   "execution_count": null,
   "id": "3943888b0d1a4d9",
   "metadata": {
    "collapsed": false
   },
   "outputs": [],
   "source": []
  }
 ],
 "metadata": {
  "kernelspec": {
   "display_name": "Python 3",
   "language": "python",
   "name": "python3"
  },
  "language_info": {
   "codemirror_mode": {
    "name": "ipython",
    "version": 2
   },
   "file_extension": ".py",
   "mimetype": "text/x-python",
   "name": "python",
   "nbconvert_exporter": "python",
   "pygments_lexer": "ipython2",
   "version": "2.7.6"
  }
 },
 "nbformat": 4,
 "nbformat_minor": 5
}
