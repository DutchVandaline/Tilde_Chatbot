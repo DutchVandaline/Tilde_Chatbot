{
 "cells": [
  {
   "cell_type": "code",
   "outputs": [],
   "source": [
    "import os\n",
    "import torch\n",
    "import json\n",
    "import torch.nn as nn\n",
    "import torch.optim as optim\n",
    "from torch.utils.data import Dataset\n",
    "import torch.nn.functional as F\n",
    "\n",
    "from tqdm.auto import tqdm\n",
    "from sklearn.metrics import f1_score\n",
    "from torch.utils.data import DataLoader\n",
    "\n",
    "from sklearn.metrics import confusion_matrix, roc_curve, auc\n",
    "import matplotlib.pyplot as plt\n",
    "\n",
    "from transformers import AutoTokenizer, AutoModelForSequenceClassification"
   ],
   "metadata": {
    "collapsed": false,
    "ExecuteTime": {
     "end_time": "2025-06-23T05:39:52.472378900Z",
     "start_time": "2025-06-23T05:39:47.799296800Z"
    }
   },
   "id": "2d8e59e88c31ce7b",
   "execution_count": 1
  },
  {
   "cell_type": "code",
   "outputs": [],
   "source": [
    "device = torch.device(\"cuda\" if torch.cuda.is_available() else \"cpu\")"
   ],
   "metadata": {
    "collapsed": false,
    "ExecuteTime": {
     "end_time": "2025-06-23T05:39:57.670660600Z",
     "start_time": "2025-06-23T05:39:57.663658700Z"
    }
   },
   "id": "87fc4818bf4c4278",
   "execution_count": 2
  },
  {
   "cell_type": "code",
   "outputs": [],
   "source": [
    "#!git clone https://huggingface.co/madatnlp/km-bert"
   ],
   "metadata": {
    "collapsed": false,
    "ExecuteTime": {
     "end_time": "2025-06-23T05:39:58.060662Z",
     "start_time": "2025-06-23T05:39:58.039663Z"
    }
   },
   "id": "5dd8b84e525610dc",
   "execution_count": 3
  },
  {
   "cell_type": "markdown",
   "source": [
    "## Tokenizer"
   ],
   "metadata": {
    "collapsed": false
   },
   "id": "4b00773bf1c365b5"
  },
  {
   "cell_type": "code",
   "outputs": [
    {
     "name": "stdout",
     "output_type": "stream",
     "text": [
      "All files have been tokenized and saved with sliding windows.\n"
     ]
    }
   ],
   "source": [
    "km_bert_dir = \"km-bert\"\n",
    "kmbert_tokenizer = AutoTokenizer.from_pretrained(km_bert_dir, do_lower_case=False)\n",
    "\n",
    "max_seq_len = 256\n",
    "stride = 128\n",
    "input_dir = \"Data/4Class_Dataset\"\n",
    "output_dir = \"Data/4Class_Dataset_Tokenized\"\n",
    "\n",
    "os.makedirs(output_dir, exist_ok=True)\n",
    "\n",
    "def tokenize_with_sliding_window(text: str):\n",
    "    tokens = kmbert_tokenizer(text, return_tensors=\"pt\", padding='longest', truncation=True, max_length=512)\n",
    "    input_ids = tokens['input_ids'].squeeze(0)\n",
    "    attention_mask = tokens['attention_mask'].squeeze(0)\n",
    "\n",
    "    tokenized_windows = []\n",
    "    num_windows = (len(input_ids) - max_seq_len + stride) // stride + 1\n",
    "    for i in range(num_windows):\n",
    "        start = i * stride\n",
    "        end = start + max_seq_len\n",
    "        input_ids_window = input_ids[start:end]\n",
    "        attention_mask_window = attention_mask[start:end]\n",
    "\n",
    "        if len(input_ids_window) < max_seq_len:\n",
    "            padding_length = max_seq_len - len(input_ids_window)\n",
    "            input_ids_window = torch.cat([input_ids_window, torch.zeros(padding_length, dtype=torch.long)])\n",
    "            attention_mask_window = torch.cat([attention_mask_window, torch.zeros(padding_length, dtype=torch.long)])\n",
    "\n",
    "        tokenized_windows.append({'input_ids': input_ids_window, 'attention_mask': attention_mask_window})\n",
    "\n",
    "    return tokenized_windows\n",
    "\n",
    "for root, _, files in os.walk(input_dir):\n",
    "    for filename in files:\n",
    "        if filename.endswith(\".json\"):\n",
    "            filepath = os.path.join(root, filename)\n",
    "\n",
    "            with open(filepath, 'r', encoding='utf-8') as file:\n",
    "                data = json.load(file)\n",
    "\n",
    "            if \"modifiedquery\" in data:\n",
    "                text = data[\"modifiedquery\"]\n",
    "\n",
    "                tokenized_windows = tokenize_with_sliding_window(text)\n",
    "\n",
    "                relative_path = os.path.relpath(root, input_dir)\n",
    "                output_subdir = os.path.join(output_dir, relative_path)\n",
    "                os.makedirs(output_subdir, exist_ok=True)\n",
    "\n",
    "                for i, window in enumerate(tokenized_windows):\n",
    "                    output_path = os.path.join(output_subdir, f\"{os.path.splitext(filename)[0]}_window_{i}.pt\")\n",
    "                    torch.save(window, output_path)\n",
    "\n",
    "print(\"All files have been tokenized and saved with sliding windows.\")\n"
   ],
   "metadata": {
    "collapsed": false,
    "ExecuteTime": {
     "end_time": "2025-04-11T08:20:08.745309300Z",
     "start_time": "2025-04-11T08:20:06.888496300Z"
    }
   },
   "id": "7e7dfd71b52d8c3d",
   "execution_count": 20
  },
  {
   "cell_type": "code",
   "outputs": [],
   "source": [
    "class PreprocessedDataset(Dataset):\n",
    "    def __init__(self, root_dir):\n",
    "        self.data = []\n",
    "        self.class_to_idx = self._get_class_to_idx(root_dir)\n",
    "        for root, _, files in os.walk(root_dir):\n",
    "            for file in files:\n",
    "                if file.endswith('.pt'):\n",
    "                    class_name = os.path.basename(root) \n",
    "                    label = self.class_to_idx[class_name]\n",
    "\n",
    "                    self.data.append({\n",
    "                        'file_path': os.path.join(root, file),\n",
    "                        'label': label\n",
    "                    })\n",
    "\n",
    "    def _get_class_to_idx(self, root_dir):\n",
    "        class_names = sorted(os.listdir(root_dir)) \n",
    "        return {class_name: idx for idx, class_name in enumerate(class_names)}\n",
    "\n",
    "    def __len__(self):\n",
    "        return len(self.data)\n",
    "\n",
    "    def __getitem__(self, idx):\n",
    "        data_item = self.data[idx]\n",
    "        data = torch.load(data_item['file_path'], weights_only=False)\n",
    "\n",
    "        input_ids = data['input_ids']\n",
    "        attention_mask = data['attention_mask']\n",
    "        label = torch.tensor(data_item['label'], dtype=torch.long) \n",
    "\n",
    "        if torch.isnan(input_ids).any() or torch.isinf(input_ids).any():\n",
    "            print(f\"NaN or Inf detected in input_ids at index {idx}\")\n",
    "        if torch.isnan(attention_mask).any() or torch.isinf(attention_mask).any():\n",
    "            print(f\"NaN or Inf detected in attention_mask at index {idx}\")\n",
    "\n",
    "\n",
    "        return {\n",
    "            'input_ids': input_ids,\n",
    "            'attention_mask': attention_mask,\n",
    "            'label': label\n",
    "        }\n"
   ],
   "metadata": {
    "collapsed": false,
    "ExecuteTime": {
     "end_time": "2025-04-11T08:20:19.654196800Z",
     "start_time": "2025-04-11T08:20:19.637197200Z"
    }
   },
   "id": "94e085d618b4c94a",
   "execution_count": 21
  },
  {
   "cell_type": "code",
   "outputs": [],
   "source": [
    "def train_step(model, dataloader, loss_fn, optimizer, device):\n",
    "    model.train()\n",
    "    train_running_loss = 0.0\n",
    "    train_correct = 0\n",
    "    total_train_samples = 0\n",
    "\n",
    "    for batch in dataloader:\n",
    "        input_ids = batch['input_ids'].to(device)\n",
    "        attention_mask = batch['attention_mask'].to(device)\n",
    "        labels = batch['label'].to(device)\n",
    "\n",
    "        outputs = model(input_ids=input_ids, attention_mask=attention_mask, labels=labels)\n",
    "\n",
    "        loss = outputs.loss if hasattr(outputs, 'loss') else loss_fn(outputs.logits, labels)\n",
    "        logits = outputs.logits if hasattr(outputs, 'logits') else outputs\n",
    "\n",
    "        optimizer.zero_grad()\n",
    "        loss.backward()\n",
    "        torch.nn.utils.clip_grad_norm_(model.parameters(), max_norm=1.0)\n",
    "        optimizer.step()\n",
    "        \n",
    "        train_running_loss += loss.item()\n",
    "\n",
    "        # Calculate training accuracy\n",
    "        predictions = torch.argmax(logits, dim=1)\n",
    "        train_correct += (predictions == labels).sum().item()\n",
    "        total_train_samples += labels.size(0)\n",
    "\n",
    "    avg_train_loss = train_running_loss / len(dataloader)\n",
    "    train_accuracy = train_correct / total_train_samples\n",
    "    return avg_train_loss, train_accuracy\n"
   ],
   "metadata": {
    "collapsed": false,
    "ExecuteTime": {
     "end_time": "2025-04-11T08:20:20.276567700Z",
     "start_time": "2025-04-11T08:20:20.261569100Z"
    }
   },
   "id": "693cb08a64aa778e",
   "execution_count": 22
  },
  {
   "cell_type": "code",
   "outputs": [],
   "source": [
    "def test_step(model, dataloader, loss_fn, device, num_classes, epoch, class_names_dir):\n",
    "    model.eval()\n",
    "    val_running_loss = 0.0\n",
    "    val_correct = 0\n",
    "    total_val_samples = 0\n",
    "    all_predictions = []\n",
    "    all_labels = []\n",
    "    all_probs = []\n",
    "\n",
    "    class_names = sorted(os.listdir(class_names_dir))\n",
    "\n",
    "    result_dir = f\"Models/4_class_classification/Result_{epoch}\"\n",
    "    os.makedirs(result_dir, exist_ok=True)\n",
    "\n",
    "    with torch.no_grad():\n",
    "        for batch in dataloader:\n",
    "            input_ids = batch['input_ids'].to(device)\n",
    "            attention_mask = batch['attention_mask'].to(device)\n",
    "            labels = batch['label'].to(device)\n",
    "\n",
    "            outputs = model(input_ids=input_ids, attention_mask=attention_mask, labels=labels)\n",
    "\n",
    "            loss = outputs.loss if hasattr(outputs, 'loss') else loss_fn(outputs.logits, labels)\n",
    "            logits = outputs.logits if hasattr(outputs, 'logits') else outputs\n",
    "\n",
    "            probs = F.softmax(logits, dim=1)\n",
    "\n",
    "            val_running_loss += loss.item()\n",
    "\n",
    "            predictions = torch.argmax(logits, dim=1)\n",
    "            val_correct += (predictions == labels).sum().item()\n",
    "            total_val_samples += labels.size(0)\n",
    "\n",
    "            all_predictions.extend(predictions.cpu().tolist())\n",
    "            all_labels.extend(labels.cpu().tolist())\n",
    "            all_probs.extend(probs.cpu().tolist())\n",
    "\n",
    "    avg_val_loss = val_running_loss / len(dataloader)\n",
    "    val_accuracy = val_correct / total_val_samples\n",
    "\n",
    "    conf_matrix = confusion_matrix(all_labels, all_predictions)\n",
    "    plt.figure(figsize=(8, 6))\n",
    "    plt.title(f\"Confusion Matrix (Epoch {epoch})\")\n",
    "    plt.imshow(conf_matrix, interpolation='nearest', cmap=plt.cm.Blues)\n",
    "    plt.colorbar()\n",
    "    plt.xlabel(\"Predicted Label\")\n",
    "    plt.ylabel(\"True Label\")\n",
    "    plt.xticks(ticks=range(num_classes), labels=class_names, rotation=45)\n",
    "    plt.yticks(ticks=range(num_classes), labels=class_names)\n",
    "    plt.savefig(os.path.join(result_dir, f\"confusion_matrix_epoch_{epoch}.png\"))\n",
    "    plt.close()\n",
    "\n",
    "    plt.figure(figsize=(10, 8))\n",
    "    all_labels_onehot = torch.nn.functional.one_hot(torch.tensor(all_labels), num_classes=num_classes).numpy()\n",
    "    all_probs_array = torch.tensor(all_probs).numpy()\n",
    "\n",
    "    for i in range(num_classes):\n",
    "        fpr, tpr, _ = roc_curve(all_labels_onehot[:, i], all_probs_array[:, i])\n",
    "        roc_auc = auc(fpr, tpr)\n",
    "        plt.plot(fpr, tpr, label=f\"{class_names[i]} (AUC = {roc_auc:.2f})\")\n",
    "\n",
    "    plt.plot([0, 1], [0, 1], 'k--')\n",
    "    plt.xlabel(\"False Positive Rate\")\n",
    "    plt.ylabel(\"True Positive Rate\")\n",
    "    plt.title(f\"ROC Curve (Epoch {epoch})\")\n",
    "    plt.legend(loc=\"lower right\")\n",
    "    plt.savefig(os.path.join(result_dir, f\"roc_curve_epoch_{epoch}.png\"))\n",
    "    plt.close()\n",
    "\n",
    "    return avg_val_loss, val_accuracy, all_predictions, all_labels\n"
   ],
   "metadata": {
    "collapsed": false,
    "ExecuteTime": {
     "end_time": "2025-04-11T08:22:21.766469600Z",
     "start_time": "2025-04-11T08:22:21.755461700Z"
    }
   },
   "id": "4c3dc14a0eccff8b",
   "execution_count": 28
  },
  {
   "cell_type": "markdown",
   "source": [
    "### Hyper-parameters"
   ],
   "metadata": {
    "collapsed": false
   },
   "id": "a3f42b09dfcc9c1f"
  },
  {
   "cell_type": "code",
   "outputs": [],
   "source": [
    "batch_size = 16\n",
    "num_epochs = 60\n",
    "learning_rate = 1e-5\n",
    "num_classes = 4\n",
    "root_dir = \"Data/4Class_Dataset_Tokenized\"\n",
    "save_dir = \"Models/4_class_classification\""
   ],
   "metadata": {
    "collapsed": false,
    "ExecuteTime": {
     "end_time": "2025-04-11T08:22:23.863205500Z",
     "start_time": "2025-04-11T08:22:23.855204500Z"
    }
   },
   "id": "1f693716e26250e1",
   "execution_count": 29
  },
  {
   "cell_type": "code",
   "outputs": [
    {
     "name": "stderr",
     "output_type": "stream",
     "text": [
      "Some weights of BertForSequenceClassification were not initialized from the model checkpoint at km-bert and are newly initialized: ['classifier.bias', 'classifier.weight']\n",
      "You should probably TRAIN this model on a down-stream task to be able to use it for predictions and inference.\n"
     ]
    },
    {
     "name": "stdout",
     "output_type": "stream",
     "text": [
      "DataLoader Process Completed\n"
     ]
    },
    {
     "data": {
      "text/plain": "  0%|          | 0/60 [00:00<?, ?it/s]",
      "application/vnd.jupyter.widget-view+json": {
       "version_major": 2,
       "version_minor": 0,
       "model_id": "6690d564b09548a4aba696d65a0931f8"
      }
     },
     "metadata": {},
     "output_type": "display_data"
    },
    {
     "name": "stdout",
     "output_type": "stream",
     "text": [
      "\n",
      "Epoch 1/60\n",
      "\n",
      "Train Loss: 0.6372, Train Accuracy: 0.7821\n",
      "Test Loss: 0.2207, Test Accuracy: 0.9420, F1-Score: 0.9392\n",
      "Model for epoch 1 saved to Models/4_class_classification\\4_Class_Classification_epoch_1.pth\n",
      "\n",
      "Epoch 2/60\n"
     ]
    },
    {
     "ename": "KeyboardInterrupt",
     "evalue": "",
     "output_type": "error",
     "traceback": [
      "\u001B[1;31m---------------------------------------------------------------------------\u001B[0m",
      "\u001B[1;31mKeyboardInterrupt\u001B[0m                         Traceback (most recent call last)",
      "Cell \u001B[1;32mIn[32], line 23\u001B[0m\n\u001B[0;32m     20\u001B[0m \u001B[38;5;28mprint\u001B[39m(\u001B[38;5;124mf\u001B[39m\u001B[38;5;124m\"\u001B[39m\u001B[38;5;130;01m\\n\u001B[39;00m\u001B[38;5;124mEpoch \u001B[39m\u001B[38;5;132;01m{\u001B[39;00mepoch\u001B[38;5;250m \u001B[39m\u001B[38;5;241m+\u001B[39m\u001B[38;5;250m \u001B[39m\u001B[38;5;241m1\u001B[39m\u001B[38;5;132;01m}\u001B[39;00m\u001B[38;5;124m/\u001B[39m\u001B[38;5;132;01m{\u001B[39;00mnum_epochs\u001B[38;5;132;01m}\u001B[39;00m\u001B[38;5;124m\"\u001B[39m)\n\u001B[0;32m     22\u001B[0m \u001B[38;5;66;03m# Train step\u001B[39;00m\n\u001B[1;32m---> 23\u001B[0m train_loss, train_accuracy \u001B[38;5;241m=\u001B[39m \u001B[43mtrain_step\u001B[49m\u001B[43m(\u001B[49m\u001B[43mmodel\u001B[49m\u001B[43m,\u001B[49m\u001B[43m \u001B[49m\u001B[43mtrain_dataloader\u001B[49m\u001B[43m,\u001B[49m\u001B[43m \u001B[49m\u001B[43mloss_fn\u001B[49m\u001B[43m,\u001B[49m\u001B[43m \u001B[49m\u001B[43moptimizer\u001B[49m\u001B[43m,\u001B[49m\u001B[43m \u001B[49m\u001B[43mdevice\u001B[49m\u001B[43m)\u001B[49m\n\u001B[0;32m     24\u001B[0m \u001B[38;5;28mprint\u001B[39m(\u001B[38;5;124mf\u001B[39m\u001B[38;5;124m\"\u001B[39m\u001B[38;5;130;01m\\n\u001B[39;00m\u001B[38;5;124mTrain Loss: \u001B[39m\u001B[38;5;132;01m{\u001B[39;00mtrain_loss\u001B[38;5;132;01m:\u001B[39;00m\u001B[38;5;124m.4f\u001B[39m\u001B[38;5;132;01m}\u001B[39;00m\u001B[38;5;124m, Train Accuracy: \u001B[39m\u001B[38;5;132;01m{\u001B[39;00mtrain_accuracy\u001B[38;5;132;01m:\u001B[39;00m\u001B[38;5;124m.4f\u001B[39m\u001B[38;5;132;01m}\u001B[39;00m\u001B[38;5;124m\"\u001B[39m)\n\u001B[0;32m     25\u001B[0m torch\u001B[38;5;241m.\u001B[39mcuda\u001B[38;5;241m.\u001B[39mempty_cache()\n",
      "Cell \u001B[1;32mIn[22], line 22\u001B[0m, in \u001B[0;36mtrain_step\u001B[1;34m(model, dataloader, loss_fn, optimizer, device)\u001B[0m\n\u001B[0;32m     19\u001B[0m torch\u001B[38;5;241m.\u001B[39mnn\u001B[38;5;241m.\u001B[39mutils\u001B[38;5;241m.\u001B[39mclip_grad_norm_(model\u001B[38;5;241m.\u001B[39mparameters(), max_norm\u001B[38;5;241m=\u001B[39m\u001B[38;5;241m1.0\u001B[39m)\n\u001B[0;32m     20\u001B[0m optimizer\u001B[38;5;241m.\u001B[39mstep()\n\u001B[1;32m---> 22\u001B[0m train_running_loss \u001B[38;5;241m+\u001B[39m\u001B[38;5;241m=\u001B[39m \u001B[43mloss\u001B[49m\u001B[38;5;241;43m.\u001B[39;49m\u001B[43mitem\u001B[49m\u001B[43m(\u001B[49m\u001B[43m)\u001B[49m\n\u001B[0;32m     24\u001B[0m \u001B[38;5;66;03m# Calculate training accuracy\u001B[39;00m\n\u001B[0;32m     25\u001B[0m predictions \u001B[38;5;241m=\u001B[39m torch\u001B[38;5;241m.\u001B[39margmax(logits, dim\u001B[38;5;241m=\u001B[39m\u001B[38;5;241m1\u001B[39m)\n",
      "\u001B[1;31mKeyboardInterrupt\u001B[0m: "
     ]
    }
   ],
   "source": [
    "kmbert_tokenizer = AutoTokenizer.from_pretrained(km_bert_dir, do_lower_case=False)\n",
    "vocab_size = kmbert_tokenizer.vocab_size\n",
    "\n",
    "class_names_dir = \"Data/4Class_Dataset_Tokenized/Train\"\n",
    "\n",
    "# Dataset and DataLoader\n",
    "train_dataset = PreprocessedDataset(os.path.join(root_dir, \"Train\"))\n",
    "test_dataset = PreprocessedDataset(os.path.join(root_dir, \"Test\"))\n",
    "\n",
    "train_dataloader = DataLoader(train_dataset, batch_size=batch_size, shuffle=True)\n",
    "test_dataloader = DataLoader(test_dataset, batch_size=batch_size, shuffle=False)\n",
    "\n",
    "print(\"DataLoader Process Completed\")\n",
    "\n",
    "model = AutoModelForSequenceClassification.from_pretrained(km_bert_dir, num_labels=num_classes).to(device)\n",
    "loss_fn = nn.CrossEntropyLoss()\n",
    "optimizer = optim.AdamW(model.parameters(), lr=learning_rate)\n",
    "\n",
    "for epoch in tqdm(range(num_epochs)):\n",
    "    print(f\"\\nEpoch {epoch + 1}/{num_epochs}\")\n",
    "\n",
    "    # Train step\n",
    "    train_loss, train_accuracy = train_step(model, train_dataloader, loss_fn, optimizer, device)\n",
    "    print(f\"\\nTrain Loss: {train_loss:.4f}, Train Accuracy: {train_accuracy:.4f}\")\n",
    "    torch.cuda.empty_cache()\n",
    "\n",
    "    # Validation step\n",
    "    test_loss, test_accuracy, test_predictions, test_labels = test_step(model, test_dataloader, loss_fn, device, num_classes, epoch, class_names_dir)\n",
    "    f1 = f1_score(test_labels, test_predictions, average='weighted')\n",
    "    print(f\"Test Loss: {test_loss:.4f}, Test Accuracy: {test_accuracy:.4f}, F1-Score: {f1:.4f}\")\n",
    "\n",
    "    torch.cuda.empty_cache()\n",
    "\n",
    "    epoch_model_path = os.path.join(save_dir, f\"4_Class_Classification_epoch_{epoch + 1}.pth\")\n",
    "    torch.save(model.state_dict(), epoch_model_path)\n",
    "    print(f\"Model for epoch {epoch + 1} saved to {epoch_model_path}\")"
   ],
   "metadata": {
    "collapsed": false,
    "ExecuteTime": {
     "end_time": "2025-04-11T08:24:53.075021800Z",
     "start_time": "2025-04-11T08:24:32.142674700Z"
    }
   },
   "id": "b6d419cd982a9892",
   "execution_count": 32
  },
  {
   "cell_type": "code",
   "outputs": [],
   "source": [],
   "metadata": {
    "collapsed": false
   },
   "id": "913d1bed24d0cb3a"
  }
 ],
 "metadata": {
  "kernelspec": {
   "display_name": "Python 3",
   "language": "python",
   "name": "python3"
  },
  "language_info": {
   "codemirror_mode": {
    "name": "ipython",
    "version": 2
   },
   "file_extension": ".py",
   "mimetype": "text/x-python",
   "name": "python",
   "nbconvert_exporter": "python",
   "pygments_lexer": "ipython2",
   "version": "2.7.6"
  }
 },
 "nbformat": 4,
 "nbformat_minor": 5
}
